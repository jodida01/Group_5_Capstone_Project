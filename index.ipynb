{
 "cells": [
  {
   "cell_type": "markdown",
   "id": "f2b1ecf8",
   "metadata": {},
   "source": [
    "# Project Overview: "
   ]
  },
  {
   "cell_type": "markdown",
   "id": "7dcd246c",
   "metadata": {},
   "source": [
    "\n",
    "## Collaborators:\n",
    "\n",
    "1. Agnes Chomba\n",
    "\n",
    "2. Derrick Malinga\n",
    "\n",
    "3. Erick Okacha\n",
    "\n",
    "4. Judah Odida\n",
    "\n",
    "5. Lucas Ominde\n",
    "\n",
    "6. Nick  Mwai\n",
    "\n",
    "7. Olgah Omollo\n",
    "\n",
    "# FinComBot - Compliance Chatbot \n",
    "\n",
    "## 1. Background\n",
    "Financial institutions face increasing pressure to comply with stringent regulatory frameworks governing customer onboarding, Know Your Customer (KYC), Customer Due Diligence (CDD), Enhanced Due Diligence (EDD), Anti-Money Laundering (AML), Counter Terrorism Financing, Counter Proliferation Financing (CPF), and sanctions screening. These obligations are complex, continuously evolving, and vary across jurisdictions.\n",
    "\n",
    "Staff often face difficulties accessing and interpreting regulatory documents and internal policies, leading to:\n",
    "-\tDelays in onboarding, affecting customer experience and revenue.\n",
    "-\tInconsistent application of compliance procedures.\n",
    "-\tOverdependence on compliance officers for basic guidance.\n",
    "-\tIncreased risk of regulatory breaches which may lead to fining by regulators and put the bank at risk of its license being suspended.\n",
    "\n",
    "\n",
    "\n"
   ]
  },
  {
   "cell_type": "markdown",
   "id": "3b06af7f",
   "metadata": {},
   "source": [
    "#  2. Business Objective\n",
    "\n",
    "a.)  Build a chatbot that retrieves accurate compliance information \n",
    "from the bank’s KYC/AML/CTF/CPF policies and responds to staff queries.\n"
   ]
  },
  {
   "cell_type": "markdown",
   "id": "7b5d1ad0",
   "metadata": {},
   "source": [
    "\n",
    "## 3. Target Audience\n",
    "\n",
    "a.) Front office / Relationship Managers (who onboard customers)\n",
    "\n",
    "b.)  Operations staff (who process documents)\n",
    "\n",
    "c.) Compliance officers (for guidance validation)\n",
    "\n",
    "d.) New staff (as a training tool)\n",
    "\n",
    "e.) Risk & Audit teams (for oversight)\n",
    "\n",
    "\n",
    "##  4. Data Understanding\n",
    "Data Source: \n",
    "a. Internal compliance policy, stored in Word (.docx) format,  Contains: KYC procedures, AML red flags, CDD/EDD checklists, risk rating methodology, regulatory guidelines (FATF, CBK, CMA)\n",
    "\n",
    "Data Characteristics:Unstructured text (paragraphs, checklists), Multiple sections (policies, procedures, workflows), Needs preprocessing before AI ingestion\n",
    "\n",
    "Data Protection: Given the sensitive nature of the data used in this project, it has been excluded from version control by adding it to .gitignore to maintain security and confidentiality."
   ]
  },
  {
   "cell_type": "markdown",
   "id": "9cfb0a67",
   "metadata": {},
   "source": [
    "### 4.1 Loading Data"
   ]
  },
  {
   "cell_type": "code",
   "execution_count": 1,
   "id": "cd5b24c8",
   "metadata": {},
   "outputs": [],
   "source": [
    "# importing libraries\n",
    "import pandas as pd\n",
    "import docx as docx\n",
    "from docx.shared import Pt\n",
    "\n",
    "import os\n",
    "import pickle\n",
    "import os\n",
    "import matplotlib.pyplot as plt\n",
    "import re\n",
    "import unicodedata\n",
    "\n",
    "import os, textwrap\n",
    "\n",
    "# Ensure TensorFlow is disabled (avoids keras issues)\n",
    "os.environ[\"USE_TF\"] = \"0\"\n",
    "os.environ[\"TRANSFORMERS_NO_TF\"] = \"1\"\n",
    "\n",
    "from sentence_transformers import SentenceTransformer,InputExample, losses\n",
    "from torch.utils.data import DataLoader\n",
    "from sklearn.feature_extraction.text import TfidfVectorizer\n",
    "from sklearn.preprocessing import normalize\n",
    "from sklearn.metrics.pairwise import cosine_similarity\n",
    "import faiss\n",
    "import numpy as np\n",
    "from docx import Document\n",
    "\n",
    "from sklearn.preprocessing import normalize\n",
    "\n",
    "\n",
    "\n",
    "\n"
   ]
  },
  {
   "cell_type": "code",
   "execution_count": 2,
   "id": "7f74c320",
   "metadata": {},
   "outputs": [
    {
     "name": "stderr",
     "output_type": "stream",
     "text": [
      "[nltk_data] Downloading package punkt to\n",
      "[nltk_data]     C:\\Users\\Admin\\AppData\\Roaming\\nltk_data...\n",
      "[nltk_data]   Package punkt is already up-to-date!\n",
      "[nltk_data] Downloading package stopwords to\n",
      "[nltk_data]     C:\\Users\\Admin\\AppData\\Roaming\\nltk_data...\n",
      "[nltk_data]   Package stopwords is already up-to-date!\n"
     ]
    },
    {
     "data": {
      "text/plain": [
       "True"
      ]
     },
     "execution_count": 2,
     "metadata": {},
     "output_type": "execute_result"
    }
   ],
   "source": [
    "import nltk\n",
    "nltk.download('punkt')\n",
    "nltk.download('stopwords')"
   ]
  },
  {
   "cell_type": "markdown",
   "id": "8abdb4a8",
   "metadata": {},
   "source": [
    "### Load the raw document\n",
    "\n",
    "This step involves loading the raw document, which is provided in .docx format. For the pilot phase of this project, the document used will be the Know Your Customer (KYC) Policy, serving as the reference material for testing and validating the document processing workflow."
   ]
  },
  {
   "cell_type": "code",
   "execution_count": 3,
   "id": "5fb0d195",
   "metadata": {},
   "outputs": [
    {
     "name": "stdout",
     "output_type": "stream",
     "text": [
      "OPENING OF ACCOUNTS \n",
      "Revisions Page\n",
      "OPENING OF ACCOUNTS\n",
      "TABLE OF CONTENTS\n",
      "1\tINTRODUCTION\t11\n",
      "1.1\tGeneral\t11\n",
      "2\tACCOUNT OPENING REQUIREMENTS\t11\n",
      "2.1\tKnow Your Customer (KYC)\t11\n",
      "2.2\tAccount Opening Requirements on Referee\t11\n",
      "2.3\tDocumentation Required for Account Opening\t12\n",
      "2.4\tAccount Opening Requirements for Foreign Nationals\t34\n",
      "2.4.1\tResident Foreign Nationals\t34\n",
      "2.4.2\tAccount Opening Requirements for Non-Resident Foreign Nationals (As Per CBK Prudential Guidelines).\t35\n",
      "2.4.3\tMinimum requirements \n"
     ]
    }
   ],
   "source": [
    "from docx import Document\n",
    "\n",
    "def load_docx(file_path):\n",
    "    doc = Document(file_path)\n",
    "    return \"\\n\".join([para.text for para in doc.paragraphs if para.text.strip()])\n",
    "\n",
    "\n",
    "text = load_docx(\"Data/SEC5 - OPENING OF ACCOUNTS (004).docx\")\n",
    "print(text[:500])  # preview first 500 characters"
   ]
  },
  {
   "cell_type": "markdown",
   "id": "de32251a",
   "metadata": {},
   "source": [
    "### 4.2 Data Preprocessing\n",
    "\n",
    "This step involves cleaning and structuring the loaded document to prepare it for further analysis. Key tasks include removing unwanted characters, standardizing text formats, tokenizing content, and extracting relevant sections from the KYC policy. This ensures that the data is consistent, organized, and ready for downstream processing.\n"
   ]
  },
  {
   "cell_type": "markdown",
   "id": "f05b6577",
   "metadata": {},
   "source": [
    "### 4.2.0 Cleaning & normalize text "
   ]
  },
  {
   "cell_type": "code",
   "execution_count": 4,
   "id": "73ed1d8b",
   "metadata": {},
   "outputs": [
    {
     "name": "stdout",
     "output_type": "stream",
     "text": [
      "Working dir: c:\\Users\\Admin\\Documents\\Project 1\\Group_5_Capstone_Project\n",
      "Text variable exists: True\n"
     ]
    }
   ],
   "source": [
    "print(\"Working dir:\", os.getcwd()) # confirm working directory\n",
    "print(\"Text variable exists:\", 'text' in globals()) # confirm text variable is loaded"
   ]
  },
  {
   "cell_type": "markdown",
   "id": "56c0f6c0",
   "metadata": {},
   "source": [
    "At this stage, we perform two quick checks before moving on with preprocessing. First, we confirm the working directory by calling os.getcwd(). This ensures that the project is being executed from the correct folder, so that relative paths such as Data/... will resolve properly. Next, we verify that the document content has been successfully loaded into memory. We do this by checking whether the variable text exists in the current environment using 'text' in globals(). If the output returns True, it means the raw .docx file has been read correctly and stored; if it returns False, we need to revisit the document loading step to ensure the data is available for further processin  \n",
    "\n"
   ]
  },
  {
   "cell_type": "markdown",
   "id": "ec97d752",
   "metadata": {},
   "source": [
    "###  4.2.1 Exploratory Document Statistics"
   ]
  },
  {
   "cell_type": "code",
   "execution_count": 5,
   "id": "2cce8739",
   "metadata": {},
   "outputs": [
    {
     "name": "stdout",
     "output_type": "stream",
     "text": [
      "\n",
      "--- ORIGINAL STATS ---\n",
      "Characters: 165732\n",
      "Words: 26103\n",
      "Non-empty lines: 2531\n",
      "\n",
      "--- PREVIEW (first 5000 chars) ---\n",
      "\n",
      "OPENING OF ACCOUNTS  Revisions Page OPENING OF ACCOUNTS TABLE OF CONTENTS 1       INTRODUCTION    11 1.1     General 11\n",
      "2       ACCOUNT OPENING REQUIREMENTS    11 2.1     Know Your Customer (KYC)        11 2.2     Account Opening\n",
      "Requirements on Referee 11 2.3     Documentation Required for Account Opening      12 2.4     Account Opening\n",
      "Requirements for Foreign Nationals      34 2.4.1   Resident Foreign Nationals      34 2.4.2   Account Opening\n",
      "Requirements for Non-Resident Foreign Nationals (As Per CBK Prudential Guidelines).     35 2.4.3   Minimum requirements\n",
      "for Resident Foreigners    35 2.4.4   Account Opening Requirements for Companies with Foreign Nationals as Directors  35\n",
      "2.4.5   Account Opening Requirements for Temporary Residents (Students, Spouses, Attaché’s to Foreign Missions in Kenya,\n",
      "Next Of Kin etc.)      36 2.4.6   Non-resident Foreigners 36 2.5     Account Opening Requirements for Scrap Metal\n",
      "Dealers    36 2.5.1   Additional Account opening requirements for Scrap Metal Dealers 36 2.6     Requirements for\n",
      "Opening a Medical Fund Account 37 2.7     Account Opening Requirements for Religious Organizations        39 2.7.1\n",
      "Main Church     39 2.7.2   Church Branch Account   39 2.8     Account opening requirements for Private Institutions   40\n",
      "2.9     Requirements for Change of Signatories for Club, Society, Association, Mission, NGO, Trade Union and Self-Help\n",
      "Groups   41 2.9.1   Disputed Changes        41 2.9.2   Source of instructions/Reason to freeze an account      41 2.10\n",
      "Requirements for Opening of Additional Accounts 42 2.11    Type of Forms   42 2.11.1  Conditions for Use of Form A1 (g)\n",
      "43 2.12    Requirements for Change of Signatories and signing mandate for joint account and partnerships account.  45\n",
      "2.13    Customer Centric Products Engagement Forms      48 2.14    Customer Engagement Forms - Critical Data Elements\n",
      "50 3       LIABILITY PRODUCTS      54 4       General Information     55 4.1     Deposits to Accounts    55 4.2\n",
      "Withdrawals from Accounts       56 4.3     Interest on Accounts    56 4.4     Cheque Books    56 4.5     National\n",
      "Government Constituency Development Fund Accounts      56 4.5.1   Dormant Accounts        56 4.5.2   Transfer of\n",
      "Accounts    57 5       ESCROW ACCOUNTS 57 5.1     Customer Initiated Escrow Accounts:     57 5.2     Bank Initiated\n",
      "Escrow Accounts: 58 5.3     Escrow Account Management       58 5.4     Escrow Account Properties       59 6       STAFF\n",
      "ACCOUNTS  59 6.1     Ex-staff Current Accounts       59 6.1.1   Transferring of staff accounts to Ex staff accounts in\n",
      "Finacle at the branch.   60 6.2     Ex-staff Loan accounts  60 6.3     Staff Credit Cards      62 6.3.1   Credit Card\n",
      "Operation While still in Service    62 6.3.2   Staff Members on suspension     62 6.3.3   Staff Leaving the Bank  62\n",
      "6.3.4   Implications    63 7       STANDARDS OF SERVICE    63 7.1     Interviews      63 7.1.1   Prohibited Accounts\n",
      "63 7.2     Controls        64 7.3     Time    64 7.4     Authorizing Officer     65 8       ACCOUNT OPENING PROCESS FLOW\n",
      "(BPMS)     65 8.1     Responsibility  65 8.2     Personal and Jumbo Junior Account Opening Process Flow on BPMS  65 8.3\n",
      "Logging in BPMS (Process Maker) 66 8.4     Starting a case 67 8.5     Customer Type Selection 68 8.6     Creation of\n",
      "Party ID for Marketed Accounts      69 8.7     Applicant Identification Document Verification  69 8.8     Verification\n",
      "Results    70 8.8.1   Finacle Blacklist Results       70 8.8.2   IPRS Information        70 8.8.3   KRA PIN information\n",
      "72 8.8.4   Finacle Existing Accounts       73 8.8.5   Party Relationships     73 8.9     Capture of Customers Details\n",
      "74 8.9.1   Customer Details        74 8.9.2   Party Address Details   75 8.9.3   Physical Address        75 8.9.4\n",
      "Residential Status      75 8.9.5   Contacts Details        76 8.9.6   Contact Person Details  76 8.9.7   Contact\n",
      "Preference      77 8.9.8   Other Co-op Accounts    77 8.9.9   Employment Details      77 8.9.10  KYC Details     79\n",
      "8.9.11  Product Selection and AML Details       79 8.9.12  AML Risk Calculation    81 8.9.13  Account Relationship\n",
      "Details    82 8.9.14  Fatca Details   82 8.10    Cross Selling   82 8.10.1  My payments     82 8.10.2  Mco-op Cash and\n",
      "Online Banking  83 8.10.3  Alerts Subscription     83 8.10.4  Standing Order  84 8.11    Capture of Customers Photo, ID\n",
      "Document Front and Back  84 8.11.1  Walk In Customers       84 8.11.2  Marketed Accounts       85 8.12    Select the\n",
      "Signature Type       85 8.12.1  Capture of Customers Signature  86 8.13    View Account Details    87 8.14    Opening of\n",
      "Multiple Accounts    87 8.15    Generating Documents (e-form)   89 8.16    Signing of Terms and Conditions 89 8.16.1\n",
      "Upload of Documents     90 8.16.2  Saving of Documents     90 8.16.3  Uploading of Documents  90 8.16.4  RTS Cases for\n",
      "Wrong Attachment  91 8.16.5  Amendment Process       91 8.17    Forwarding to BOS for Verification and Quality Assurance\n",
      "92 8.18    Deferred Case   92 8.19    Joint, Sole Proprietorship and Company Accounts Opening Process 93 8.19.1  Process\n",
      "Flow    93 8.20    Alterations on the Account Opening Mandate      94 8.20.1  Confirmation of the Alteration  95 8.21\n",
      "Blacklist Enquiry       95 9       ACCOUNT OPENING PROCESS FLOW (FINACLE)  96 9.1     Responsibility  96 9.2     Retail\n",
      "CIF Process Flow 97 9.3     Creating a Retail Customer Information File (CIF)       98 9.4     Selecting Customer Type\n",
      "99 9.5     Performing Dedup, Negative List, blacklist & IPRS Checks        100 9.6     Capturing Basic Details 103 9.7\n",
      "Capturing Identification Document for a Retail CIF      103 9.7.1   Identification Document Summary 103 9.7.2   Adding a\n",
      "Saved Document using the Add Mode      106 9.7.3   Adding a Saved Document Using\n"
     ]
    }
   ],
   "source": [
    "\n",
    "orig = text  # your loaded document text\n",
    "print(\"\\n--- ORIGINAL STATS ---\")\n",
    "print(\"Characters:\", len(orig))\n",
    "print(\"Words:\", len(orig.split()))\n",
    "non_empty_lines = [L for L in orig.splitlines() if L.strip()]\n",
    "print(\"Non-empty lines:\", len(non_empty_lines))\n",
    "print(\"\\n--- PREVIEW (first 5000 chars) ---\\n\")\n",
    "print(textwrap.fill(orig[:5000], width=120))\n"
   ]
  },
  {
   "cell_type": "markdown",
   "id": "5ae6caa9",
   "metadata": {},
   "source": [
    "Once the raw document text has been successfully loaded, we generate some quick statistics to understand its structure and content. The variable orig stores the loaded text for reference. We then print the number of characters in the document using len(orig), followed by the total word count obtained through len(orig.split()). \n",
    "\n",
    "To check the overall formatting, we also calculate the number of non-empty lines by filtering out blank lines from the text. Finally, to get a sense of the document’s content without scrolling through the entire file, we display a preview of the first 1,000 characters, formatted neatly with textwrap.fill() for readability. This step provides a useful overview of the raw data before deeper preprocessing begins."
   ]
  },
  {
   "cell_type": "code",
   "execution_count": 8,
   "id": "f9539bad",
   "metadata": {},
   "outputs": [],
   "source": [
    "def clean_text(\n",
    "    text,\n",
    "    lowercase=False, # keep case by default (recommended for embeddings)\n",
    "    remove_empty_lines=True,\n",
    "    normalize_unicode=True,\n",
    "    normalize_whitespace=True,\n",
    "    remove_page_numbers=True\n",
    "):\n",
    "    \n",
    "    if normalize_unicode:\n",
    "        text = unicodedata.normalize(\"NFKC\", text)\n",
    "\n",
    "    # Normalize line endings\n",
    "    text = text.replace(\"\\r\\n\", \"\\n\").replace(\"\\r\", \"\\n\")\n",
    "\n",
    "    # Replace non-breaking spaces\n",
    "    text = text.replace(\"\\u00A0\", \" \")\n",
    "\n",
    "    # Normalize common smart quotes to ascii quotes\n",
    "    text = text.replace(\"“\", '\"').replace(\"”\", '\"').replace(\"‘\", \"'\").replace(\"’\", \"'\")\n",
    "\n",
    "    # Remove unprintable control characters (keep \\n and \\t)\n",
    "    text = \"\".join(ch for ch in text if ch.isprintable() or ch in \"\\n\\t\")\n",
    "\n",
    "    # drop page headers/footers that look like \"Page 1\" or just \"1\"\n",
    "    if remove_page_numbers:\n",
    "        out_lines = []\n",
    "        for line in text.split(\"\\n\"):\n",
    "            s = line.strip()\n",
    "            # common patterns to remove\n",
    "            if re.fullmatch(r'page\\s*\\d+', s, flags=re.IGNORECASE):\n",
    "                continue\n",
    "            if re.fullmatch(r'\\d{1,4}', s):  # standalone numbers (likely page numbers)\n",
    "                continue\n",
    "            out_lines.append(line)\n",
    "        text = \"\\n\".join(out_lines)\n",
    "\n",
    "    # removing empty lines and join paragraphs with a blank line\n",
    "    if remove_empty_lines:\n",
    "        lines = [line.strip() for line in text.split(\"\\n\")]\n",
    "        lines = [line for line in lines if line != \"\"]  # drop blank lines\n",
    "        # join paragraphs with a double newline (keeps paragraph boundaries)\n",
    "        text = \"\\n\\n\".join(lines)\n",
    "\n",
    "    # Normalize internal whitespace\n",
    "    if normalize_whitespace:\n",
    "        # collapse multiple spaces/tabs to single space\n",
    "        text = re.sub(r'[ \\t]+', ' ', text)\n",
    "        # collapse 3+ newlines to two (we keep paragraph separation)\n",
    "        text = re.sub(r'\\n{3,}', '\\n\\n', text)\n",
    "        text = text.strip()\n",
    "\n",
    "    if lowercase:\n",
    "        text = text.lower()\n",
    "\n",
    "    return text\n"
   ]
  },
  {
   "cell_type": "markdown",
   "id": "3662fe6f",
   "metadata": {},
   "source": [
    "This function is designed to clean and standardize the raw document text so that it is easier to analyze and feed into downstream processes like embeddings or natural language models. It begins by optionally applying Unicode normalization (NFKC) to fix inconsistent character representations, such as unusual forms of spaces or accented characters. Next, line endings are standardized, non-breaking spaces are replaced with regular spaces, and smart quotes (like “ ” or ‘ ’) are converted into their plain ASCII equivalents.\n",
    "\n",
    "To remove unnecessary clutter, the function filters out unprintable control characters, while retaining tabs and newlines. If enabled, it also removes page numbers or standalone numeric lines (e.g., “1” or “Page 1”), which are common in policy documents but not meaningful for analysis.\n",
    "\n",
    "The function then addresses formatting: each line is trimmed, empty lines can be removed, and remaining text is recombined into paragraphs separated by double newlines. Whitespace normalization collapses multiple spaces or tabs into a single space and ensures that long sequences of newlines are reduced to just two, preserving paragraph boundaries. Finally, an optional step converts all text to lowercase, though this is kept off by default since preserving case often improves the quality of embeddings.\n",
    "\n",
    "The result is a clean, well-structured text string that retains the original meaning while removing noise such as page numbers, excess whitespace, and inconsistent characters."
   ]
  },
  {
   "cell_type": "markdown",
   "id": "6c55af8c",
   "metadata": {},
   "source": [
    "### 4.2.3 Text Cleaning Function\n",
    "\n",
    "The clean_text() function standardizes and cleans raw document text before further processing chunking and embeddings\n",
    "\n",
    "Unicode- Ensures consistent text representation by converting weird or non-standard Unicode characters into their normalized form\n",
    "\n"
   ]
  },
  {
   "cell_type": "code",
   "execution_count": 9,
   "id": "aa795fd8",
   "metadata": {},
   "outputs": [
    {
     "name": "stdout",
     "output_type": "stream",
     "text": [
      "ORIGINAL: chars = 165732 words = 26103\n",
      "CLEANED : chars = 167600 words = 26103\n"
     ]
    }
   ],
   "source": [
    "# Apply cleaning, show before/after\n",
    "cleaned = clean_text(text, lowercase=False)   # keep case by default\n",
    "\n",
    "print(\"ORIGINAL: chars =\", len(text), \"words =\", len(text.split()))\n",
    "print(\"CLEANED : chars =\", len(cleaned), \"words =\", len(cleaned.split()))"
   ]
  },
  {
   "cell_type": "code",
   "execution_count": 10,
   "id": "fdda6cc7",
   "metadata": {},
   "outputs": [
    {
     "name": "stdout",
     "output_type": "stream",
     "text": [
      "\n",
      "--- CLEANED PREVIEW ---\n",
      "\n",
      "OPENING OF ACCOUNTS\n",
      "\n",
      "Revisions Page\n",
      "\n",
      "OPENING OF ACCOUNTS\n",
      "\n",
      "TABLE OF CONTENTS\n",
      "\n",
      "1 INTRODUCTION 11\n",
      "\n",
      "1.1 General 11\n",
      "\n",
      "2 ACCOUNT OPENING REQUIREMENTS 11\n",
      "\n",
      "2.1 Know Your Customer (KYC) 11\n",
      "\n",
      "2.2 Account Opening Requirements on Referee 11\n",
      "\n",
      "2.3 Documentation Required for Account Opening 12\n",
      "\n",
      "2.4 Account Opening Requirements for Foreign Nationals 34\n",
      "\n",
      "2.4.1 Resident Foreign Nationals 34\n",
      "\n",
      "2.4.2 Account Opening Requirements for Non-Resident Foreign Nationals (As Per CBK Prudential Guidelines). 35\n",
      "\n",
      "2.4.3 Minimum r\n"
     ]
    }
   ],
   "source": [
    "# preview first 500 chars of cleaned text\n",
    "print(\"\\n--- CLEANED PREVIEW ---\\n\")\n",
    "print(cleaned[:500])"
   ]
  },
  {
   "cell_type": "code",
   "execution_count": 11,
   "id": "6e5e2314",
   "metadata": {},
   "outputs": [
    {
     "name": "stdout",
     "output_type": "stream",
     "text": [
      "\n",
      "Saved cleaned text to: Data/SEC5 - OPENING OF ACCOUNTS (004)_cleaned.txt\n"
     ]
    }
   ],
   "source": [
    "# save cleaned text to file\n",
    "out_path = r\"Data/SEC5 - OPENING OF ACCOUNTS (004)_cleaned.txt\"\n",
    "with open(out_path, \"w\", encoding=\"utf-8\") as f:\n",
    "    f.write(cleaned)\n",
    "\n",
    "print(\"\\nSaved cleaned text to:\", out_path)\n"
   ]
  },
  {
   "cell_type": "markdown",
   "id": "0b2211c8",
   "metadata": {},
   "source": [
    "## 5. Explatory Data Analysis"
   ]
  },
  {
   "cell_type": "markdown",
   "id": "148bc5f4",
   "metadata": {},
   "source": [
    "### 5.1  Visual to show Original and Cleaned"
   ]
  },
  {
   "cell_type": "code",
   "execution_count": 12,
   "id": "bc66f9f3",
   "metadata": {},
   "outputs": [
    {
     "data": {
      "image/png": "[encoded data removed]",
      "text/plain": [
       "<Figure size 800x500 with 1 Axes>"
      ]
     },
     "metadata": {},
     "output_type": "display_data"
    }
   ],
   "source": [
    "# Compute stats\n",
    "stats = {\n",
    "    \"Original\": {\"chars\": len(text), \"words\": len(text.split())},\n",
    "    \"Cleaned\": {\"chars\": len(cleaned), \"words\": len(cleaned.split())}\n",
    "}\n",
    "\n",
    "labels = list(stats.keys())\n",
    "chars = [stats[label][\"chars\"] for label in labels]\n",
    "words = [stats[label][\"words\"] for label in labels]\n",
    "\n",
    "# Plot\n",
    "fig, ax = plt.subplots(figsize=(8,5))\n",
    "\n",
    "bar_width = 0.35\n",
    "x = range(len(labels))\n",
    "\n",
    "# Two bars for chars and words\n",
    "ax.bar(x, chars, width=bar_width, label='Characters', color='skyblue')\n",
    "ax.bar([i + bar_width for i in x], words, width=bar_width, label='Words', color='salmon')\n",
    "\n",
    "ax.set_xticks([i + bar_width/2 for i in x])\n",
    "ax.set_xticklabels(labels)\n",
    "ax.set_ylabel('Count')\n",
    "ax.set_title('Document Size Before and After Cleaning')\n",
    "ax.legend()\n",
    "\n",
    "plt.show()\n"
   ]
  },
  {
   "cell_type": "code",
   "execution_count": 13,
   "id": "424aba22",
   "metadata": {},
   "outputs": [
    {
     "name": "stdout",
     "output_type": "stream",
     "text": [
      "Metric       |   Original |    Cleaned\n",
      "------------------------------------\n",
      "Characters   |     165732 |     167600\n",
      "Words        |      26103 |      26103\n"
     ]
    }
   ],
   "source": [
    "# compute stats\n",
    "original_chars, original_words = len(text), len(text.split())\n",
    "cleaned_chars, cleaned_words = len(cleaned), len(cleaned.split())\n",
    "\n",
    "# print as table\n",
    "print(f\"{'Metric':<12} | {'Original':>10} | {'Cleaned':>10}\")\n",
    "print(\"-\" * 36)\n",
    "print(f\"{'Characters':<12} | {original_chars:>10} | {cleaned_chars:>10}\")\n",
    "print(f\"{'Words':<12} | {original_words:>10} | {cleaned_words:>10}\")\n"
   ]
  },
  {
   "cell_type": "markdown",
   "id": "09db450c",
   "metadata": {},
   "source": [
    "The cleaning step successfully reduces minor noise without compromising meaningful content, making the document suitable for further processing."
   ]
  },
  {
   "cell_type": "markdown",
   "id": "73a808a1",
   "metadata": {},
   "source": [
    "### 5.2 Spliting Text into Chunks"
   ]
  },
  {
   "cell_type": "code",
   "execution_count": 14,
   "id": "1eb49436",
   "metadata": {},
   "outputs": [
    {
     "name": "stdout",
     "output_type": "stream",
     "text": [
      "Number of chunks: 320\n",
      "\n",
      "--- Sample chunk ---\n",
      "\n",
      "OPENING OF ACCOUNTS\n",
      "\n",
      "Revisions Page\n",
      "\n",
      "OPENING OF ACCOUNTS\n",
      "\n",
      "TABLE OF CONTENTS\n",
      "\n",
      "1 INTRODUCTION 11\n",
      "\n",
      "1.1 General 11\n",
      "\n",
      "2 ACCOUNT OPENING REQUIREMENTS 11\n",
      "\n",
      "2.1 Know Your Customer (KYC) 11\n",
      "\n",
      "2.2 Account Opening Requirements on Referee 11\n",
      "\n",
      "2.3 Documentation Required for Account Opening 12\n",
      "\n",
      "2.4 Account Opening Requirements for Foreign Nationals 34\n",
      "\n",
      "2.4.1 Resident Foreign Nationals 34\n",
      "\n",
      "2.4.2 Account Opening Requirements for Non-Resident Foreign Nationals (As Per CBK Prudential Guidelines).\n"
     ]
    }
   ],
   "source": [
    "def split_text_into_chunks(text, max_chars=500, overlap=50):\n",
    "    \"\"\"\n",
    "    Splits text into chunks of max_chars with optional overlap.\n",
    "    Keeps sentences intact (splits on punctuation).\n",
    "    \"\"\"\n",
    "    # Split text into sentences\n",
    "    sentences = re.split(r'(?<=[.!?]) +', text)\n",
    "    \n",
    "    chunks = []\n",
    "    current_chunk = \"\"\n",
    "    \n",
    "    for sentence in sentences:\n",
    "        if len(current_chunk) + len(sentence) <= max_chars:\n",
    "            current_chunk += \" \" + sentence if current_chunk else sentence\n",
    "        else:\n",
    "            chunks.append(current_chunk.strip())\n",
    "            # start new chunk with overlap\n",
    "            current_chunk = \" \".join(current_chunk.split()[-overlap:]) + \" \" + sentence if overlap else sentence\n",
    "\n",
    "    # Add last chunk\n",
    "    if current_chunk:\n",
    "        chunks.append(current_chunk.strip())\n",
    "    \n",
    "    return chunks\n",
    "\n",
    "# Apply chunking\n",
    "chunks = split_text_into_chunks(cleaned, max_chars=500, overlap=50)\n",
    "\n",
    "print(\"Number of chunks:\", len(chunks))\n",
    "print(\"\\n--- Sample chunk ---\\n\")\n",
    "print(chunks[0])\n"
   ]
  },
  {
   "cell_type": "markdown",
   "id": "0ce5f5b9",
   "metadata": {},
   "source": [
    "A histogram to show if there are outliers in the Chunks"
   ]
  },
  {
   "cell_type": "code",
   "execution_count": 15,
   "id": "a17e5ab0",
   "metadata": {},
   "outputs": [
    {
     "data": {
      "image/png": "[encoded data removed]",
      "text/plain": [
       "<Figure size 1000x500 with 1 Axes>"
      ]
     },
     "metadata": {},
     "output_type": "display_data"
    }
   ],
   "source": [
    "# Compute number of words in each chunk\n",
    "chunk_lengths = [len(chunk.split()) for chunk in chunks]\n",
    "\n",
    "# Create a histogram\n",
    "plt.figure(figsize=(10,5))\n",
    "plt.hist(chunk_lengths, bins=20, color='lightgreen', edgecolor='black')\n",
    "plt.xlabel(\"Number of Words per Chunk\")\n",
    "plt.ylabel(\"Frequency\")\n",
    "plt.title(\"Distribution of Text Chunk Sizes\")\n",
    "plt.show()\n"
   ]
  },
  {
   "cell_type": "markdown",
   "id": "b8c0a54a",
   "metadata": {},
   "source": [
    "The chunk size distribution is centered around ~500 words, which aligns well with our target for embeddings. This indicates a mostly consistent chunking strategy. However, the histogram reveals a tail of smaller chunks (<200 words) and some oversized chunks (>800 words). These could impact efficiency: small chunks may not carry enough semantic content, while large ones risk exceeding model context limits. "
   ]
  },
  {
   "cell_type": "markdown",
   "id": "93c0ff7a",
   "metadata": {},
   "source": [
    "### 5.3  Handling outliers in chunk sizes\n",
    "- Merge very small chunks with their neighbors (to avoid low-content pieces).\n",
    "- Split very large chunks into smaller ones (to stay within context limits)."
   ]
  },
  {
   "cell_type": "code",
   "execution_count": 16,
   "id": "61a46e70",
   "metadata": {},
   "outputs": [
    {
     "name": "stdout",
     "output_type": "stream",
     "text": [
      "Original chunks: 320\n",
      "Balanced chunks: 109\n"
     ]
    }
   ],
   "source": [
    "def balance_chunks(chunks, min_words=300, max_words=600):\n",
    "    \n",
    "    adjusted_chunks = []\n",
    "    buffer = \"\"\n",
    "\n",
    "    for chunk in chunks:\n",
    "        words = chunk.split()\n",
    "\n",
    "        # Case 1: Oversized chunk → split into smaller pieces\n",
    "        if len(words) > max_words:\n",
    "            for i in range(0, len(words), max_words):\n",
    "                adjusted_chunks.append(\" \".join(words[i:i+max_words]))\n",
    "\n",
    "        # Case 2: Small chunk → merge with buffer until it's big enough\n",
    "        elif len(words) < min_words:\n",
    "            buffer += \" \" + \" \".join(words)\n",
    "            if len(buffer.split()) >= min_words:\n",
    "                adjusted_chunks.append(buffer.strip())\n",
    "                buffer = \"\"\n",
    "\n",
    "        # Case 3: Normal chunk → keep as is\n",
    "        else:\n",
    "            adjusted_chunks.append(\" \".join(words))\n",
    "\n",
    "    # Flush any leftover buffer\n",
    "    if buffer.strip():\n",
    "        adjusted_chunks.append(buffer.strip())\n",
    "\n",
    "    return adjusted_chunks\n",
    "\n",
    "\n",
    "# Example usage\n",
    "balanced_chunks = balance_chunks(chunks, min_words=300, max_words=600)\n",
    "\n",
    "print(f\"Original chunks: {len(chunks)}\")\n",
    "print(f\"Balanced chunks: {len(balanced_chunks)}\")\n"
   ]
  },
  {
   "cell_type": "markdown",
   "id": "90f99e5f",
   "metadata": {},
   "source": [
    "## 6.0 Vectorization \n",
    "\n",
    "The cleaned text is transformed into sentence embeddings, which convert sentences into dense vectors that capture meaning rather than just word counts. This enables semantic search and NLP tasks, allowing the system to compare and retrieve text based on context and intent, not just keywords.\n"
   ]
  },
  {
   "cell_type": "markdown",
   "id": "fe5ad039",
   "metadata": {},
   "source": [
    "### 6.1 Transformer embeddings(MiniLM)\n",
    "\n",
    "At this step, the project uses transformer embeddings with MiniLM (all-MiniLM-L6-v2) to represent the KYC policy text. The document is split into smaller chunks, and each chunk is encoded into a 384-dimensional vector that captures its semantic meaning. These embeddings enable advanced tasks such as semantic search, similarity comparison, and document retrieval, while keeping the process efficient and scalable."
   ]
  },
  {
   "cell_type": "code",
   "execution_count": 17,
   "id": "445d7269",
   "metadata": {},
   "outputs": [
    {
     "data": {
      "application/vnd.jupyter.widget-view+json": {
       "model_id": "b7c640da4d5f4b9cb6dadc9c1d014a52",
       "version_major": 2,
       "version_minor": 0
      },
      "text/plain": [
       "Batches:   0%|          | 0/4 [00:00<?, ?it/s]"
      ]
     },
     "metadata": {},
     "output_type": "display_data"
    },
    {
     "name": "stdout",
     "output_type": "stream",
     "text": [
      "Number of  balanced chunks: 109\n",
      "Embedding dimension: 384\n"
     ]
    }
   ],
   "source": [
    "# Loading MiniLM model \n",
    "model = SentenceTransformer('all-MiniLM-L6-v2')\n",
    "\n",
    "# Compute embeddings\n",
    "\n",
    "embeddings = model.encode(balanced_chunks, convert_to_numpy=True, show_progress_bar=True)\n",
    "\n",
    "# Normalize embeddings\n",
    "embeddings_norm = normalize(embeddings, norm='l2')\n",
    "\n",
    "\n",
    "print(\"Number of  balanced chunks:\", len(balanced_chunks))\n",
    "print(\"Embedding dimension:\", embeddings_norm.shape[1])\n"
   ]
  },
  {
   "cell_type": "markdown",
   "id": "7b9cfbee",
   "metadata": {},
   "source": [
    "The project produced 109 balanced chunks, meaning the document was split into 109 text segments. Each chunk is represented by a single embedding vector of 384 dimensions, which is the fixed size of MiniLM embeddings. In effect, the output is a matrix of shape 109 × 384: one embedding per chunk, with 384 values capturing its meaning."
   ]
  },
  {
   "cell_type": "markdown",
   "id": "367fa09f",
   "metadata": {},
   "source": [
    "### 6.2 Saving Chunks with Embeddings\n",
    "At this step, the code pairs each text chunk with its embedding and stores them in a list of dictionaries. This list is then saved to SEC5_embeddings.pkl using pickle, allowing the results to be reloaded later without recomputing."
   ]
  },
  {
   "cell_type": "code",
   "execution_count": 18,
   "id": "9a4e01a3",
   "metadata": {},
   "outputs": [
    {
     "name": "stdout",
     "output_type": "stream",
     "text": [
      " Saved 109 balanced chunks with embeddings to Data/SEC5_embeddings.pkl\n"
     ]
    }
   ],
   "source": [
    "# Combine balanced chunks and embeddings\n",
    "data = [{\"chunk\": chunk, \"embedding\": emb} for chunk, emb in zip(balanced_chunks, embeddings)]\n",
    "\n",
    "# Define output path\n",
    "out_path = r\"Data/SEC5_embeddings.pkl\"\n",
    "\n",
    "# Save to file\n",
    "with open(out_path, \"wb\") as f:\n",
    "    pickle.dump(data, f)\n",
    "\n",
    "print(f\" Saved {len(data)} balanced chunks with embeddings to {out_path}\")\n"
   ]
  },
  {
   "cell_type": "markdown",
   "id": "0a446090",
   "metadata": {},
   "source": [
    "### 6.3 Indexing / Storing\n",
    "Preparing your embeddings for fast retrieval, often using a vector database or a similarity search library-the next step is to load them and store them in a structure that allows fast semantic search.\n",
    "\n",
    "Common approach using FAISS (Facebook AI Similarity Search) for efficient vector indexing:\n",
    " \n",
    " - We load the saved embeddings from the previous step.\n",
    "\n",
    "- Convert them to a NumPy array for FAISS.\n",
    "\n",
    "- Build a FAISS index for fast nearest-neighbor search.\n",
    "\n",
    "- Save the index for later use without recomputing embeddings.\n"
   ]
  },
  {
   "cell_type": "code",
   "execution_count": 19,
   "id": "bfb18b0e",
   "metadata": {},
   "outputs": [
    {
     "name": "stdout",
     "output_type": "stream",
     "text": [
      "Normalized embeddings shape: (109, 384)\n",
      "Number of vectors in index: 109\n",
      "FAISS index saved to Data/SEC5_faiss.index\n"
     ]
    }
   ],
   "source": [
    "# Load saved embeddings\n",
    "with open(r\"Data/SEC5_embeddings.pkl\", \"rb\") as f:\n",
    "    data = pickle.load(f)\n",
    "\n",
    "# Normalize embeddings row-wise (each vector length = 1)\n",
    "print(\"Normalized embeddings shape:\", embeddings_norm.shape)\n",
    "\n",
    "# Build FAISS index for cosine similarity\n",
    "dimension = embeddings_norm.shape[1]  \n",
    "index = faiss.IndexFlatIP(dimension)  # Inner product = cosine similarity after normalization\n",
    "index.add(embeddings_norm)\n",
    "\n",
    "print(\"Number of vectors in index:\", index.ntotal)\n",
    "\n",
    "# Save index to disk\n",
    "faiss.write_index(index, r\"Data/SEC5_faiss.index\")\n",
    "print(\"FAISS index saved to Data/SEC5_faiss.index\")\n"
   ]
  },
  {
   "cell_type": "markdown",
   "id": "57738ff4",
   "metadata": {},
   "source": [
    "The results show that 109 text chunks were converted into 384-dimensional embeddings, all stored in the FAISS index. The index was saved successfully, meaning the document is ready for fast semantic search and retrieval."
   ]
  },
  {
   "cell_type": "markdown",
   "id": "db7b19f4",
   "metadata": {},
   "source": [
    "### 6.4 Querying data "
   ]
  },
  {
   "cell_type": "code",
   "execution_count": 21,
   "id": "b6e48a78",
   "metadata": {},
   "outputs": [
    {
     "name": "stdout",
     "output_type": "stream",
     "text": [
      "\n",
      "Top results:\n",
      "\n",
      "1. (dist=0.6765) Church Registration Certificate from the registrar of societies Board resolution to open the account, signed off by the trustees/Directors. Church's KRA PIN certificate Church's constitution IDs of Si...\n",
      "2. (dist=0.5977) Relationship Officer, to be countersigned by the Branch Manager. Letter of introduction from employer/Sacco; Certified bank statements Bank reference A business search shall be required except for the...\n",
      "3. (dist=0.4841) or conflict Where it appears that the account is being opened for a single transaction or to clear a cheque that cannot be cashed. Where a business name, partnership, companies or societies that have ...\n",
      "4. (dist=0.4720) not required to sign the account opening forms but shall give guidance to SDO (Maker) where need be. The SDO is responsible for carrying out the account opening process end to end as detailed below: A...\n",
      "5. (dist=0.4672) received. ACCOUNT OPENING REQUIREMENTS Know Your Customer (KYC) KYC at the point of account opening is crucial and staff shall perform a thorough KYC for the persons opening the account and understand...\n"
     ]
    }
   ],
   "source": [
    "query = \"Document needed to open church bank accounts\"\n",
    "model = SentenceTransformer(\"all-MiniLM-L6-v2\")\n",
    "\n",
    "query_emb = model.encode([query], convert_to_numpy=True).astype('float32')\n",
    "query_emb = query_emb / np.linalg.norm(query_emb, axis=1, keepdims=True)  # normalize query too\n",
    "\n",
    "k = 5  # top-k results\n",
    "distances, indices = index.search(query_emb, k)\n",
    "\n",
    "# Display results \n",
    "print(\"\\nTop results:\\n\")\n",
    "for rank, (i, dist) in enumerate(zip(indices[0], distances[0]), start=1):\n",
    "    print(f\"{rank}. (dist={dist:.4f}) {balanced_chunks[i][:200]}...\")"
   ]
  },
  {
   "cell_type": "code",
   "execution_count": 22,
   "id": "232beb3f",
   "metadata": {},
   "outputs": [
    {
     "data": {
      "image/png": "[encoded data removed]",
      "text/plain": [
       "<Figure size 1000x600 with 1 Axes>"
      ]
     },
     "metadata": {},
     "output_type": "display_data"
    }
   ],
   "source": [
    " #Display horizontal bar chart ---\n",
    "# Get top-k distances and indices\n",
    "top_distances = distances[0]   # distances for the first query\n",
    "top_indices = indices[0]       # chunk indices\n",
    "\n",
    "plt.figure(figsize=(10, 6))\n",
    "plt.barh(range(k), top_distances, color='skyblue')\n",
    "plt.yticks(range(k), [f\"Chunk {i}\" for i in indices[0]])\n",
    "plt.gca().invert_yaxis()\n",
    "plt.xlabel(\"Distance (smaller = more similar)\")\n",
    "plt.title(\"Top-k Most Similar Chunks for Query\")\n",
    "plt.show()"
   ]
  },
  {
   "cell_type": "markdown",
   "id": "2277aed5",
   "metadata": {},
   "source": [
    "### 7.0 Model Evaluation"
   ]
  },
  {
   "cell_type": "markdown",
   "id": "95e837d2",
   "metadata": {},
   "source": [
    "The model performance is evaluated using Recall, Precision, and Mean Reciprocal Rank (MRR) metrics. These evaluation measures provide insight into the accuracy, completeness, and ranking quality of the retrieved results, helping to assess how effectively the model identifies and prioritizes relevant information.\n",
    "\n",
    "\n",
    "This included an evaluation framework for banking-related search queries, each paired with expected “gold” keywords.\n"
   ]
  },
  {
   "cell_type": "code",
   "execution_count": 23,
   "id": "9615011a",
   "metadata": {},
   "outputs": [
    {
     "name": "stdout",
     "output_type": "stream",
     "text": [
      "FAISS index loaded with 109 vectors\n"
     ]
    }
   ],
   "source": [
    "with open(r\"Data/SEC5_embeddings.pkl\", \"rb\") as f:\n",
    "    data = pickle.load(f)\n",
    "\n",
    "chunks = [d[\"chunk\"] for d in data]\n",
    "embeddings = np.array([d[\"embedding\"] for d in data], dtype=\"float32\")\n",
    "\n",
    "# Reload FAISS index (or rebuild)\n",
    "embedding_dim = embeddings.shape[1]\n",
    "index = faiss.IndexFlatL2(embedding_dim)\n",
    "index.add(embeddings)\n",
    "print(f\"FAISS index loaded with {index.ntotal} vectors\")"
   ]
  },
  {
   "cell_type": "code",
   "execution_count": 24,
   "id": "58a40491",
   "metadata": {},
   "outputs": [],
   "source": [
    "# Testing queries\n",
    "model = SentenceTransformer(\"all-MiniLM-L6-v2\")\n",
    "\n",
    "test_queries = [\n",
    "    # Account Opening\n",
    "    {\"query\": \"What documents are required for church account?\", \n",
    "     \"gold\": [\"church registration\", \"trustees\", \"directors\"]},\n",
    "    \n",
    "    {\"query\": \"How to open a minor's account?\",\n",
    "     \"gold\": [\"minor\", \"birth certificate\", \"guardian\"]},\n",
    "    \n",
    "    # KYC/CDD\n",
    "    {\"query\": \"What are CDD requirements?\",\n",
    "     \"gold\": [\"customer due diligence\", \"identification\", \"verification\"]},\n",
    "    \n",
    "    {\"query\": \"Enhanced due diligence procedures\",\n",
    "     \"gold\": [\"EDD\", \"high risk\", \"source of funds\"]},\n",
    "    \n",
    "    # AML/Red Flags\n",
    "    {\"query\": \"What are AML red flags?\",\n",
    "     \"gold\": [\"suspicious\", \"unusual activity\", \"money laundering\"]},\n",
    "    \n",
    "    {\"query\": \"How to handle suspicious transactions?\",\n",
    "     \"gold\": [\"report\", \"compliance officer\", \"investigation\"]},\n",
    "    \n",
    "    # Foreign Nationals\n",
    "    {\"query\": \"Requirements for foreign nationals\",\n",
    "     \"gold\": [\"work permit\", \"passport\", \"resident\"]},\n",
    "    \n",
    "    {\"query\": \"Non-resident account opening\",\n",
    "     \"gold\": [\"CBK\", \"non-resident\", \"documentation\"]},\n",
    "    \n",
    "    # Specific Categories\n",
    "    {\"query\": \"Scrap metal dealer account requirements\",\n",
    "     \"gold\": [\"scrap metal\", \"license\", \"registration\"]},\n",
    "    \n",
    "    {\"query\": \"Medical fund account setup\",\n",
    "     \"gold\": [\"medical\", \"healthcare\", \"fund\"]},\n",
    "    \n",
    "    # Signatories\n",
    "    {\"query\": \"How to change account signatories?\",\n",
    "     \"gold\": [\"signatory\", \"mandate\", \"authorization\"]},\n",
    "    \n",
    "    {\"query\": \"Joint account signing requirements\",\n",
    "     \"gold\": [\"joint\", \"multiple signatures\", \"mandate\"]},\n",
    "    \n",
    "    # Staff/Ex-staff\n",
    "    {\"query\": \"Staff account procedures\",\n",
    "     \"gold\": [\"staff\", \"employee\", \"internal\"]},\n",
    "    \n",
    "    {\"query\": \"Ex-staff account handling\",\n",
    "     \"gold\": [\"ex-staff\", \"leaving\", \"closure\"]},\n",
    "    \n",
    "    # BPMS/System\n",
    "    {\"query\": \"Account opening process in BPMS\",\n",
    "     \"gold\": [\"BPMS\", \"system\", \"workflow\"]},\n",
    "]\n"
   ]
  },
  {
   "cell_type": "code",
   "execution_count": 25,
   "id": "998ea4cb",
   "metadata": {},
   "outputs": [],
   "source": [
    "# Calculating Metrics\n",
    "def precision_at_k(retrieved, gold, k):\n",
    "    relevant = sum(any(g.lower() in r.lower() for g in gold) for r in retrieved[:k])\n",
    "    return relevant / k\n",
    "\n",
    "def recall_at_k(retrieved, gold, k):\n",
    "    retrieved_relevant = set()\n",
    "    for r in retrieved[:k]:\n",
    "        for g in gold:\n",
    "            if g.lower() in r.lower():\n",
    "                retrieved_relevant.add(g)\n",
    "    return len(retrieved_relevant) / len(gold) if gold else 0\n",
    "\n",
    "def mrr_score(retrieved, gold):\n",
    "    for rank, r in enumerate(retrieved, start=1):\n",
    "        if any(g.lower() in r.lower() for g in gold):\n",
    "            return 1 / rank\n",
    "    return 0\n",
    "\n",
    "\n",
    "k = 5  # top-k retrieval\n",
    "precisions, recalls, mrrs = [], [], []"
   ]
  },
  {
   "cell_type": "markdown",
   "id": "f17c1682",
   "metadata": {},
   "source": [
    "The loop goes through each test query, encodes it with the model, and searches the FAISS index to get the top-k relevant chunks. It then calculates evaluation metrics (precision, recall, and MRR) for the retrieved results against the gold keywords, storing them for later averaging"
   ]
  },
  {
   "cell_type": "code",
   "execution_count": 26,
   "id": "d0df34a0",
   "metadata": {},
   "outputs": [
    {
     "name": "stdout",
     "output_type": "stream",
     "text": [
      "\n",
      "Query: What documents are required for church account?\n",
      "Precision@5: 0.60, Recall@5: 1.00, MRR: 1.00\n",
      "Top retrieved chunks preview:\n",
      "  Rank 1: Church Registration Certificate from the registrar of societies Board resolution to open the account, signed off by the ...\n",
      "  Rank 2: Relationship Officer, to be countersigned by the Branch Manager. Letter of introduction from employer/Sacco; Certified b...\n",
      "  Rank 3: not required to sign the account opening forms but shall give guidance to SDO (Maker) where need be. The SDO is responsi...\n",
      "  Rank 4: received. ACCOUNT OPENING REQUIREMENTS Know Your Customer (KYC) KYC at the point of account opening is crucial and staff...\n",
      "  Rank 5: these passes are not permissible for opening bank accounts. Account Opening Requirements for Non-Resident Foreign Nation...\n",
      "\n",
      "Query: How to open a minor's account?\n",
      "Precision@5: 0.80, Recall@5: 0.67, MRR: 1.00\n",
      "Top retrieved chunks preview:\n",
      "  Rank 1: Minor Account Opening Verification Jumbo Junior account shall be verified using VSAO/VCAO menu....\n",
      "  Rank 2: Details Related Party Details This section allows you to capture the power of attorney holder information, letter of aut...\n",
      "  Rank 3: mapping of the rules) 237 19.20.1 Add a Rule 237 19.20.2 Verify Rule 242 19.20.3 Inquire Rule 243 19.20.4 Common Rules 2...\n",
      "  Rank 4: Details Related Party Details This section allows you to capture the power of attorney holder information, letter of aut...\n",
      "  Rank 5: can be used. https://svdcpmaker01/sysmicrocredit/en/neoclassic/login/login?u=%2Fsysmicrocredit%2Fen%2Fneoclassic%2Fcases...\n",
      "\n",
      "Query: What are CDD requirements?\n",
      "Precision@5: 0.40, Recall@5: 0.67, MRR: 0.50\n",
      "Top retrieved chunks preview:\n",
      "  Rank 1: OPENING OF ACCOUNTS Revisions Page OPENING OF ACCOUNTS TABLE OF CONTENTS 1 INTRODUCTION 11 1.1 General 11 2 ACCOUNT OPEN...\n",
      "  Rank 2: not required to sign the account opening forms but shall give guidance to SDO (Maker) where need be. The SDO is responsi...\n",
      "  Rank 3: C – Prescribed profession Class D – Employment Class F – Specific manufacturing Class G – Specific trade, business, or c...\n",
      "  Rank 4: as Y Input Issue Date as BOD (current date). Expiry Date input 15 months after BOD(current date) Click on ADD (+) on Att...\n",
      "  Rank 5: Conditions Once the customer signs on the Terms and Condition, select Yes and click Submit. This will take you to the ne...\n",
      "\n",
      "Query: Enhanced due diligence procedures\n",
      "Precision@5: 0.00, Recall@5: 0.00, MRR: 0.00\n",
      "Top retrieved chunks preview:\n",
      "  Rank 1: a new one made. Where a lost Visa Electron card report has been made by the customer such an account shall be blocked in...\n",
      "  Rank 2: is determined by the customer category selection. The 7 parameters used to calculate the risk rating include: Sector Cus...\n",
      "  Rank 3: applicable Consolidate account balances (where consolidation of outstanding current account/ arrears accounts with the e...\n",
      "  Rank 4: Pricing Details The different products offered by the bank that the entity chooses are recorded here. The External Syste...\n",
      "  Rank 5: several compliance checks are put in place: Perform Dedup Perform Negative List Perform blacklist IPRS Checks The Dedup ...\n",
      "\n",
      "Query: What are AML red flags?\n",
      "Precision@5: 0.00, Recall@5: 0.00, MRR: 0.00\n",
      "Top retrieved chunks preview:\n",
      "  Rank 1: several compliance checks are put in place: Perform Dedup Perform Negative List Perform blacklist IPRS Checks The Dedup ...\n",
      "  Rank 2: met while transacting, then the rule will display. OR- Is a logical operator for creating additional criteria while addi...\n",
      "  Rank 3: be processed in the same manner as in the case for a new application. Ex-staff enjoy a package of preferential rates apa...\n",
      "  Rank 4: displayed and perform negative list check is activated Click on Perform Negative list. In the event, the customer is neg...\n",
      "  Rank 5: id, input a valid account number). Examples of Rules: Account Type = 0110000033001 and Transaction Amount<=10000, then u...\n",
      "\n",
      "Query: How to handle suspicious transactions?\n",
      "Precision@5: 0.20, Recall@5: 0.33, MRR: 0.50\n",
      "Top retrieved chunks preview:\n",
      "  Rank 1: several compliance checks are put in place: Perform Dedup Perform Negative List Perform blacklist IPRS Checks The Dedup ...\n",
      "  Rank 2: be processed in the same manner as in the case for a new application. Ex-staff enjoy a package of preferential rates apa...\n",
      "  Rank 3: using a Webcam. Capture very clear images to avoid RTS. Attach the mandate filled by the customer shall be attached on D...\n",
      "  Rank 4: received. ACCOUNT OPENING REQUIREMENTS Know Your Customer (KYC) KYC at the point of account opening is crucial and staff...\n",
      "  Rank 5: the relevant authority as per the registration of the organization. Note: Relevant Authority being representatives of th...\n",
      "\n",
      "Query: Requirements for foreign nationals\n",
      "Precision@5: 1.00, Recall@5: 1.00, MRR: 1.00\n",
      "Top retrieved chunks preview:\n",
      "  Rank 1: OPENING OF ACCOUNTS Revisions Page OPENING OF ACCOUNTS TABLE OF CONTENTS 1 INTRODUCTION 11 1.1 General 11 2 ACCOUNT OPEN...\n",
      "  Rank 2: C – Prescribed profession Class D – Employment Class F – Specific manufacturing Class G – Specific trade, business, or c...\n",
      "  Rank 3: Ltd, Jamii Bora Bank etc. Select Insider to bank. Insider is in the case of Director, CEO, Significant Shareholder. If t...\n",
      "  Rank 4: these passes are not permissible for opening bank accounts. Account Opening Requirements for Non-Resident Foreign Nation...\n",
      "  Rank 5: down Select the Employment Status and the Occupation from the drop down. If the customer is a Co-operative bank employee...\n",
      "\n",
      "Query: Non-resident account opening\n",
      "Precision@5: 0.60, Recall@5: 1.00, MRR: 1.00\n",
      "Top retrieved chunks preview:\n",
      "  Rank 1: these passes are not permissible for opening bank accounts. Account Opening Requirements for Non-Resident Foreign Nation...\n",
      "  Rank 2: C – Prescribed profession Class D – Employment Class F – Specific manufacturing Class G – Specific trade, business, or c...\n",
      "  Rank 3: OPENING OF ACCOUNTS Revisions Page OPENING OF ACCOUNTS TABLE OF CONTENTS 1 INTRODUCTION 11 1.1 General 11 2 ACCOUNT OPEN...\n",
      "  Rank 4: or conflict Where it appears that the account is being opened for a single transaction or to clear a cheque that cannot ...\n",
      "  Rank 5: can be used. https://svdcpmaker01/sysmicrocredit/en/neoclassic/login/login?u=%2Fsysmicrocredit%2Fen%2Fneoclassic%2Fcases...\n",
      "\n",
      "Query: Scrap metal dealer account requirements\n",
      "Precision@5: 0.60, Recall@5: 0.67, MRR: 1.00\n",
      "Top retrieved chunks preview:\n",
      "  Rank 1: OPENING OF ACCOUNTS Revisions Page OPENING OF ACCOUNTS TABLE OF CONTENTS 1 INTRODUCTION 11 1.1 General 11 2 ACCOUNT OPEN...\n",
      "  Rank 2: or conflict Where it appears that the account is being opened for a single transaction or to clear a cheque that cannot ...\n",
      "  Rank 3: a new one made. Where a lost Visa Electron card report has been made by the customer such an account shall be blocked in...\n",
      "  Rank 4: Employed, Self-employed, Student or Others Occupation - Drop down selection Employer- Drop down Selection. Select Others...\n",
      "  Rank 5: several compliance checks are put in place: Perform Dedup Perform Negative List Perform blacklist IPRS Checks The Dedup ...\n",
      "\n",
      "Query: Medical fund account setup\n",
      "Precision@5: 0.80, Recall@5: 0.33, MRR: 1.00\n",
      "Top retrieved chunks preview:\n",
      "  Rank 1: offered or maintained. Improperly operated accounts shall be closed off after giving notice to the customer. Deposits to...\n",
      "  Rank 2: Account opening – Open Savings Account (OSA) Current Accounts opening- Open Current Account (OCA) Opening a Retail Accou...\n",
      "  Rank 3: Details Related Party Details This section allows you to capture the power of attorney holder information, letter of aut...\n",
      "  Rank 4: Details Related Party Details This section allows you to capture the power of attorney holder information, letter of aut...\n",
      "  Rank 5: weekly / monthly / quarterly / yearly loan repayment. The debt is recovered from the escrow account as and when the peri...\n",
      "\n",
      "Query: How to change account signatories?\n",
      "Precision@5: 0.60, Recall@5: 0.67, MRR: 1.00\n",
      "Top retrieved chunks preview:\n",
      "  Rank 1: The Banks requires organizations such as companies, trusts and partnerships to have a certain number of directors, trust...\n",
      "  Rank 2: attached on Document details during account opening on menu OSA (Open Savings Account) or menu OCA (Open Current Account...\n",
      "  Rank 3: how it can be used) who can access information about the account. Customer Mandates, Orders or other Authorities are to ...\n",
      "  Rank 4: not required to sign the account opening forms but shall give guidance to SDO (Maker) where need be. The SDO is responsi...\n",
      "  Rank 5: the same scheme type i.e., savings to savings and current to current (Refer to Chapter 25 - Transfer of account between ...\n",
      "\n",
      "Query: Joint account signing requirements\n",
      "Precision@5: 0.60, Recall@5: 0.67, MRR: 1.00\n",
      "Top retrieved chunks preview:\n",
      "  Rank 1: The Banks requires organizations such as companies, trusts and partnerships to have a certain number of directors, trust...\n",
      "  Rank 2: Date the rule was created on or search the date using searcher on Rule Created on Option. Click Submit to view details o...\n",
      "  Rank 3: not required to sign the account opening forms but shall give guidance to SDO (Maker) where need be. The SDO is responsi...\n",
      "  Rank 4: Rules Rules defined shall be mapped to account signatures using Map Account Rules option. An account may be associated w...\n",
      "  Rank 5: g hekima and salary) Where the SDO has selected the Yes option, they shall be required to indicate the number of Extra a...\n",
      "\n",
      "Query: Staff account procedures\n",
      "Precision@5: 1.00, Recall@5: 0.33, MRR: 1.00\n",
      "Top retrieved chunks preview:\n",
      "  Rank 1: be processed in the same manner as in the case for a new application. Ex-staff enjoy a package of preferential rates apa...\n",
      "  Rank 2: 57 5 ESCROW ACCOUNTS 57 5.1 Customer Initiated Escrow Accounts: 57 5.2 Bank Initiated Escrow Accounts: 58 5.3 Escrow Acc...\n",
      "  Rank 3: Upon demise of a staff member, the staff account to be retained under scheme code STCUR A deceased staff current account...\n",
      "  Rank 4: the same scheme type i.e., savings to savings and current to current (Refer to Chapter 25 - Transfer of account between ...\n",
      "  Rank 5: weekly / monthly / quarterly / yearly loan repayment. The debt is recovered from the escrow account as and when the peri...\n",
      "\n",
      "Query: Ex-staff account handling\n",
      "Precision@5: 1.00, Recall@5: 0.67, MRR: 1.00\n",
      "Top retrieved chunks preview:\n",
      "  Rank 1: Upon demise of a staff member, the staff account to be retained under scheme code STCUR A deceased staff current account...\n",
      "  Rank 2: the same scheme type i.e., savings to savings and current to current (Refer to Chapter 25 - Transfer of account between ...\n",
      "  Rank 3: be processed in the same manner as in the case for a new application. Ex-staff enjoy a package of preferential rates apa...\n",
      "  Rank 4: 57 5 ESCROW ACCOUNTS 57 5.1 Customer Initiated Escrow Accounts: 57 5.2 Bank Initiated Escrow Accounts: 58 5.3 Escrow Acc...\n",
      "  Rank 5: weekly / monthly / quarterly / yearly loan repayment. The debt is recovered from the escrow account as and when the peri...\n",
      "\n",
      "Query: Account opening process in BPMS\n",
      "Precision@5: 1.00, Recall@5: 0.67, MRR: 1.00\n",
      "Top retrieved chunks preview:\n",
      "  Rank 1: a new one made. Where a lost Visa Electron card report has been made by the customer such an account shall be blocked in...\n",
      "  Rank 2: 57 5 ESCROW ACCOUNTS 57 5.1 Customer Initiated Escrow Accounts: 57 5.2 Bank Initiated Escrow Accounts: 58 5.3 Escrow Acc...\n",
      "  Rank 3: be processed in the same manner as in the case for a new application. Ex-staff enjoy a package of preferential rates apa...\n",
      "  Rank 4: several compliance checks are put in place: Perform Dedup Perform Negative List Perform blacklist IPRS Checks The Dedup ...\n",
      "  Rank 5: can be used. https://svdcpmaker01/sysmicrocredit/en/neoclassic/login/login?u=%2Fsysmicrocredit%2Fen%2Fneoclassic%2Fcases...\n"
     ]
    }
   ],
   "source": [
    "# retrieval model with FAISS\n",
    "for item in test_queries:\n",
    "    query = item[\"query\"]\n",
    "    gold = item[\"gold\"]\n",
    "\n",
    "    # Encode query\n",
    "    query_emb = model.encode([query], convert_to_numpy=True).astype(\"float32\")\n",
    "\n",
    "    # Search FAISS\n",
    "    distances, indices = index.search(query_emb, k)\n",
    "    retrieved = [chunks[i] for i in indices[0]]\n",
    "\n",
    "    # Compute metrics\n",
    "    p = precision_at_k(retrieved, gold, k)\n",
    "    r = recall_at_k(retrieved, gold, k)\n",
    "    mrr = mrr_score(retrieved, gold)\n",
    "\n",
    "    precisions.append(p)\n",
    "    recalls.append(r)\n",
    "    mrrs.append(mrr)\n",
    "\n",
    "    # Print per-query results\n",
    "    print(f\"\\nQuery: {query}\")\n",
    "    print(f\"Precision@{k}: {p:.2f}, Recall@{k}: {r:.2f}, MRR: {mrr:.2f}\")\n",
    "    print(\"Top retrieved chunks preview:\")\n",
    "    for j, chunk in enumerate(retrieved, start=1):\n",
    "        print(f\"  Rank {j}: {chunk[:120]}...\")\n"
   ]
  },
  {
   "cell_type": "code",
   "execution_count": 27,
   "id": "a3f1b996",
   "metadata": {},
   "outputs": [
    {
     "name": "stdout",
     "output_type": "stream",
     "text": [
      "Precision@5: 0.61\n",
      "Recall@5: 0.58\n",
      "MRR: 0.80\n"
     ]
    }
   ],
   "source": [
    "\n",
    "print(f\"Precision@{k}: {np.mean(precisions):.2f}\")\n",
    "print(f\"Recall@{k}: {np.mean(recalls):.2f}\")\n",
    "print(f\"MRR: {np.mean(mrrs):.2f}\")\n"
   ]
  },
  {
   "cell_type": "markdown",
   "id": "90a154c0",
   "metadata": {},
   "source": [
    "Precision@5 = 0.61: Out of the top 5 results retrieved, on average 61% were actually relevant.\n",
    "Recall@5 = 0.58 : Out of all the truly relevant pieces of information in the dataset, the system retrieves 58% of them within the top-5 results.\n",
    "MRR = 0.80 : The first relevant result  shows up very high in the ranking (position 1 or 2)."
   ]
  },
  {
   "cell_type": "markdown",
   "id": "ff119c48",
   "metadata": {},
   "source": [
    "### Retrieval Evaluation (Precision, Recall, MRR)\n",
    "\n",
    "In this section, we evaluate how well our FAISS-based semantic search retrieves relevant chunks for KYC/AML-related queries.\n",
    "\n",
    "Precision@k → Measures how many of the top-k retrieved results are relevant.\n",
    "\n",
    "Recall@k → Measures how many of all possible relevant items are captured in the top-k results.\n",
    "\n",
    "MRR (Mean Reciprocal Rank) → Rewards placing a relevant result higher in the ranking.\n",
    "\n",
    "We test across different values of k = 5, 10, 20 to see how retrieval depth affects performance.\n",
    "A bar chart is also included for an easy comparison of metrics."
   ]
  },
  {
   "cell_type": "code",
   "execution_count": 28,
   "id": "9bd25b0e",
   "metadata": {},
   "outputs": [
    {
     "name": "stdout",
     "output_type": "stream",
     "text": [
      "\n",
      "Query: What documents are required for church account?\n",
      "Precision@5: 0.60, Recall@5: 1.00, MRR: 1.00\n",
      "\n",
      "Query: How to open a minor's account?\n",
      "Precision@5: 0.80, Recall@5: 0.67, MRR: 1.00\n",
      "\n",
      "Query: What are CDD requirements?\n",
      "Precision@5: 0.40, Recall@5: 0.67, MRR: 0.50\n",
      "\n",
      "Query: Enhanced due diligence procedures\n",
      "Precision@5: 0.00, Recall@5: 0.00, MRR: 0.00\n",
      "\n",
      "Query: What are AML red flags?\n",
      "Precision@5: 0.00, Recall@5: 0.00, MRR: 0.00\n",
      "\n",
      "Query: How to handle suspicious transactions?\n",
      "Precision@5: 0.20, Recall@5: 0.33, MRR: 0.50\n",
      "\n",
      "Query: Requirements for foreign nationals\n",
      "Precision@5: 1.00, Recall@5: 1.00, MRR: 1.00\n",
      "\n",
      "Query: Non-resident account opening\n",
      "Precision@5: 0.60, Recall@5: 1.00, MRR: 1.00\n",
      "\n",
      "Query: Scrap metal dealer account requirements\n",
      "Precision@5: 0.60, Recall@5: 0.67, MRR: 1.00\n",
      "\n",
      "Query: Medical fund account setup\n",
      "Precision@5: 0.80, Recall@5: 0.33, MRR: 1.00\n",
      "\n",
      "Query: How to change account signatories?\n",
      "Precision@5: 0.60, Recall@5: 0.67, MRR: 1.00\n",
      "\n",
      "Query: Joint account signing requirements\n",
      "Precision@5: 0.60, Recall@5: 0.67, MRR: 1.00\n",
      "\n",
      "Query: Staff account procedures\n",
      "Precision@5: 1.00, Recall@5: 0.33, MRR: 1.00\n",
      "\n",
      "Query: Ex-staff account handling\n",
      "Precision@5: 1.00, Recall@5: 0.67, MRR: 1.00\n",
      "\n",
      "Query: Account opening process in BPMS\n",
      "Precision@5: 1.00, Recall@5: 0.67, MRR: 1.00\n",
      "\n",
      "Query: What documents are required for church account?\n",
      "Precision@10: 0.60, Recall@10: 1.00, MRR: 1.00\n",
      "\n",
      "Query: How to open a minor's account?\n",
      "Precision@10: 0.60, Recall@10: 1.00, MRR: 1.00\n",
      "\n",
      "Query: What are CDD requirements?\n",
      "Precision@10: 0.40, Recall@10: 0.67, MRR: 0.50\n",
      "\n",
      "Query: Enhanced due diligence procedures\n",
      "Precision@10: 0.00, Recall@10: 0.00, MRR: 0.00\n",
      "\n",
      "Query: What are AML red flags?\n",
      "Precision@10: 0.20, Recall@10: 0.67, MRR: 0.17\n",
      "\n",
      "Query: How to handle suspicious transactions?\n",
      "Precision@10: 0.40, Recall@10: 0.33, MRR: 0.50\n",
      "\n",
      "Query: Requirements for foreign nationals\n",
      "Precision@10: 0.60, Recall@10: 1.00, MRR: 1.00\n",
      "\n",
      "Query: Non-resident account opening\n",
      "Precision@10: 0.30, Recall@10: 1.00, MRR: 1.00\n",
      "\n",
      "Query: Scrap metal dealer account requirements\n",
      "Precision@10: 0.50, Recall@10: 0.67, MRR: 1.00\n",
      "\n",
      "Query: Medical fund account setup\n",
      "Precision@10: 0.70, Recall@10: 0.33, MRR: 1.00\n",
      "\n",
      "Query: How to change account signatories?\n",
      "Precision@10: 0.70, Recall@10: 0.67, MRR: 1.00\n",
      "\n",
      "Query: Joint account signing requirements\n",
      "Precision@10: 0.60, Recall@10: 0.67, MRR: 1.00\n",
      "\n",
      "Query: Staff account procedures\n",
      "Precision@10: 0.90, Recall@10: 0.67, MRR: 1.00\n",
      "\n",
      "Query: Ex-staff account handling\n",
      "Precision@10: 0.50, Recall@10: 0.67, MRR: 1.00\n",
      "\n",
      "Query: Account opening process in BPMS\n",
      "Precision@10: 0.70, Recall@10: 0.67, MRR: 1.00\n",
      "\n",
      "Query: What documents are required for church account?\n",
      "Precision@20: 0.35, Recall@20: 1.00, MRR: 1.00\n",
      "\n",
      "Query: How to open a minor's account?\n",
      "Precision@20: 0.35, Recall@20: 1.00, MRR: 1.00\n",
      "\n",
      "Query: What are CDD requirements?\n",
      "Precision@20: 0.35, Recall@20: 0.67, MRR: 0.50\n",
      "\n",
      "Query: Enhanced due diligence procedures\n",
      "Precision@20: 0.05, Recall@20: 0.33, MRR: 0.06\n",
      "\n",
      "Query: What are AML red flags?\n",
      "Precision@20: 0.10, Recall@20: 0.67, MRR: 0.17\n",
      "\n",
      "Query: How to handle suspicious transactions?\n",
      "Precision@20: 0.40, Recall@20: 0.33, MRR: 0.50\n",
      "\n",
      "Query: Requirements for foreign nationals\n",
      "Precision@20: 0.50, Recall@20: 1.00, MRR: 1.00\n",
      "\n",
      "Query: Non-resident account opening\n",
      "Precision@20: 0.25, Recall@20: 1.00, MRR: 1.00\n",
      "\n",
      "Query: Scrap metal dealer account requirements\n",
      "Precision@20: 0.35, Recall@20: 1.00, MRR: 1.00\n",
      "\n",
      "Query: Medical fund account setup\n",
      "Precision@20: 0.45, Recall@20: 0.33, MRR: 1.00\n",
      "\n",
      "Query: How to change account signatories?\n",
      "Precision@20: 0.65, Recall@20: 0.67, MRR: 1.00\n",
      "\n",
      "Query: Joint account signing requirements\n",
      "Precision@20: 0.75, Recall@20: 0.67, MRR: 1.00\n",
      "\n",
      "Query: Staff account procedures\n",
      "Precision@20: 0.65, Recall@20: 1.00, MRR: 1.00\n",
      "\n",
      "Query: Ex-staff account handling\n",
      "Precision@20: 0.30, Recall@20: 0.67, MRR: 1.00\n",
      "\n",
      "Query: Account opening process in BPMS\n",
      "Precision@20: 0.45, Recall@20: 0.67, MRR: 1.00\n"
     ]
    }
   ],
   "source": [
    "#  Define metrics \n",
    "def precision_at_k(retrieved, gold, k):\n",
    "    relevant = sum(any(g.lower() in r.lower() for g in gold) for r in retrieved[:k])\n",
    "    return relevant / k\n",
    "\n",
    "def recall_at_k(retrieved, gold, k):\n",
    "    total_relevant = len(gold)\n",
    "    matched = set()\n",
    "    for r in retrieved[:k]:\n",
    "        for g in gold:\n",
    "            if g.lower() in r.lower():\n",
    "                matched.add(g)\n",
    "    return len(matched) / total_relevant if total_relevant > 0 else 0\n",
    "\n",
    "def mrr_score(retrieved, gold):\n",
    "    for rank, r in enumerate(retrieved, start=1):\n",
    "        if any(g.lower() in r.lower() for g in gold):\n",
    "            return 1 / rank\n",
    "    return 0\n",
    "\n",
    "\n",
    "# --- Evaluate for different values of k ---\n",
    "results = {}\n",
    "\n",
    "for k in [5, 10, 20]:\n",
    "    precisions, recalls, mrrs = [], [], []\n",
    "    \n",
    "    for item in test_queries:\n",
    "        query = item[\"query\"]\n",
    "        gold = item[\"gold\"]\n",
    "\n",
    "        # Encode query\n",
    "        query_emb = model.encode([query], convert_to_numpy=True).astype(\"float32\")\n",
    "\n",
    "        # Search FAISS\n",
    "        distances, indices = index.search(query_emb, k)\n",
    "        retrieved = [chunks[i] for i in indices[0]]\n",
    "\n",
    "        # Compute metrics\n",
    "        p = precision_at_k(retrieved, gold, k)\n",
    "        r = recall_at_k(retrieved, gold, k)\n",
    "        mrr = mrr_score(retrieved, gold)\n",
    "\n",
    "        precisions.append(p)\n",
    "        recalls.append(r)\n",
    "        mrrs.append(mrr)\n",
    "\n",
    "        # Optional: print detailed results per query\n",
    "        print(f\"\\nQuery: {query}\")\n",
    "        print(f\"Precision@{k}: {p:.2f}, Recall@{k}: {r:.2f}, MRR: {mrr:.2f}\")\n",
    "\n",
    "    # Store averages\n",
    "    results[k] = {\n",
    "        \"precision\": np.mean(precisions),\n",
    "        \"recall\": np.mean(recalls),\n",
    "        \"mrr\": np.mean(mrrs)\n",
    "    }\n",
    "\n",
    "   "
   ]
  },
  {
   "cell_type": "code",
   "execution_count": 29,
   "id": "003caaf1",
   "metadata": {},
   "outputs": [
    {
     "name": "stdout",
     "output_type": "stream",
     "text": [
      "Precision@20: 0.40\n",
      "Recall@20: 0.73\n",
      "MRR: 0.81\n"
     ]
    }
   ],
   "source": [
    "   \n",
    "print(f\"Precision@{k}: {results[k]['precision']:.2f}\")\n",
    "print(f\"Recall@{k}: {results[k]['recall']:.2f}\")\n",
    "print(f\"MRR: {results[k]['mrr']:.2f}\")"
   ]
  },
  {
   "cell_type": "markdown",
   "id": "2121a989",
   "metadata": {},
   "source": [
    "Precision@20 (0.40): Out of the top 20 retrieved results, 40% were relevant, showing moderate precision in ranking relevant documents.\n",
    "\n",
    "Recall@20 (0.73): The model successfully retrieved 73% of all possible relevant documents within the top 20 results, indicating strong coverage and retrieval capability.\n",
    "\n",
    "MRR (0.81): A high Mean Reciprocal Rank shows that relevant results generally appeared near the top of the retrieved list, demonstrating effective ranking performance."
   ]
  },
  {
   "cell_type": "markdown",
   "id": "a6b1a99c",
   "metadata": {},
   "source": [
    "### Plotting a comparison of evaluation metrics"
   ]
  },
  {
   "cell_type": "code",
   "execution_count": 30,
   "id": "9a84ced3",
   "metadata": {},
   "outputs": [
    {
     "data": {
      "image/png": "[encoded data removed]",
      "text/plain": [
       "<Figure size 1000x600 with 1 Axes>"
      ]
     },
     "metadata": {},
     "output_type": "display_data"
    }
   ],
   "source": [
    "\n",
    "# Plot comparison\n",
    "import matplotlib.pyplot as plt\n",
    "\n",
    "ks = list(results.keys())\n",
    "precisions = [results[k][\"precision\"] for k in ks]\n",
    "recalls = [results[k][\"recall\"] for k in ks]\n",
    "mrrs = [results[k][\"mrr\"] for k in ks]\n",
    "\n",
    "x = np.arange(len(ks))\n",
    "width = 0.25\n",
    "\n",
    "plt.figure(figsize=(10,6))\n",
    "plt.bar(x - width, precisions, width, label=\"Precision\")\n",
    "plt.bar(x, recalls, width, label=\"Recall\")\n",
    "plt.bar(x + width, mrrs, width, label=\"MRR\")\n",
    "\n",
    "plt.xticks(x, [f\"k={k}\" for k in ks])\n",
    "plt.ylabel(\"Score\")\n",
    "plt.title(\"Evaluation Metrics vs Different k\")\n",
    "plt.legend()\n",
    "plt.show()\n"
   ]
  },
  {
   "cell_type": "markdown",
   "id": "db86e702",
   "metadata": {},
   "source": [
    "The system exhibits a classic **Precision-Recall trade-off** as the number of retrieved items ($k$) increases.\n",
    "\n",
    "While the model's **Recall** consistently improves (from $\\approx 0.58$ at $k=5$ to $\\approx 0.73$ at $k=20$) and its **Mean Reciprocal Rank (MRR)** remains exceptionally high and stable ($\\approx 0.81$ across all $k$), its **Precision** sharply declines (from $\\approx 0.61$ at $k=5$ to $0.40$ at $k=20$). This means that the system is highly effective at placing the most relevant item near the top, but the overall quality of the top-ranked list decreases as it attempts to retrieve more relevant documents."
   ]
  },
  {
   "cell_type": "markdown",
   "id": "b054fa5f",
   "metadata": {},
   "source": [
    "#  TF-IDF \n",
    "As a baseline comparison to MiniLM, TF-IDF is introduced to change weighting to the mode (Term Frequency–Inverse Document Frequency) "
   ]
  },
  {
   "cell_type": "code",
   "execution_count": 38,
   "id": "f9e45b2d",
   "metadata": {},
   "outputs": [
    {
     "name": "stdout",
     "output_type": "stream",
     "text": [
      "TF-IDF matrix shape: (109, 2028)\n"
     ]
    }
   ],
   "source": [
    "#Vectorizing text\n",
    "vectorizer = TfidfVectorizer(stop_words=\"english\", max_features=5000)\n",
    "X_tfidf = vectorizer.fit_transform(chunks)\n",
    "\n",
    "# Normalize\n",
    "X_tfidf = normalize(X_tfidf, norm=\"l2\")\n",
    "\n",
    "print(\"TF-IDF matrix shape:\", X_tfidf.shape)\n"
   ]
  },
  {
   "cell_type": "markdown",
   "id": "134eed9c",
   "metadata": {},
   "source": [
    "The TF-IDF matrix shape (109, 2028) means 109 text chunks were transformed into vectors, each represented by 2028 unique terms."
   ]
  },
  {
   "cell_type": "markdown",
   "id": "ede7ce55",
   "metadata": {},
   "source": [
    "### Retrieval using cosine similarity with this TF-IDF representation"
   ]
  },
  {
   "cell_type": "code",
   "execution_count": 39,
   "id": "24b2bd62",
   "metadata": {},
   "outputs": [
    {
     "name": "stdout",
     "output_type": "stream",
     "text": [
      "\n",
      "Top results using TF-IDF:\n",
      "1. (score=0.3413) Church Registration Certificate from the registrar of societies Board resolution to open the account, signed off by the trustees/Directors. Church's KRA PIN certificate Church's constitution IDs of Si...\n",
      "2. (score=0.2178) Conditions Once the customer signs on the Terms and Condition, select Yes and click Submit. This will take you to the next step of attaching KYC document e.g. Affidavit or license Note: The printed ma...\n",
      "3. (score=0.1341) Relationship Officer, to be countersigned by the Branch Manager. Letter of introduction from employer/Sacco; Certified bank statements Bank reference A business search shall be required except for the...\n",
      "4. (score=0.1209) C – Prescribed profession Class D – Employment Class F – Specific manufacturing Class G – Specific trade, business, or consultancy Class I – Approved religious or charitable activities Class K – Ordin...\n",
      "5. (score=0.1081) Documents Choose the document you intend to upload from the appropriate Document Name. Click on upload documents button. RTS Cases for Wrong Attachment The Bos verifier will RTS cases where document (...\n"
     ]
    }
   ],
   "source": [
    "# retrieving documents\n",
    "query = \"Documents needed to open church bank accounts\"\n",
    "query_vec = vectorizer.transform([query])\n",
    "\n",
    "# Compute similarity\n",
    "cosine_sim = cosine_similarity(query_vec, X_tfidf).flatten()\n",
    "\n",
    "# Get top-k results\n",
    "k = 5\n",
    "top_indices = cosine_sim.argsort()[::-1][:k]\n",
    "\n",
    "print(\"\\nTop results using TF-IDF:\")\n",
    "for i, idx in enumerate(top_indices, start=1):\n",
    "    print(f\"{i}. (score={cosine_sim[idx]:.4f}) {chunks[idx][:200]}...\")\n"
   ]
  },
  {
   "cell_type": "markdown",
   "id": "fde54f49",
   "metadata": {},
   "source": [
    "The TF-IDF model produces lower cosine similarity scores compared to MiniLM, whose top score was 0.67."
   ]
  },
  {
   "cell_type": "code",
   "execution_count": 40,
   "id": "25fb9623",
   "metadata": {},
   "outputs": [],
   "source": [
    "\n",
    "#  Define Metrics\n",
    "\n",
    "def precision_at_k(retrieved, gold, k):\n",
    "    \"\"\"Proportion of top-k retrieved chunks that contain at least one gold keyword.\"\"\"\n",
    "    relevant = 0\n",
    "    for r in retrieved[:k]:\n",
    "        if any(g.lower() in r.lower() for g in gold):\n",
    "            relevant += 1\n",
    "    return relevant / k if k > 0 else 0\n",
    "\n",
    "\n",
    "def recall_at_k(retrieved, gold, k):\n",
    "    \"\"\"Proportion of unique gold keywords found in the top-k retrieved chunks.\"\"\"\n",
    "    retrieved_relevant = set()\n",
    "    for r in retrieved[:k]:\n",
    "        for g in gold:\n",
    "            if g.lower() in r.lower():\n",
    "                retrieved_relevant.add(g)\n",
    "    return len(retrieved_relevant) / len(gold) if gold else 0\n",
    "\n",
    "\n",
    "def mrr_score(retrieved, gold):\n",
    "    \"\"\"Reciprocal rank of the first relevant retrieved chunk.\"\"\"\n",
    "    for rank, r in enumerate(retrieved, start=1):\n",
    "        if any(g.lower() in r.lower() for g in gold):\n",
    "            return 1 / rank\n",
    "    return 0\n",
    "\n",
    "# Search Function\n",
    "def tfidf_search(query, k=5):\n",
    "    # Transform query into TF-IDF vector\n",
    "    query_vec = vectorizer.transform([query])\n",
    "    \n",
    "    # Compute cosine similarity\n",
    "    cosine_sim = cosine_similarity(query_vec, X_tfidf).flatten()\n",
    "    \n",
    "    # Get top-k results\n",
    "    top_indices = cosine_sim.argsort()[::-1][:k]\n",
    "    results = [(chunks[idx], cosine_sim[idx]) for idx in top_indices]\n",
    "    return results\n"
   ]
  },
  {
   "cell_type": "markdown",
   "id": "a9fc5fc7",
   "metadata": {},
   "source": [
    "## Evaluating After TF- IDF"
   ]
  },
  {
   "cell_type": "code",
   "execution_count": 41,
   "id": "6b06c493",
   "metadata": {},
   "outputs": [
    {
     "name": "stdout",
     "output_type": "stream",
     "text": [
      "\n",
      "Query: What documents are required for church account?\n",
      "Precision@5: 0.40, Recall@5: 1.00, MRR: 1.00\n",
      "Top retrieved chunks preview:\n",
      "  Rank 1: (Score: 0.400) Church Registration Certificate from the registrar of societies Board resolution to open the account, signed off by the ...\n",
      "  Rank 2: (Score: 0.239) Conditions Once the customer signs on the Terms and Condition, select Yes and click Submit. This will take you to the ne...\n",
      "  Rank 3: (Score: 0.182) Documents Choose the document you intend to upload from the appropriate Document Name. Click on upload documents button....\n",
      "  Rank 4: (Score: 0.178) Relationship Officer, to be countersigned by the Branch Manager. Letter of introduction from employer/Sacco; Certified b...\n",
      "  Rank 5: (Score: 0.124) attached on Document details during account opening on menu OSA (Open Savings Account) or menu OCA (Open Current Account...\n",
      "\n",
      "Query: How to open a minor's account?\n",
      "Precision@5: 0.60, Recall@5: 0.67, MRR: 1.00\n",
      "Top retrieved chunks preview:\n",
      "  Rank 1: (Score: 0.271) Minor Account Opening Verification Jumbo Junior account shall be verified using VSAO/VCAO menu....\n",
      "  Rank 2: (Score: 0.242) Appropriate Mode to Add the Record: Link- If the guardian has an existing CIF id with the same document used as the iden...\n",
      "  Rank 3: (Score: 0.197) Details Field The following information is displayed in the Scheme Details tab which its set up is done at the product l...\n",
      "  Rank 4: (Score: 0.184) before making their decision. Approve – Route the case back to SDO for account opening to be completed Defer – Capture c...\n",
      "  Rank 5: (Score: 0.177) attached on Document details during account opening on menu OSA (Open Savings Account) or menu OCA (Open Current Account...\n",
      "\n",
      "Query: What are CDD requirements?\n",
      "Precision@5: 0.40, Recall@5: 0.67, MRR: 0.50\n",
      "Top retrieved chunks preview:\n",
      "  Rank 1: (Score: 0.448) OPENING OF ACCOUNTS Revisions Page OPENING OF ACCOUNTS TABLE OF CONTENTS 1 INTRODUCTION 11 1.1 General 11 2 ACCOUNT OPEN...\n",
      "  Rank 2: (Score: 0.208) these passes are not permissible for opening bank accounts. Account Opening Requirements for Non-Resident Foreign Nation...\n",
      "  Rank 3: (Score: 0.159) C – Prescribed profession Class D – Employment Class F – Specific manufacturing Class G – Specific trade, business, or c...\n",
      "  Rank 4: (Score: 0.130) the relevant authority as per the registration of the organization. Note: Relevant Authority being representatives of th...\n",
      "  Rank 5: (Score: 0.130) received. ACCOUNT OPENING REQUIREMENTS Know Your Customer (KYC) KYC at the point of account opening is crucial and staff...\n",
      "\n",
      "Query: Enhanced due diligence procedures\n",
      "Precision@5: 0.00, Recall@5: 0.00, MRR: 0.00\n",
      "Top retrieved chunks preview:\n",
      "  Rank 1: (Score: 0.159) be processed in the same manner as in the case for a new application. Ex-staff enjoy a package of preferential rates apa...\n",
      "  Rank 2: (Score: 0.067) received. ACCOUNT OPENING REQUIREMENTS Know Your Customer (KYC) KYC at the point of account opening is crucial and staff...\n",
      "  Rank 3: (Score: 0.062) offered or maintained. Improperly operated accounts shall be closed off after giving notice to the customer. Deposits to...\n",
      "  Rank 4: (Score: 0.033) a new one made. Where a lost Visa Electron card report has been made by the customer such an account shall be blocked in...\n",
      "  Rank 5: (Score: 0.026) or conflict Where it appears that the account is being opened for a single transaction or to clear a cheque that cannot ...\n",
      "\n",
      "Query: What are AML red flags?\n",
      "Precision@5: 0.00, Recall@5: 0.00, MRR: 0.00\n",
      "Top retrieved chunks preview:\n",
      "  Rank 1: (Score: 0.160) Employed, Self-employed, Student or Others Occupation - Drop down selection Employer- Drop down Selection. Select Others...\n",
      "  Rank 2: (Score: 0.033) several compliance checks are put in place: Perform Dedup Perform Negative List Perform blacklist IPRS Checks The Dedup ...\n",
      "  Rank 3: (Score: 0.033) 57 5 ESCROW ACCOUNTS 57 5.1 Customer Initiated Escrow Accounts: 57 5.2 Bank Initiated Escrow Accounts: 58 5.3 Escrow Acc...\n",
      "  Rank 4: (Score: 0.033) Section of the Operating Manual on Dormant Accounts. The system automatically flags an account as dormant if it has had ...\n",
      "  Rank 5: (Score: 0.026) offered or maintained. Improperly operated accounts shall be closed off after giving notice to the customer. Deposits to...\n",
      "\n",
      "Query: How to handle suspicious transactions?\n",
      "Precision@5: 0.20, Recall@5: 0.33, MRR: 1.00\n",
      "Top retrieved chunks preview:\n",
      "  Rank 1: (Score: 0.071) or conflict Where it appears that the account is being opened for a single transaction or to clear a cheque that cannot ...\n",
      "  Rank 2: (Score: 0.045) Office Support Department shall change the account domicile in the Card Management System. ESCROW ACCOUNTS An Escrow is ...\n",
      "  Rank 3: (Score: 0.039) Employed, Self-employed, Student or Others Occupation - Drop down selection Employer- Drop down Selection. Select Others...\n",
      "  Rank 4: (Score: 0.028) Section of the Operating Manual on Dormant Accounts. The system automatically flags an account as dormant if it has had ...\n",
      "  Rank 5: (Score: 0.022) offered or maintained. Improperly operated accounts shall be closed off after giving notice to the customer. Deposits to...\n",
      "\n",
      "Query: Requirements for foreign nationals\n",
      "Precision@5: 0.80, Recall@5: 1.00, MRR: 1.00\n",
      "Top retrieved chunks preview:\n",
      "  Rank 1: (Score: 0.473) OPENING OF ACCOUNTS Revisions Page OPENING OF ACCOUNTS TABLE OF CONTENTS 1 INTRODUCTION 11 1.1 General 11 2 ACCOUNT OPEN...\n",
      "  Rank 2: (Score: 0.364) these passes are not permissible for opening bank accounts. Account Opening Requirements for Non-Resident Foreign Nation...\n",
      "  Rank 3: (Score: 0.289) Relationship Officer, to be countersigned by the Branch Manager. Letter of introduction from employer/Sacco; Certified b...\n",
      "  Rank 4: (Score: 0.277) Ltd, Jamii Bora Bank etc. Select Insider to bank. Insider is in the case of Director, CEO, Significant Shareholder. If t...\n",
      "  Rank 5: (Score: 0.142) Details Click continue>Relationship details with other banks Click on continue button >Reporting and reference details S...\n",
      "\n",
      "Query: Non-resident account opening\n",
      "Precision@5: 0.80, Recall@5: 1.00, MRR: 1.00\n",
      "Top retrieved chunks preview:\n",
      "  Rank 1: (Score: 0.303) OPENING OF ACCOUNTS Revisions Page OPENING OF ACCOUNTS TABLE OF CONTENTS 1 INTRODUCTION 11 1.1 General 11 2 ACCOUNT OPEN...\n",
      "  Rank 2: (Score: 0.286) C – Prescribed profession Class D – Employment Class F – Specific manufacturing Class G – Specific trade, business, or c...\n",
      "  Rank 3: (Score: 0.276) down Select the Employment Status and the Occupation from the drop down. If the customer is a Co-operative bank employee...\n",
      "  Rank 4: (Score: 0.275) these passes are not permissible for opening bank accounts. Account Opening Requirements for Non-Resident Foreign Nation...\n",
      "  Rank 5: (Score: 0.163) attached on Document details during account opening on menu OSA (Open Savings Account) or menu OCA (Open Current Account...\n",
      "\n",
      "Query: Scrap metal dealer account requirements\n",
      "Precision@5: 1.00, Recall@5: 1.00, MRR: 1.00\n",
      "Top retrieved chunks preview:\n",
      "  Rank 1: (Score: 0.503) C – Prescribed profession Class D – Employment Class F – Specific manufacturing Class G – Specific trade, business, or c...\n",
      "  Rank 2: (Score: 0.305) OPENING OF ACCOUNTS Revisions Page OPENING OF ACCOUNTS TABLE OF CONTENTS 1 INTRODUCTION 11 1.1 General 11 2 ACCOUNT OPEN...\n",
      "  Rank 3: (Score: 0.114) the relevant authority as per the registration of the organization. Note: Relevant Authority being representatives of th...\n",
      "  Rank 4: (Score: 0.096) these passes are not permissible for opening bank accounts. Account Opening Requirements for Non-Resident Foreign Nation...\n",
      "  Rank 5: (Score: 0.076) attached on Document details during account opening on menu OSA (Open Savings Account) or menu OCA (Open Current Account...\n",
      "\n",
      "Query: Medical fund account setup\n",
      "Precision@5: 0.60, Recall@5: 0.67, MRR: 1.00\n",
      "Top retrieved chunks preview:\n",
      "  Rank 1: (Score: 0.116) offered or maintained. Improperly operated accounts shall be closed off after giving notice to the customer. Deposits to...\n",
      "  Rank 2: (Score: 0.105) OPENING OF ACCOUNTS Revisions Page OPENING OF ACCOUNTS TABLE OF CONTENTS 1 INTRODUCTION 11 1.1 General 11 2 ACCOUNT OPEN...\n",
      "  Rank 3: (Score: 0.091) attached on Document details during account opening on menu OSA (Open Savings Account) or menu OCA (Open Current Account...\n",
      "  Rank 4: (Score: 0.084) accounts opened under negotiated interest type of product. A/c Preferential Interest (Dr) - This field indicates the pre...\n",
      "  Rank 5: (Score: 0.083) This field indicates the preferential interest (negative percent) set at the account level which is applicable to the ac...\n",
      "\n",
      "Query: How to change account signatories?\n",
      "Precision@5: 0.80, Recall@5: 0.67, MRR: 1.00\n",
      "Top retrieved chunks preview:\n",
      "  Rank 1: (Score: 0.328) The Banks requires organizations such as companies, trusts and partnerships to have a certain number of directors, trust...\n",
      "  Rank 2: (Score: 0.271) Church Registration Certificate from the registrar of societies Board resolution to open the account, signed off by the ...\n",
      "  Rank 3: (Score: 0.197) Section of the Operating Manual on Dormant Accounts. The system automatically flags an account as dormant if it has had ...\n",
      "  Rank 4: (Score: 0.183) how it can be used) who can access information about the account. Customer Mandates, Orders or other Authorities are to ...\n",
      "  Rank 5: (Score: 0.152) OPENING OF ACCOUNTS Revisions Page OPENING OF ACCOUNTS TABLE OF CONTENTS 1 INTRODUCTION 11 1.1 General 11 2 ACCOUNT OPEN...\n",
      "\n",
      "Query: Joint account signing requirements\n",
      "Precision@5: 1.00, Recall@5: 0.67, MRR: 1.00\n",
      "Top retrieved chunks preview:\n",
      "  Rank 1: (Score: 0.349) OPENING OF ACCOUNTS Revisions Page OPENING OF ACCOUNTS TABLE OF CONTENTS 1 INTRODUCTION 11 1.1 General 11 2 ACCOUNT OPEN...\n",
      "  Rank 2: (Score: 0.252) The Banks requires organizations such as companies, trusts and partnerships to have a certain number of directors, trust...\n",
      "  Rank 3: (Score: 0.245) Details Field The following information is displayed in the Scheme Details tab which its set up is done at the product l...\n",
      "  Rank 4: (Score: 0.209) payment system details if the Interest Credit indicator is set as payment system in the interest Details Screen Click Co...\n",
      "  Rank 5: (Score: 0.193) the relevant authority as per the registration of the organization. Note: Relevant Authority being representatives of th...\n",
      "\n",
      "Query: Staff account procedures\n",
      "Precision@5: 1.00, Recall@5: 0.33, MRR: 1.00\n",
      "Top retrieved chunks preview:\n",
      "  Rank 1: (Score: 0.456) be processed in the same manner as in the case for a new application. Ex-staff enjoy a package of preferential rates apa...\n",
      "  Rank 2: (Score: 0.437) Upon demise of a staff member, the staff account to be retained under scheme code STCUR A deceased staff current account...\n",
      "  Rank 3: (Score: 0.362) weekly / monthly / quarterly / yearly loan repayment. The debt is recovered from the escrow account as and when the peri...\n",
      "  Rank 4: (Score: 0.253) received. ACCOUNT OPENING REQUIREMENTS Know Your Customer (KYC) KYC at the point of account opening is crucial and staff...\n",
      "  Rank 5: (Score: 0.234) the same scheme type i.e., savings to savings and current to current (Refer to Chapter 25 - Transfer of account between ...\n",
      "\n",
      "Query: Ex-staff account handling\n",
      "Precision@5: 1.00, Recall@5: 0.67, MRR: 1.00\n",
      "Top retrieved chunks preview:\n",
      "  Rank 1: (Score: 0.484) Upon demise of a staff member, the staff account to be retained under scheme code STCUR A deceased staff current account...\n",
      "  Rank 2: (Score: 0.280) the same scheme type i.e., savings to savings and current to current (Refer to Chapter 25 - Transfer of account between ...\n",
      "  Rank 3: (Score: 0.279) weekly / monthly / quarterly / yearly loan repayment. The debt is recovered from the escrow account as and when the peri...\n",
      "  Rank 4: (Score: 0.205) be processed in the same manner as in the case for a new application. Ex-staff enjoy a package of preferential rates apa...\n",
      "  Rank 5: (Score: 0.169) applicable Consolidate account balances (where consolidation of outstanding current account/ arrears accounts with the e...\n",
      "\n",
      "Query: Account opening process in BPMS\n",
      "Precision@5: 0.60, Recall@5: 1.00, MRR: 1.00\n",
      "Top retrieved chunks preview:\n",
      "  Rank 1: (Score: 0.457) a new one made. Where a lost Visa Electron card report has been made by the customer such an account shall be blocked in...\n",
      "  Rank 2: (Score: 0.230) Documents Choose the document you intend to upload from the appropriate Document Name. Click on upload documents button....\n",
      "  Rank 3: (Score: 0.222) Conditions Once the customer signs on the Terms and Condition, select Yes and click Submit. This will take you to the ne...\n",
      "  Rank 4: (Score: 0.194) attached on Document details during account opening on menu OSA (Open Savings Account) or menu OCA (Open Current Account...\n",
      "  Rank 5: (Score: 0.184) before making their decision. Approve – Route the case back to SDO for account opening to be completed Defer – Capture c...\n"
     ]
    }
   ],
   "source": [
    "# Evaluate TF-IDF Retrieval\n",
    "\n",
    "precisions, recalls, mrrs = [], [], []\n",
    "k = 5  # you can change to 10, 20, etc.\n",
    "\n",
    "for item in test_queries:\n",
    "    query = item[\"query\"]\n",
    "    gold = item[\"gold\"]\n",
    "\n",
    "    # Run TF-IDF search\n",
    "    results = tfidf_search(query, k=k)\n",
    "    retrieved = [r[0] for r in results]\n",
    "\n",
    "    # Compute metrics\n",
    "    p = precision_at_k(retrieved, gold, k)\n",
    "    r = recall_at_k(retrieved, gold, k)\n",
    "    mrr = mrr_score(retrieved, gold)\n",
    "\n",
    "    precisions.append(p)\n",
    "    recalls.append(r)\n",
    "    mrrs.append(mrr)\n",
    "\n",
    "    # Show results\n",
    "    print(f\"\\nQuery: {query}\")\n",
    "    print(f\"Precision@{k}: {p:.2f}, Recall@{k}: {r:.2f}, MRR: {mrr:.2f}\")\n",
    "    print(\"Top retrieved chunks preview:\")\n",
    "    for j, (chunk, score) in enumerate(results, start=1):\n",
    "        print(f\"  Rank {j}: (Score: {score:.3f}) {chunk[:120]}...\")\n",
    "\n"
   ]
  },
  {
   "cell_type": "code",
   "execution_count": 42,
   "id": "a1cbae15",
   "metadata": {},
   "outputs": [
    {
     "name": "stdout",
     "output_type": "stream",
     "text": [
      "Precision@5: 0.61\n",
      "Recall@5: 0.64\n",
      "MRR: 0.83\n"
     ]
    }
   ],
   "source": [
    "print(f\"Precision@{k}: {np.mean(precisions):.2f}\")\n",
    "print(f\"Recall@{k}: {np.mean(recalls):.2f}\")\n",
    "print(f\"MRR: {np.mean(mrrs):.2f}\")\n"
   ]
  },
  {
   "cell_type": "markdown",
   "id": "bffb350f",
   "metadata": {},
   "source": [
    "The model achieved a Precision@5 of 0.61, meaning that 61% of the top five retrieved documents were relevant to the query. A Recall@5 of 0.64 indicates that the system successfully retrieved 64% of all relevant documents within the top five results. The Mean Reciprocal Rank (MRR) of 0.83 suggests that, on average, the first relevant document appeared very high in the ranking—typically among the top positions."
   ]
  },
  {
   "cell_type": "markdown",
   "id": "c78b091e",
   "metadata": {},
   "source": [
    "# 8.0 Project Deployment\n"
   ]
  },
  {
   "cell_type": "markdown",
   "id": "71f3d99d",
   "metadata": {},
   "source": [
    "The MiniLM model combined with FAISS Indexing was selected for deployment because of its superior performance in retrieving relevant texts from the document corpus. Deployment was carried out using Streamlit Cloud, a lightweight and user-friendly platform that simplifies the process of hosting and sharing machine learning applications. This approach ensured both efficiency in retrieval tasks and ease of accessibility for end users."
   ]
  },
  {
   "cell_type": "markdown",
   "id": "6c4cb6e3",
   "metadata": {},
   "source": [
    "# 9.0  Recomendation\n",
    "\n",
    "1. **Refine Data Segmentation**  \n",
    "   - Break down the compliance manual into **sections, policies, and rules** for more precise retrieval.  \n",
    "   - Work with compliance officers to validate accuracy of extracted content.  \n",
    "\n",
    "2. **Enhance Modeling**  \n",
    "   - Move from simple similarity search to **advanced retrieval models** (e.g., Retrieval-Augmented Generation).  \n",
    "   - Explore **fine-tuned QA models** on compliance-specific data for better contextual answers.  \n",
    "\n",
    "3. **Evaluation Framework**  \n",
    "   - Define metrics with domain experts (precision, recall, relevance).  \n",
    "   - Conduct **human-in-the-loop evaluation** where staff review chatbot responses.  \n",
    "\n",
    "4. **User Experience & Deployment**  \n",
    "   - Build a **web-based or intranet chatbot** for easy staff access.  \n",
    "   - Integrate into the bank’s existing **CRM or core banking systems**.  \n",
    "   - Add feedback mechanisms so staff can flag inaccurate or outdated answers.  \n",
    "\n",
    "5. **Scalability & Governance**  \n",
    "   - Expand to cover other policy documents (credit manuals, HR policies, risk frameworks).  \n",
    "   - Ensure robust **data privacy, auditability, and compliance with regulatory standards**.  \n"
   ]
  },
  {
   "cell_type": "markdown",
   "id": "0b54281b",
   "metadata": {},
   "source": [
    "## 10.0 Conclusion  \n",
    "\n",
    "This project demonstrates the development of a prototype **compliance chatbot** designed to support front-office and operations staff in navigating complex KYC/AML/CFT regulatory requirements. Starting with ingestion of compliance manuals in `.docx` format, we successfully implemented steps for **data preprocessing, cleaning, and exploratory analysis**, ensuring the raw text could be transformed into a structured format suitable for NLP tasks.  \n",
    "\n",
    "By applying **document statistics, word frequency analysis, embeddings, and similarity search**, the system shows potential to retrieve relevant compliance information in response to staff queries. This directly supports the business objective of **improving efficiency, accuracy, and consistency** during customer onboarding and compliance checks.  \n"
   ]
  }
 ],
 "metadata": {
  "kernelspec": {
   "display_name": "base",
   "language": "python",
   "name": "python3"
  },
  "language_info": {
   "codemirror_mode": {
    "name": "ipython",
    "version": 3
   },
   "file_extension": ".py",
   "mimetype": "text/x-python",
   "name": "python",
   "nbconvert_exporter": "python",
   "pygments_lexer": "ipython3",
   "version": "3.13.5"
  }
 },
 "nbformat": 4,
 "nbformat_minor": 5
}
