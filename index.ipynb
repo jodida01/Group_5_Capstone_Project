{
 "cells": [
  {
   "cell_type": "markdown",
   "id": "f2b1ecf8",
   "metadata": {},
   "source": [
    "# Project Overview: "
   ]
  },
  {
   "cell_type": "markdown",
   "id": "7dcd246c",
   "metadata": {},
   "source": [
    "\n",
    "## Collaborators:\n",
    "\n",
    "1. Agnes Chomba\n",
    "\n",
    "2. Derrick Malinga\n",
    "\n",
    "3. Erick Okacha\n",
    "\n",
    "4. Judah Odida\n",
    "\n",
    "5. Lucas Ominde\n",
    "\n",
    "6. Nick  Mwai\n",
    "\n",
    "7. Olgah Omollo\n",
    "\n",
    "# FinComBot - Compliance Chatbot \n",
    "\n",
    "## 1. Background\n",
    "Financial institutions face increasing pressure to comply with stringent regulatory frameworks governing customer onboarding, Know Your Customer (KYC), Customer Due Diligence (CDD), Enhanced Due Diligence (EDD), Anti-Money Laundering (AML), Counter Terrorism Financing, Counter Proliferation Financing (CPF), and sanctions screening. These obligations are complex, continuously evolving, and vary across jurisdictions.\n",
    "\n",
    "Staff often face difficulties accessing and interpreting regulatory documents and internal policies, leading to:\n",
    "-\tDelays in onboarding, affecting customer experience and revenue.\n",
    "-\tInconsistent application of compliance procedures.\n",
    "-\tOverdependence on compliance officers for basic guidance.\n",
    "-\tIncreased risk of regulatory breaches which may lead to fining by regulators and put the bank at risk of its license being suspended.\n",
    "\n",
    "\n",
    "\n"
   ]
  },
  {
   "cell_type": "markdown",
   "id": "3b06af7f",
   "metadata": {},
   "source": [
    "#  2. Business Objective\n",
    "\n",
    "a.)  Build a chatbot that retrieves accurate compliance information \n",
    "from the bank’s KYC/AML/CTF/CPF policies and responds to staff queries.\n"
   ]
  },
  {
   "cell_type": "markdown",
   "id": "7b5d1ad0",
   "metadata": {},
   "source": [
    "\n",
    "## 3. Target Audience\n",
    "\n",
    "a.) Front office / Relationship Managers (who onboard customers)\n",
    "\n",
    "b.)  Operations staff (who process documents)\n",
    "\n",
    "c.) Compliance officers (for guidance validation)\n",
    "\n",
    "d.) New staff (as a training tool)\n",
    "\n",
    "e.) Risk & Audit teams (for oversight)\n",
    "\n",
    "\n",
    "##  4. Data Understanding\n",
    "Data Source: \n",
    "a. Internal compliance policy, stored in Word (.docx) format,  Contains: KYC procedures, AML red flags, CDD/EDD checklists, risk rating methodology, regulatory guidelines (FATF, CBK, CMA)\n",
    "\n",
    "Data Characteristics:Unstructured text (paragraphs, checklists), Multiple sections (policies, procedures, workflows), Needs preprocessing before AI ingestion\n"
   ]
  },
  {
   "cell_type": "markdown",
   "id": "9cfb0a67",
   "metadata": {},
   "source": [
    "### 1. Data Preprocessing"
   ]
  },
  {
   "cell_type": "code",
   "execution_count": 1,
   "id": "6a84bf36",
   "metadata": {},
   "outputs": [],
   "source": [
    "import pandas as pd\n",
    "import docx as docx\n",
    "from docx.shared import Pt"
   ]
  },
  {
   "cell_type": "code",
   "execution_count": 2,
   "id": "cd5b24c8",
   "metadata": {},
   "outputs": [],
   "source": [
    "import os\n",
    "\n",
    "# Ensure TensorFlow is disabled (avoids keras issues)\n",
    "os.environ[\"USE_TF\"] = \"0\"\n",
    "os.environ[\"TRANSFORMERS_NO_TF\"] = \"1\"\n",
    "\n",
    "from sentence_transformers import SentenceTransformer\n",
    "import faiss\n",
    "import numpy as np\n",
    "import docx\n"
   ]
  },
  {
   "cell_type": "markdown",
   "id": "8abdb4a8",
   "metadata": {},
   "source": [
    "Load the raw document (.docx) "
   ]
  },
  {
   "cell_type": "code",
   "execution_count": 3,
   "id": "274ab104",
   "metadata": {},
   "outputs": [
    {
     "name": "stdout",
     "output_type": "stream",
     "text": [
      "OPENING OF ACCOUNTS\n",
      "TABLE OF CONTENTS\n",
      "1\tINTRODUCTION\t11\n",
      "1.1\tGeneral\t11\n",
      "2\tACCOUNT OPENING REQUIREMENTS\t11\n",
      "2.1\tKnow Your Customer (KYC)\t11\n",
      "2.2\tAccount Opening Requirements on Referee\t11\n",
      "2.3\tDocumentation Required for Account Opening\t12\n",
      "2.4\tAccount Opening Requirements for Foreign Nationals\t34\n",
      "2.4.1\tResident Foreign Nationals\t34\n",
      "2.4.2\tAccount Opening Requirements for Non-Resident Foreign Nationals (As Per CBK Prudential Guidelines).\t35\n",
      "2.4.3\tMinimum requirements for Resident Foreigners\t35\n",
      "2.4.4\tAcc\n"
     ]
    }
   ],
   "source": [
    "from docx import Document\n",
    "\n",
    "def load_docx(file_path):\n",
    "    doc = Document(file_path)\n",
    "    return \"\\n\".join([para.text for para in doc.paragraphs if para.text.strip()])\n",
    "\n",
    "# Use the correct relative path\n",
    "text = load_docx(r\"Data\\SEC5 - OPENING OF ACCOUNTS (004).docx.docx\")\n",
    "print(text[:500])  # preview first 500 characters\n"
   ]
  },
  {
   "cell_type": "code",
   "execution_count": null,
   "id": "2cce8739",
   "metadata": {},
   "outputs": [],
   "source": []
  }
 ],
 "metadata": {
  "kernelspec": {
   "display_name": "learn-env",
   "language": "python",
   "name": "python3"
  },
  "language_info": {
   "codemirror_mode": {
    "name": "ipython",
    "version": 3
   },
   "file_extension": ".py",
   "mimetype": "text/x-python",
   "name": "python",
   "nbconvert_exporter": "python",
   "pygments_lexer": "ipython3",
   "version": "3.8.5"
  }
 },
 "nbformat": 4,
 "nbformat_minor": 5
}
