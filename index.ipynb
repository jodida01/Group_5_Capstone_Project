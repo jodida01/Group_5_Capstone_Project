{
 "cells": [
  {
   "cell_type": "markdown",
   "id": "f2b1ecf8",
   "metadata": {},
   "source": [
    "# Project Overview: "
   ]
  },
  {
   "cell_type": "markdown",
   "id": "7dcd246c",
   "metadata": {},
   "source": [
    "\n",
    "## Collaborators:\n",
    "\n",
    "1. Agnes Chomba\n",
    "\n",
    "2. Derrick Malinga\n",
    "\n",
    "3. Erick Okacha\n",
    "\n",
    "4. Judah Odida\n",
    "\n",
    "5. Lucas Ominde\n",
    "\n",
    "6. Nick  Mwai\n",
    "\n",
    "7. Olgah Omollo\n",
    "\n",
    "# FinComBot - Compliance Chatbot \n",
    "\n",
    "## 1. Background\n",
    "Financial institutions face increasing pressure to comply with stringent regulatory frameworks governing customer onboarding, Know Your Customer (KYC), Customer Due Diligence (CDD), Enhanced Due Diligence (EDD), Anti-Money Laundering (AML), Counter Terrorism Financing, Counter Proliferation Financing (CPF), and sanctions screening. These obligations are complex, continuously evolving, and vary across jurisdictions.\n",
    "\n",
    "Staff often face difficulties accessing and interpreting regulatory documents and internal policies, leading to:\n",
    "-\tDelays in onboarding, affecting customer experience and revenue.\n",
    "-\tInconsistent application of compliance procedures.\n",
    "-\tOverdependence on compliance officers for basic guidance.\n",
    "-\tIncreased risk of regulatory breaches which may lead to fining by regulators and put the bank at risk of its license being suspended.\n",
    "\n",
    "\n",
    "\n"
   ]
  },
  {
   "cell_type": "markdown",
   "id": "3b06af7f",
   "metadata": {},
   "source": [
    "#  2. Business Objective\n",
    "\n",
    "a.)  Build a chatbot that retrieves accurate compliance information \n",
    "from the bank’s KYC/AML/CTF/CPF policies and responds to staff queries.\n"
   ]
  },
  {
   "cell_type": "markdown",
   "id": "7b5d1ad0",
   "metadata": {},
   "source": [
    "\n",
    "## 3. Target Audience\n",
    "\n",
    "a.) Front office / Relationship Managers (who onboard customers)\n",
    "\n",
    "b.)  Operations staff (who process documents)\n",
    "\n",
    "c.) Compliance officers (for guidance validation)\n",
    "\n",
    "d.) New staff (as a training tool)\n",
    "\n",
    "e.) Risk & Audit teams (for oversight)\n",
    "\n",
    "\n",
    "##  4. Data Understanding\n",
    "Data Source: \n",
    "a. Internal compliance policy, stored in Word (.docx) format,  Contains: KYC procedures, AML red flags, CDD/EDD checklists, risk rating methodology, regulatory guidelines (FATF, CBK, CMA)\n",
    "\n",
    "Data Characteristics:Unstructured text (paragraphs, checklists), Multiple sections (policies, procedures, workflows), Needs preprocessing before AI ingestion\n"
   ]
  },
  {
   "cell_type": "markdown",
   "id": "9cfb0a67",
   "metadata": {},
   "source": [
    "### 1. Data Preprocessing"
   ]
  },
  {
   "cell_type": "code",
   "execution_count": 1,
   "id": "6a84bf36",
   "metadata": {},
   "outputs": [],
   "source": [
    "import pandas as pd\n",
    "import docx as docx\n",
    "from docx.shared import Pt"
   ]
  },
  {
   "cell_type": "code",
   "execution_count": 2,
   "id": "cd5b24c8",
   "metadata": {},
   "outputs": [],
   "source": [
    "import os\n",
    "\n",
    "# Ensure TensorFlow is disabled (avoids keras issues)\n",
    "os.environ[\"USE_TF\"] = \"0\"\n",
    "os.environ[\"TRANSFORMERS_NO_TF\"] = \"1\"\n",
    "\n",
    "from sentence_transformers import SentenceTransformer\n",
    "import faiss\n",
    "import numpy as np\n",
    "import docx\n"
   ]
  },
  {
   "cell_type": "markdown",
   "id": "8abdb4a8",
   "metadata": {},
   "source": [
    "Load the raw document (.docx) "
   ]
  },
  {
   "cell_type": "code",
   "execution_count": 3,
   "id": "274ab104",
   "metadata": {},
   "outputs": [
    {
     "name": "stdout",
     "output_type": "stream",
     "text": [
      "OPENING OF ACCOUNTS\n",
      "TABLE OF CONTENTS\n",
      "1\tINTRODUCTION\t11\n",
      "1.1\tGeneral\t11\n",
      "2\tACCOUNT OPENING REQUIREMENTS\t11\n",
      "2.1\tKnow Your Customer (KYC)\t11\n",
      "2.2\tAccount Opening Requirements on Referee\t11\n",
      "2.3\tDocumentation Required for Account Opening\t12\n",
      "2.4\tAccount Opening Requirements for Foreign Nationals\t34\n",
      "2.4.1\tResident Foreign Nationals\t34\n",
      "2.4.2\tAccount Opening Requirements for Non-Resident Foreign Nationals (As Per CBK Prudential Guidelines).\t35\n",
      "2.4.3\tMinimum requirements for Resident Foreigners\t35\n",
      "2.4.4\tAcc\n"
     ]
    }
   ],
   "source": [
    "from docx import Document\n",
    "\n",
    "def load_docx(file_path):\n",
    "    doc = Document(file_path)\n",
    "    return \"\\n\".join([para.text for para in doc.paragraphs if para.text.strip()])\n",
    "\n",
    "# Use the correct relative path\n",
    "text = load_docx(r\"Data\\SEC5 - OPENING OF ACCOUNTS (004).docx.docx\")\n",
    "print(text[:500])  # preview first 500 characters\n"
   ]
  },
  {
   "cell_type": "markdown",
   "id": "de32251a",
   "metadata": {},
   "source": [
    "Clean & normalize text — Notebook cells"
   ]
  },
  {
   "cell_type": "code",
   "execution_count": 4,
   "id": "2cce8739",
   "metadata": {},
   "outputs": [
    {
     "name": "stdout",
     "output_type": "stream",
     "text": [
      "Working dir: c:\\Users\\User\\OneDrive\\Desktop\\Group_5_Capstone_Project\\Group_5_Capstone_Project\n",
      "Text variable exists: True\n",
      "\n",
      "--- ORIGINAL STATS ---\n",
      "Characters: 165696\n",
      "Words: 26098\n",
      "Non-empty lines: 2529\n",
      "\n",
      "--- PREVIEW (first 1000 chars) ---\n",
      "\n",
      "OPENING OF ACCOUNTS TABLE OF CONTENTS 1       INTRODUCTION    11 1.1     General 11 2       ACCOUNT OPENING REQUIREMENTS\n",
      "11 2.1     Know Your Customer (KYC)        11 2.2     Account Opening Requirements on Referee 11 2.3     Documentation\n",
      "Required for Account Opening      12 2.4     Account Opening Requirements for Foreign Nationals      34 2.4.1   Resident\n",
      "Foreign Nationals      34 2.4.2   Account Opening Requirements for Non-Resident Foreign Nationals (As Per CBK Prudential\n",
      "Guidelines).     35 2.4.3   Minimum requirements for Resident Foreigners    35 2.4.4   Account Opening Requirements for\n",
      "Companies with Foreign Nationals as Directors  35 2.4.5   Account Opening Requirements for Temporary Residents\n",
      "(Students, Spouses, Attaché’s to Foreign Missions in Kenya, Next Of Kin etc.)      36 2.4.6   Non-resident Foreigners 36\n",
      "2.5     Account Opening Requirements for Scrap Metal Dealers    36 2.5.1   Additional Account opening requirements for\n",
      "Scrap Metal Dealers 36 2.6     Requirements for Opening a Medical Fund Account 37 2.7     Account Opening Requirements\n",
      "for Religious Organizations\n"
     ]
    }
   ],
   "source": [
    "# === Cell A: Preview + basic stats ===\n",
    "import os, textwrap\n",
    "\n",
    "print(\"Working dir:\", os.getcwd())\n",
    "print(\"Text variable exists:\", 'text' in globals())\n",
    "\n",
    "orig = text  # your loaded document text\n",
    "print(\"\\n--- ORIGINAL STATS ---\")\n",
    "print(\"Characters:\", len(orig))\n",
    "print(\"Words:\", len(orig.split()))\n",
    "non_empty_lines = [L for L in orig.splitlines() if L.strip()]\n",
    "print(\"Non-empty lines:\", len(non_empty_lines))\n",
    "print(\"\\n--- PREVIEW (first 1000 chars) ---\\n\")\n",
    "print(textwrap.fill(orig[:1000], width=120))\n"
   ]
  },
  {
   "cell_type": "code",
   "execution_count": null,
   "id": "f9539bad",
   "metadata": {},
   "outputs": [],
   "source": [
    "# === Cell B: Cleaning function  ===\n",
    "import re\n",
    "import unicodedata\n",
    "\n",
    "def clean_text(\n",
    "    text,\n",
    "    lowercase=False,\n",
    "    remove_empty_lines=True,\n",
    "    normalize_unicode=True,\n",
    "    normalize_whitespace=True,\n",
    "    remove_page_numbers=True\n",
    "):\n",
    "    \"\"\"\n",
    "    Clean and normalize a document string.\n",
    "\n",
    "    - normalize_unicode: use NFKC normalization (fixes weird unicode forms)\n",
    "    - remove_page_numbers: drop standalone numeric lines like \"1\" or \"Page 1\"\n",
    "    - remove_empty_lines: remove empty/blank lines and collapse into paragraphs\n",
    "    - normalize_whitespace: collapse repeated spaces/tabs/newlines\n",
    "    - lowercase: optional - keep off by default (recommended: keep case for embeddings)\n",
    "    \"\"\"\n",
    "    if normalize_unicode:\n",
    "        text = unicodedata.normalize(\"NFKC\", text)\n",
    "\n",
    "    # Normalize line endings\n",
    "    text = text.replace(\"\\r\\n\", \"\\n\").replace(\"\\r\", \"\\n\")\n",
    "\n",
    "    # Replace non-breaking spaces\n",
    "    text = text.replace(\"\\u00A0\", \" \")\n",
    "\n",
    "    # Normalize common smart quotes to ascii quotes\n",
    "    text = text.replace(\"“\", '\"').replace(\"”\", '\"').replace(\"‘\", \"'\").replace(\"’\", \"'\")\n",
    "\n",
    "    # Remove unprintable control characters (keep \\n and \\t)\n",
    "    text = \"\".join(ch for ch in text if ch.isprintable() or ch in \"\\n\\t\")\n",
    "\n",
    "    # Optionally drop page headers/footers that look like \"Page 1\" or just \"1\"\n",
    "    if remove_page_numbers:\n",
    "        out_lines = []\n",
    "        for line in text.split(\"\\n\"):\n",
    "            s = line.strip()\n",
    "            # common patterns to remove\n",
    "            if re.fullmatch(r'page\\s*\\d+', s, flags=re.IGNORECASE):\n",
    "                continue\n",
    "            if re.fullmatch(r'\\d{1,4}', s):  # standalone numbers (likely page numbers)\n",
    "                continue\n",
    "            out_lines.append(line)\n",
    "        text = \"\\n\".join(out_lines)\n",
    "\n",
    "    # Trim each line, optionally remove empty lines and join paragraphs with a blank line\n",
    "    if remove_empty_lines:\n",
    "        lines = [line.strip() for line in text.split(\"\\n\")]\n",
    "        lines = [line for line in lines if line != \"\"]  # drop blank lines\n",
    "        # join paragraphs with a double newline (keeps paragraph boundaries)\n",
    "        text = \"\\n\\n\".join(lines)\n",
    "\n",
    "    # Normalize internal whitespace\n",
    "    if normalize_whitespace:\n",
    "        # collapse multiple spaces/tabs to single space\n",
    "        text = re.sub(r'[ \\t]+', ' ', text)\n",
    "        # collapse 3+ newlines to two (we keep paragraph separation)\n",
    "        text = re.sub(r'\\n{3,}', '\\n\\n', text)\n",
    "        text = text.strip()\n",
    "\n",
    "    if lowercase:\n",
    "        text = text.lower()\n",
    "\n",
    "    return text\n"
   ]
  },
  {
   "cell_type": "code",
   "execution_count": 6,
   "id": "6e5e2314",
   "metadata": {},
   "outputs": [
    {
     "name": "stdout",
     "output_type": "stream",
     "text": [
      "ORIGINAL: chars = 165696 words = 26098\n",
      "CLEANED : chars = 167563 words = 26098\n",
      "\n",
      "--- CLEANED PREVIEW ---\n",
      "\n",
      "OPENING OF ACCOUNTS\n",
      "\n",
      "TABLE OF CONTENTS\n",
      "\n",
      "1 INTRODUCTION 11\n",
      "\n",
      "1.1 General 11\n",
      "\n",
      "2 ACCOUNT OPENING REQUIREMENTS 11\n",
      "\n",
      "2.1 Know Your Customer (KYC) 11\n",
      "\n",
      "2.2 Account Opening Requirements on Referee 11\n",
      "\n",
      "2.3 Documentation Required for Account Opening 12\n",
      "\n",
      "2.4 Account Opening Requirements for Foreign Nationals 34\n",
      "\n",
      "2.4.1 Resident Foreign Nationals 34\n",
      "\n",
      "2.4.2 Account Opening Requirements for Non-Resident Foreign Nationals (As Per CBK Prudential Guidelines). 35\n",
      "\n",
      "2.4.3 Minimum requirements for Resident Foreigners 35\n",
      "\n",
      "2.4.4 Account Opening Requirements for Companies with Foreign Nationals as Directors 35\n",
      "\n",
      "2.4.5 Account Opening Requirements for Temporary Residents (Students, Spouses, Attaché's to Foreign Missions in Kenya, Next Of Kin etc.) 36\n",
      "\n",
      "2.4.6 Non-resident Foreigners 36\n",
      "\n",
      "2.5 Account Opening Requirements for Scrap Metal Dealers 36\n",
      "\n",
      "2.5.1 Additional Account opening requirements for Scrap Metal Dealers 36\n",
      "\n",
      "2.6 Requirements for Opening a Medical Fund Account 37\n",
      "\n",
      "2.7 Account Opening Requirements for Relig\n",
      "\n",
      "Saved cleaned text to: Data/SEC5 - OPENING OF ACCOUNTS (004)_cleaned.txt\n"
     ]
    }
   ],
   "source": [
    "# === Cell C: Apply cleaning, show before/after, save cleaned file ===\n",
    "cleaned = clean_text(text, lowercase=False)   # keep case by default\n",
    "\n",
    "# quick before/after stats\n",
    "print(\"ORIGINAL: chars =\", len(text), \"words =\", len(text.split()))\n",
    "print(\"CLEANED : chars =\", len(cleaned), \"words =\", len(cleaned.split()))\n",
    "\n",
    "# preview first 1000 chars of cleaned text\n",
    "print(\"\\n--- CLEANED PREVIEW ---\\n\")\n",
    "print(cleaned[:1000])\n",
    "\n",
    "# save cleaned text to Data/ (should be .gitignored)\n",
    "out_path = r\"Data/SEC5 - OPENING OF ACCOUNTS (004)_cleaned.txt\"\n",
    "with open(out_path, \"w\", encoding=\"utf-8\") as f:\n",
    "    f.write(cleaned)\n",
    "\n",
    "print(\"\\nSaved cleaned text to:\", out_path)\n"
   ]
  },
  {
   "cell_type": "code",
   "execution_count": 7,
   "id": "bc66f9f3",
   "metadata": {},
   "outputs": [
    {
     "data": {
      "image/png": "[encoded data removed]",
      "text/plain": [
       "<Figure size 576x360 with 1 Axes>"
      ]
     },
     "metadata": {
      "needs_background": "light"
     },
     "output_type": "display_data"
    }
   ],
   "source": [
    "# === Cell D: Visualize before/after cleaning ===\n",
    "import matplotlib.pyplot as plt\n",
    "\n",
    "# Compute stats\n",
    "stats = {\n",
    "    \"Original\": {\"chars\": len(text), \"words\": len(text.split())},\n",
    "    \"Cleaned\": {\"chars\": len(cleaned), \"words\": len(cleaned.split())}\n",
    "}\n",
    "\n",
    "labels = list(stats.keys())\n",
    "chars = [stats[label][\"chars\"] for label in labels]\n",
    "words = [stats[label][\"words\"] for label in labels]\n",
    "\n",
    "# Plot\n",
    "fig, ax = plt.subplots(figsize=(8,5))\n",
    "\n",
    "bar_width = 0.35\n",
    "x = range(len(labels))\n",
    "\n",
    "# Two bars for chars and words\n",
    "ax.bar(x, chars, width=bar_width, label='Characters', color='skyblue')\n",
    "ax.bar([i + bar_width for i in x], words, width=bar_width, label='Words', color='salmon')\n",
    "\n",
    "ax.set_xticks([i + bar_width/2 for i in x])\n",
    "ax.set_xticklabels(labels)\n",
    "ax.set_ylabel('Count')\n",
    "ax.set_title('Document Size Before and After Cleaning')\n",
    "ax.legend()\n",
    "\n",
    "plt.show()\n"
   ]
  },
  {
   "cell_type": "markdown",
   "id": "09db450c",
   "metadata": {},
   "source": [
    "The cleaning step successfully reduces minor noise without compromising meaningful content, making the document suitable for further processing."
   ]
  },
  {
   "cell_type": "code",
   "execution_count": 8,
   "id": "1eb49436",
   "metadata": {},
   "outputs": [
    {
     "name": "stdout",
     "output_type": "stream",
     "text": [
      "Number of chunks: 320\n",
      "\n",
      "--- Sample chunk ---\n",
      "\n",
      "OPENING OF ACCOUNTS\n",
      "\n",
      "TABLE OF CONTENTS\n",
      "\n",
      "1 INTRODUCTION 11\n",
      "\n",
      "1.1 General 11\n",
      "\n",
      "2 ACCOUNT OPENING REQUIREMENTS 11\n",
      "\n",
      "2.1 Know Your Customer (KYC) 11\n",
      "\n",
      "2.2 Account Opening Requirements on Referee 11\n",
      "\n",
      "2.3 Documentation Required for Account Opening 12\n",
      "\n",
      "2.4 Account Opening Requirements for Foreign Nationals 34\n",
      "\n",
      "2.4.1 Resident Foreign Nationals 34\n",
      "\n",
      "2.4.2 Account Opening Requirements for Non-Resident Foreign Nationals (As Per CBK Prudential Guidelines).\n"
     ]
    }
   ],
   "source": [
    "# === Cell E: Split text into chunks ===\n",
    "import re\n",
    "\n",
    "def split_text_into_chunks(text, max_chars=500, overlap=50):\n",
    "    \"\"\"\n",
    "    Splits text into chunks of max_chars with optional overlap.\n",
    "    Keeps sentences intact (splits on punctuation).\n",
    "    \"\"\"\n",
    "    # Split text into sentences\n",
    "    sentences = re.split(r'(?<=[.!?]) +', text)\n",
    "    \n",
    "    chunks = []\n",
    "    current_chunk = \"\"\n",
    "    \n",
    "    for sentence in sentences:\n",
    "        if len(current_chunk) + len(sentence) <= max_chars:\n",
    "            current_chunk += \" \" + sentence if current_chunk else sentence\n",
    "        else:\n",
    "            chunks.append(current_chunk.strip())\n",
    "            # start new chunk with overlap\n",
    "            current_chunk = \" \".join(current_chunk.split()[-overlap:]) + \" \" + sentence if overlap else sentence\n",
    "\n",
    "    # Add last chunk\n",
    "    if current_chunk:\n",
    "        chunks.append(current_chunk.strip())\n",
    "    \n",
    "    return chunks\n",
    "\n",
    "# Apply chunking\n",
    "chunks = split_text_into_chunks(cleaned, max_chars=500, overlap=50)\n",
    "\n",
    "print(\"Number of chunks:\", len(chunks))\n",
    "print(\"\\n--- Sample chunk ---\\n\")\n",
    "print(chunks[0])\n"
   ]
  },
  {
   "cell_type": "code",
   "execution_count": 9,
   "id": "2b04e72a",
   "metadata": {},
   "outputs": [
    {
     "data": {
      "image/png": "[encoded data removed]",
      "text/plain": [
       "<Figure size 864x360 with 1 Axes>"
      ]
     },
     "metadata": {
      "needs_background": "light"
     },
     "output_type": "display_data"
    }
   ],
   "source": [
    "import matplotlib.pyplot as plt\n",
    "\n",
    "# Assume `chunks` is your list of text chunks\n",
    "chunk_lengths = [len(chunk.split()) for chunk in chunks]\n",
    "\n",
    "plt.figure(figsize=(12, 5))\n",
    "plt.bar(range(len(chunk_lengths)), chunk_lengths, color='skyblue')\n",
    "plt.xlabel(\"Chunk Index\")\n",
    "plt.ylabel(\"Number of Words\")\n",
    "plt.title(\"Visualization of Text Chunk Lengths\")\n",
    "plt.show()\n"
   ]
  },
  {
   "cell_type": "markdown",
   "id": "0ce5f5b9",
   "metadata": {},
   "source": [
    "A histogram to show if there are outliers in the Chunks"
   ]
  },
  {
   "cell_type": "code",
   "execution_count": 10,
   "id": "a17e5ab0",
   "metadata": {},
   "outputs": [
    {
     "data": {
      "image/png": "[encoded data removed]",
      "text/plain": [
       "<Figure size 720x360 with 1 Axes>"
      ]
     },
     "metadata": {
      "needs_background": "light"
     },
     "output_type": "display_data"
    }
   ],
   "source": [
    "import matplotlib.pyplot as plt\n",
    "\n",
    "# Compute number of words in each chunk\n",
    "chunk_lengths = [len(chunk.split()) for chunk in chunks]\n",
    "\n",
    "# Create a histogram\n",
    "plt.figure(figsize=(10,5))\n",
    "plt.hist(chunk_lengths, bins=20, color='lightgreen', edgecolor='black')\n",
    "plt.xlabel(\"Number of Words per Chunk\")\n",
    "plt.ylabel(\"Frequency\")\n",
    "plt.title(\"Distribution of Text Chunk Sizes\")\n",
    "plt.show()\n"
   ]
  },
  {
   "cell_type": "markdown",
   "id": "686830b9",
   "metadata": {},
   "source": [
    "- Chunk Length Analysis:\n",
    "The histogram shows the distribution of text chunk lengths after splitting the document. Most chunks are below 50 words, reflecting short paragraphs, bullet points, or sentence fragments. One chunk reaches 200 words, which likely corresponds to a long uninterrupted section in the document (e.g., a detailed paragraph or table).Chunk Length Analysis:\n",
    "The histogram shows the distribution of text chunk lengths after splitting the document. Most chunks are below 50 words, reflecting short paragraphs, bullet points, or sentence fragments. One chunk reaches 200 words, which likely corresponds to a long uninterrupted section in the document (e.g., a detailed paragraph or table)."
   ]
  }
 ],
 "metadata": {
  "kernelspec": {
   "display_name": "learn-env",
   "language": "python",
   "name": "python3"
  },
  "language_info": {
   "codemirror_mode": {
    "name": "ipython",
    "version": 3
   },
   "file_extension": ".py",
   "mimetype": "text/x-python",
   "name": "python",
   "nbconvert_exporter": "python",
   "pygments_lexer": "ipython3",
   "version": "3.8.5"
  }
 },
 "nbformat": 4,
 "nbformat_minor": 5
}
