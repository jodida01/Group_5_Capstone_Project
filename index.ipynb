{
 "cells": [
  {
   "cell_type": "markdown",
   "id": "f2b1ecf8",
   "metadata": {},
   "source": [
    "# Project Overview: "
   ]
  },
  {
   "cell_type": "markdown",
   "id": "7dcd246c",
   "metadata": {},
   "source": [
    "\n",
    "## Collaborators:\n",
    "\n",
    "1. Agnes Chomba\n",
    "\n",
    "2. Derrick Malinga\n",
    "\n",
    "3. Erick Okacha\n",
    "\n",
    "4. Judah Odida\n",
    "\n",
    "5. Lucas Ominde\n",
    "\n",
    "6. Nick  Mwai\n",
    "\n",
    "7. Olgah Omollo\n",
    "\n",
    "# FinComBot - Compliance Chatbot \n",
    "\n",
    "## 1. Background\n",
    "Financial institutions face increasing pressure to comply with stringent regulatory frameworks governing customer onboarding, Know Your Customer (KYC), Customer Due Diligence (CDD), Enhanced Due Diligence (EDD), Anti-Money Laundering (AML), Counter Terrorism Financing, Counter Proliferation Financing (CPF), and sanctions screening. These obligations are complex, continuously evolving, and vary across jurisdictions.\n",
    "\n",
    "Staff often face difficulties accessing and interpreting regulatory documents and internal policies, leading to:\n",
    "-\tDelays in onboarding, affecting customer experience and revenue.\n",
    "-\tInconsistent application of compliance procedures.\n",
    "-\tOverdependence on compliance officers for basic guidance.\n",
    "-\tIncreased risk of regulatory breaches which may lead to fining by regulators and put the bank at risk of its license being suspended.\n",
    "\n",
    "\n",
    "\n"
   ]
  },
  {
   "cell_type": "markdown",
   "id": "3b06af7f",
   "metadata": {},
   "source": [
    "#  2. Business Objective\n",
    "\n",
    "a.)  Build a chatbot that retrieves accurate compliance information \n",
    "from the bank’s KYC/AML/CTF/CPF policies and responds to staff queries.\n"
   ]
  },
  {
   "cell_type": "markdown",
   "id": "7b5d1ad0",
   "metadata": {},
   "source": [
    "\n",
    "## 3. Target Audience\n",
    "\n",
    "a.) Front office / Relationship Managers (who onboard customers)\n",
    "\n",
    "b.)  Operations staff (who process documents)\n",
    "\n",
    "c.) Compliance officers (for guidance validation)\n",
    "\n",
    "d.) New staff (as a training tool)\n",
    "\n",
    "e.) Risk & Audit teams (for oversight)\n",
    "\n",
    "\n",
    "##  4. Data Understanding\n",
    "Data Source: \n",
    "a. Internal compliance policy, stored in Word (.docx) format,  Contains: KYC procedures, AML red flags, CDD/EDD checklists, risk rating methodology, regulatory guidelines (FATF, CBK, CMA)\n",
    "\n",
    "Data Characteristics:Unstructured text (paragraphs, checklists), Multiple sections (policies, procedures, workflows), Needs preprocessing before AI ingestion\n",
    "\n",
    "Data Protection: Given the sensitive nature of the data used in this project, it has been excluded from version control by adding it to .gitignore to maintain security and confidentiality."
   ]
  },
  {
   "cell_type": "markdown",
   "id": "9cfb0a67",
   "metadata": {},
   "source": [
    "### 4.1 Loading Data"
   ]
  },
  {
   "cell_type": "code",
   "execution_count": 37,
   "id": "cd5b24c8",
   "metadata": {},
   "outputs": [],
   "source": [
    "# importing libraries\n",
    "import pandas as pd\n",
    "import docx as docx\n",
    "from docx.shared import Pt\n",
    "\n",
    "import os\n",
    "import pickle\n",
    "import os\n",
    "import matplotlib.pyplot as plt\n",
    "import re\n",
    "import unicodedata\n",
    "\n",
    "import os, textwrap\n",
    "\n",
    "# Ensure TensorFlow is disabled (avoids keras issues)\n",
    "os.environ[\"USE_TF\"] = \"0\"\n",
    "os.environ[\"TRANSFORMERS_NO_TF\"] = \"1\"\n",
    "\n",
    "from sentence_transformers import SentenceTransformer,InputExample, losses\n",
    "from torch.utils.data import DataLoader\n",
    "import faiss\n",
    "import numpy as np\n",
    "from docx import Document\n",
    "from datasets import Dataset\n",
    "from sklearn.preprocessing import normalize\n",
    "\n",
    "\n",
    "\n",
    "\n"
   ]
  },
  {
   "cell_type": "markdown",
   "id": "8abdb4a8",
   "metadata": {},
   "source": [
    "### Load the raw document\n",
    "\n",
    "This step involves loading the raw document, which is provided in .docx format. For the pilot phase of this project, the document used will be the Know Your Customer (KYC) Policy, serving as the reference material for testing and validating the document processing workflow."
   ]
  },
  {
   "cell_type": "code",
   "execution_count": 6,
   "id": "274ab104",
   "metadata": {},
   "outputs": [
    {
     "name": "stdout",
     "output_type": "stream",
     "text": [
      "OPENING OF ACCOUNTS\n",
      "TABLE OF CONTENTS\n",
      "1\tINTRODUCTION\t11\n",
      "1.1\tGeneral\t11\n",
      "2\tACCOUNT OPENING REQUIREMENTS\t11\n",
      "2.1\tKnow Your Customer (KYC)\t11\n",
      "2.2\tAccount Opening Requirements on Referee\t11\n",
      "2.3\tDocumentation Required for Account Opening\t12\n",
      "2.4\tAccount Opening Requirements for Foreign Nationals\t34\n",
      "2.4.1\tResident Foreign Nationals\t34\n",
      "2.4.2\tAccount Opening Requirements for Non-Resident Foreign Nationals (As Per CBK Prudential Guidelines).\t35\n",
      "2.4.3\tMinimum requirements for Resident Foreigners\t35\n",
      "2.4.4\tAcc\n"
     ]
    }
   ],
   "source": [
    "def load_docx(file_path):\n",
    "    doc = Document(file_path)\n",
    "    return \"\\n\".join([para.text for para in doc.paragraphs if para.text.strip()])\n",
    "\n",
    "# Use the correct relative path\n",
    "text = load_docx(\"Data/SEC5 - OPENING OF ACCOUNTS (004).docx.docx\")\n",
    "print(text[:500])  # preview first 500 characters\n"
   ]
  },
  {
   "cell_type": "markdown",
   "id": "de32251a",
   "metadata": {},
   "source": [
    "### 4.2 Data Preprocessing\n",
    "\n",
    "This step involves cleaning and structuring the loaded document to prepare it for further analysis. Key tasks include removing unwanted characters, standardizing text formats, tokenizing content, and extracting relevant sections from the KYC policy. This ensures that the data is consistent, organized, and ready for downstream processing.\n"
   ]
  },
  {
   "cell_type": "markdown",
   "id": "f05b6577",
   "metadata": {},
   "source": [
    "### 4.2.0 Cleaning & normalize text "
   ]
  },
  {
   "cell_type": "code",
   "execution_count": 7,
   "id": "73ed1d8b",
   "metadata": {},
   "outputs": [
    {
     "name": "stdout",
     "output_type": "stream",
     "text": [
      "Working dir: c:\\Users\\user\\OneDrive\\Desktop\\group5_phase5\\Group_5_Capstone_Project\n",
      "Text variable exists: True\n"
     ]
    }
   ],
   "source": [
    "print(\"Working dir:\", os.getcwd()) # confirm working directory\n",
    "print(\"Text variable exists:\", 'text' in globals()) # confirm text variable is loaded"
   ]
  },
  {
   "cell_type": "markdown",
   "id": "56c0f6c0",
   "metadata": {},
   "source": [
    "At this stage, we perform two quick checks before moving on with preprocessing. First, we confirm the working directory by calling os.getcwd(). This ensures that the project is being executed from the correct folder, so that relative paths such as Data/... will resolve properly. Next, we verify that the document content has been successfully loaded into memory. We do this by checking whether the variable text exists in the current environment using 'text' in globals(). If the output returns True, it means the raw .docx file has been read correctly and stored; if it returns False, we need to revisit the document loading step to ensure the data is available for further processin  \n",
    "\n"
   ]
  },
  {
   "cell_type": "markdown",
   "id": "ec97d752",
   "metadata": {},
   "source": [
    "###  4.2.1 Exploratory Document Statistics"
   ]
  },
  {
   "cell_type": "code",
   "execution_count": 8,
   "id": "2cce8739",
   "metadata": {},
   "outputs": [
    {
     "name": "stdout",
     "output_type": "stream",
     "text": [
      "\n",
      "--- ORIGINAL STATS ---\n",
      "Characters: 165696\n",
      "Words: 26098\n",
      "Non-empty lines: 2529\n",
      "\n",
      "--- PREVIEW (first 5000 chars) ---\n",
      "\n",
      "OPENING OF ACCOUNTS TABLE OF CONTENTS 1       INTRODUCTION    11 1.1     General 11 2       ACCOUNT OPENING REQUIREMENTS\n",
      "11 2.1     Know Your Customer (KYC)        11 2.2     Account Opening Requirements on Referee 11 2.3     Documentation\n",
      "Required for Account Opening      12 2.4     Account Opening Requirements for Foreign Nationals      34 2.4.1   Resident\n",
      "Foreign Nationals      34 2.4.2   Account Opening Requirements for Non-Resident Foreign Nationals (As Per CBK Prudential\n",
      "Guidelines).     35 2.4.3   Minimum requirements for Resident Foreigners    35 2.4.4   Account Opening Requirements for\n",
      "Companies with Foreign Nationals as Directors  35 2.4.5   Account Opening Requirements for Temporary Residents\n",
      "(Students, Spouses, Attaché’s to Foreign Missions in Kenya, Next Of Kin etc.)      36 2.4.6   Non-resident Foreigners 36\n",
      "2.5     Account Opening Requirements for Scrap Metal Dealers    36 2.5.1   Additional Account opening requirements for\n",
      "Scrap Metal Dealers 36 2.6     Requirements for Opening a Medical Fund Account 37 2.7     Account Opening Requirements\n",
      "for Religious Organizations        39 2.7.1   Main Church     39 2.7.2   Church Branch Account   39 2.8     Account\n",
      "opening requirements for Private Institutions   40 2.9     Requirements for Change of Signatories for Club, Society,\n",
      "Association, Mission, NGO, Trade Union and Self-Help Groups   41 2.9.1   Disputed Changes        41 2.9.2   Source of\n",
      "instructions/Reason to freeze an account      41 2.10    Requirements for Opening of Additional Accounts 42 2.11    Type\n",
      "of Forms   42 2.11.1  Conditions for Use of Form A1 (g)       43 2.12    Requirements for Change of Signatories and\n",
      "signing mandate for joint account and partnerships account.  45 2.13    Customer Centric Products Engagement Forms\n",
      "48 2.14    Customer Engagement Forms - Critical Data Elements      50 3       LIABILITY PRODUCTS      54 4       General\n",
      "Information     55 4.1     Deposits to Accounts    55 4.2     Withdrawals from Accounts       56 4.3     Interest on\n",
      "Accounts    56 4.4     Cheque Books    56 4.5     National Government Constituency Development Fund Accounts      56\n",
      "4.5.1   Dormant Accounts        56 4.5.2   Transfer of Accounts    57 5       ESCROW ACCOUNTS 57 5.1     Customer\n",
      "Initiated Escrow Accounts:     57 5.2     Bank Initiated Escrow Accounts: 58 5.3     Escrow Account Management       58\n",
      "5.4     Escrow Account Properties       59 6       STAFF ACCOUNTS  59 6.1     Ex-staff Current Accounts       59 6.1.1\n",
      "Transferring of staff accounts to Ex staff accounts in Finacle at the branch.   60 6.2     Ex-staff Loan accounts  60\n",
      "6.3     Staff Credit Cards      62 6.3.1   Credit Card Operation While still in Service    62 6.3.2   Staff Members on\n",
      "suspension     62 6.3.3   Staff Leaving the Bank  62 6.3.4   Implications    63 7       STANDARDS OF SERVICE    63 7.1\n",
      "Interviews      63 7.1.1   Prohibited Accounts     63 7.2     Controls        64 7.3     Time    64 7.4     Authorizing\n",
      "Officer     65 8       ACCOUNT OPENING PROCESS FLOW (BPMS)     65 8.1     Responsibility  65 8.2     Personal and Jumbo\n",
      "Junior Account Opening Process Flow on BPMS  65 8.3     Logging in BPMS (Process Maker) 66 8.4     Starting a case 67\n",
      "8.5     Customer Type Selection 68 8.6     Creation of Party ID for Marketed Accounts      69 8.7     Applicant\n",
      "Identification Document Verification  69 8.8     Verification Results    70 8.8.1   Finacle Blacklist Results       70\n",
      "8.8.2   IPRS Information        70 8.8.3   KRA PIN information     72 8.8.4   Finacle Existing Accounts       73 8.8.5\n",
      "Party Relationships     73 8.9     Capture of Customers Details    74 8.9.1   Customer Details        74 8.9.2   Party\n",
      "Address Details   75 8.9.3   Physical Address        75 8.9.4   Residential Status      75 8.9.5   Contacts Details\n",
      "76 8.9.6   Contact Person Details  76 8.9.7   Contact Preference      77 8.9.8   Other Co-op Accounts    77 8.9.9\n",
      "Employment Details      77 8.9.10  KYC Details     79 8.9.11  Product Selection and AML Details       79 8.9.12  AML\n",
      "Risk Calculation    81 8.9.13  Account Relationship Details    82 8.9.14  Fatca Details   82 8.10    Cross Selling   82\n",
      "8.10.1  My payments     82 8.10.2  Mco-op Cash and Online Banking  83 8.10.3  Alerts Subscription     83 8.10.4\n",
      "Standing Order  84 8.11    Capture of Customers Photo, ID Document Front and Back  84 8.11.1  Walk In Customers       84\n",
      "8.11.2  Marketed Accounts       85 8.12    Select the Signature Type       85 8.12.1  Capture of Customers Signature  86\n",
      "8.13    View Account Details    87 8.14    Opening of Multiple Accounts    87 8.15    Generating Documents (e-form)   89\n",
      "8.16    Signing of Terms and Conditions 89 8.16.1  Upload of Documents     90 8.16.2  Saving of Documents     90 8.16.3\n",
      "Uploading of Documents  90 8.16.4  RTS Cases for Wrong Attachment  91 8.16.5  Amendment Process       91 8.17\n",
      "Forwarding to BOS for Verification and Quality Assurance        92 8.18    Deferred Case   92 8.19    Joint, Sole\n",
      "Proprietorship and Company Accounts Opening Process 93 8.19.1  Process Flow    93 8.20    Alterations on the Account\n",
      "Opening Mandate      94 8.20.1  Confirmation of the Alteration  95 8.21    Blacklist Enquiry       95 9       ACCOUNT\n",
      "OPENING PROCESS FLOW (FINACLE)  96 9.1     Responsibility  96 9.2     Retail CIF Process Flow 97 9.3     Creating a\n",
      "Retail Customer Information File (CIF)       98 9.4     Selecting Customer Type 99 9.5     Performing Dedup, Negative\n",
      "List, blacklist & IPRS Checks        100 9.6     Capturing Basic Details 103 9.7     Capturing Identification Document\n",
      "for a Retail CIF      103 9.7.1   Identification Document Summary 103 9.7.2   Adding a Saved Document using the Add Mode\n",
      "106 9.7.3   Adding a Saved Document Using Link Mode 106 9.7.4   Adding Document\n"
     ]
    }
   ],
   "source": [
    "\n",
    "orig = text  # your loaded document text\n",
    "print(\"\\n--- ORIGINAL STATS ---\")\n",
    "print(\"Characters:\", len(orig))\n",
    "print(\"Words:\", len(orig.split()))\n",
    "non_empty_lines = [L for L in orig.splitlines() if L.strip()]\n",
    "print(\"Non-empty lines:\", len(non_empty_lines))\n",
    "print(\"\\n--- PREVIEW (first 5000 chars) ---\\n\")\n",
    "print(textwrap.fill(orig[:5000], width=120))\n"
   ]
  },
  {
   "cell_type": "markdown",
   "id": "5ae6caa9",
   "metadata": {},
   "source": [
    "Once the raw document text has been successfully loaded, we generate some quick statistics to understand its structure and content. The variable orig stores the loaded text for reference. We then print the number of characters in the document using len(orig), followed by the total word count obtained through len(orig.split()). \n",
    "\n",
    "To check the overall formatting, we also calculate the number of non-empty lines by filtering out blank lines from the text. Finally, to get a sense of the document’s content without scrolling through the entire file, we display a preview of the first 1,000 characters, formatted neatly with textwrap.fill() for readability. This step provides a useful overview of the raw data before deeper preprocessing begins."
   ]
  },
  {
   "cell_type": "code",
   "execution_count": 33,
   "id": "f9539bad",
   "metadata": {},
   "outputs": [],
   "source": [
    "def clean_text(\n",
    "    text,\n",
    "    lowercase=False, # keep case by default (recommended for embeddings)\n",
    "    remove_empty_lines=True,\n",
    "    normalize_unicode=True,\n",
    "    normalize_whitespace=True,\n",
    "    remove_page_numbers=True\n",
    "):\n",
    "    \n",
    "    if normalize_unicode:\n",
    "        text = unicodedata.normalize(\"NFKC\", text)\n",
    "\n",
    "    # Normalize line endings\n",
    "    text = text.replace(\"\\r\\n\", \"\\n\").replace(\"\\r\", \"\\n\")\n",
    "\n",
    "    # Replace non-breaking spaces\n",
    "    text = text.replace(\"\\u00A0\", \" \")\n",
    "\n",
    "    # Normalize common smart quotes to ascii quotes\n",
    "    text = text.replace(\"“\", '\"').replace(\"”\", '\"').replace(\"‘\", \"'\").replace(\"’\", \"'\")\n",
    "\n",
    "    # Remove unprintable control characters (keep \\n and \\t)\n",
    "    text = \"\".join(ch for ch in text if ch.isprintable() or ch in \"\\n\\t\")\n",
    "\n",
    "    # Optionally drop page headers/footers that look like \"Page 1\" or just \"1\"\n",
    "    if remove_page_numbers:\n",
    "        out_lines = []\n",
    "        for line in text.split(\"\\n\"):\n",
    "            s = line.strip()\n",
    "            # common patterns to remove\n",
    "            if re.fullmatch(r'page\\s*\\d+', s, flags=re.IGNORECASE):\n",
    "                continue\n",
    "            if re.fullmatch(r'\\d{1,4}', s):  # standalone numbers (likely page numbers)\n",
    "                continue\n",
    "            out_lines.append(line)\n",
    "        text = \"\\n\".join(out_lines)\n",
    "\n",
    "    # Trim each line, optionally remove empty lines and join paragraphs with a blank line\n",
    "    if remove_empty_lines:\n",
    "        lines = [line.strip() for line in text.split(\"\\n\")]\n",
    "        lines = [line for line in lines if line != \"\"]  # drop blank lines\n",
    "        # join paragraphs with a double newline (keeps paragraph boundaries)\n",
    "        text = \"\\n\\n\".join(lines)\n",
    "\n",
    "    # Normalize internal whitespace\n",
    "    if normalize_whitespace:\n",
    "        # collapse multiple spaces/tabs to single space\n",
    "        text = re.sub(r'[ \\t]+', ' ', text)\n",
    "        # collapse 3+ newlines to two (we keep paragraph separation)\n",
    "        text = re.sub(r'\\n{3,}', '\\n\\n', text)\n",
    "        text = text.strip()\n",
    "\n",
    "    if lowercase:\n",
    "        text = text.lower()\n",
    "\n",
    "    return text\n"
   ]
  },
  {
   "cell_type": "markdown",
   "id": "3662fe6f",
   "metadata": {},
   "source": [
    "This function is designed to clean and standardize the raw document text so that it is easier to analyze and feed into downstream processes like embeddings or natural language models. It begins by optionally applying Unicode normalization (NFKC) to fix inconsistent character representations, such as unusual forms of spaces or accented characters. Next, line endings are standardized, non-breaking spaces are replaced with regular spaces, and smart quotes (like “ ” or ‘ ’) are converted into their plain ASCII equivalents.\n",
    "\n",
    "To remove unnecessary clutter, the function filters out unprintable control characters, while retaining tabs and newlines. If enabled, it also removes page numbers or standalone numeric lines (e.g., “1” or “Page 1”), which are common in policy documents but not meaningful for analysis.\n",
    "\n",
    "The function then addresses formatting: each line is trimmed, empty lines can be removed, and remaining text is recombined into paragraphs separated by double newlines. Whitespace normalization collapses multiple spaces or tabs into a single space and ensures that long sequences of newlines are reduced to just two, preserving paragraph boundaries. Finally, an optional step converts all text to lowercase, though this is kept off by default since preserving case often improves the quality of embeddings.\n",
    "\n",
    "The result is a clean, well-structured text string that retains the original meaning while removing noise such as page numbers, excess whitespace, and inconsistent characters."
   ]
  },
  {
   "cell_type": "markdown",
   "id": "6c55af8c",
   "metadata": {},
   "source": [
    "### 4.2.3 Text Cleaning Function\n",
    "\n",
    "The clean_text() function standardizes and cleans raw document text before further processing chunking and embeddings\n",
    "\n",
    "Unicode- Ensures consistent text representation by converting weird or non-standard Unicode characters into their normalized form\n",
    "\n"
   ]
  },
  {
   "cell_type": "code",
   "execution_count": 10,
   "id": "aa795fd8",
   "metadata": {},
   "outputs": [
    {
     "name": "stdout",
     "output_type": "stream",
     "text": [
      "ORIGINAL: chars = 165696 words = 26098\n",
      "CLEANED : chars = 167563 words = 26098\n"
     ]
    }
   ],
   "source": [
    "# Apply cleaning, show before/after\n",
    "cleaned = clean_text(text, lowercase=False)   # keep case by default\n",
    "\n",
    "print(\"ORIGINAL: chars =\", len(text), \"words =\", len(text.split()))\n",
    "print(\"CLEANED : chars =\", len(cleaned), \"words =\", len(cleaned.split()))"
   ]
  },
  {
   "cell_type": "code",
   "execution_count": 11,
   "id": "fdda6cc7",
   "metadata": {},
   "outputs": [
    {
     "name": "stdout",
     "output_type": "stream",
     "text": [
      "\n",
      "--- CLEANED PREVIEW ---\n",
      "\n",
      "OPENING OF ACCOUNTS\n",
      "\n",
      "TABLE OF CONTENTS\n",
      "\n",
      "1 INTRODUCTION 11\n",
      "\n",
      "1.1 General 11\n",
      "\n",
      "2 ACCOUNT OPENING REQUIREMENTS 11\n",
      "\n",
      "2.1 Know Your Customer (KYC) 11\n",
      "\n",
      "2.2 Account Opening Requirements on Referee 11\n",
      "\n",
      "2.3 Documentation Required for Account Opening 12\n",
      "\n",
      "2.4 Account Opening Requirements for Foreign Nationals 34\n",
      "\n",
      "2.4.1 Resident Foreign Nationals 34\n",
      "\n",
      "2.4.2 Account Opening Requirements for Non-Resident Foreign Nationals (As Per CBK Prudential Guidelines). 35\n",
      "\n",
      "2.4.3 Minimum requirements for Resident Foreigners 3\n"
     ]
    }
   ],
   "source": [
    "# preview first 500 chars of cleaned text\n",
    "print(\"\\n--- CLEANED PREVIEW ---\\n\")\n",
    "print(cleaned[:500])"
   ]
  },
  {
   "cell_type": "code",
   "execution_count": 12,
   "id": "6e5e2314",
   "metadata": {},
   "outputs": [
    {
     "name": "stdout",
     "output_type": "stream",
     "text": [
      "\n",
      "Saved cleaned text to: Data/SEC5 - OPENING OF ACCOUNTS (004)_cleaned.txt\n"
     ]
    }
   ],
   "source": [
    "# save cleaned text to file\n",
    "out_path = r\"Data/SEC5 - OPENING OF ACCOUNTS (004)_cleaned.txt\"\n",
    "with open(out_path, \"w\", encoding=\"utf-8\") as f:\n",
    "    f.write(cleaned)\n",
    "\n",
    "print(\"\\nSaved cleaned text to:\", out_path)\n"
   ]
  },
  {
   "cell_type": "markdown",
   "id": "0b2211c8",
   "metadata": {},
   "source": [
    "## 5. Explatory Data Analysis"
   ]
  },
  {
   "cell_type": "markdown",
   "id": "148bc5f4",
   "metadata": {},
   "source": [
    "### 5.1  Visual to show Original and Cleaned"
   ]
  },
  {
   "cell_type": "code",
   "execution_count": 13,
   "id": "bc66f9f3",
   "metadata": {},
   "outputs": [
    {
     "data": {
      "image/png": "[encoded data removed]",
      "text/plain": [
       "<Figure size 576x360 with 1 Axes>"
      ]
     },
     "metadata": {
      "needs_background": "light"
     },
     "output_type": "display_data"
    }
   ],
   "source": [
    "# Compute stats\n",
    "stats = {\n",
    "    \"Original\": {\"chars\": len(text), \"words\": len(text.split())},\n",
    "    \"Cleaned\": {\"chars\": len(cleaned), \"words\": len(cleaned.split())}\n",
    "}\n",
    "\n",
    "labels = list(stats.keys())\n",
    "chars = [stats[label][\"chars\"] for label in labels]\n",
    "words = [stats[label][\"words\"] for label in labels]\n",
    "\n",
    "# Plot\n",
    "fig, ax = plt.subplots(figsize=(8,5))\n",
    "\n",
    "bar_width = 0.35\n",
    "x = range(len(labels))\n",
    "\n",
    "# Two bars for chars and words\n",
    "ax.bar(x, chars, width=bar_width, label='Characters', color='skyblue')\n",
    "ax.bar([i + bar_width for i in x], words, width=bar_width, label='Words', color='salmon')\n",
    "\n",
    "ax.set_xticks([i + bar_width/2 for i in x])\n",
    "ax.set_xticklabels(labels)\n",
    "ax.set_ylabel('Count')\n",
    "ax.set_title('Document Size Before and After Cleaning')\n",
    "ax.legend()\n",
    "\n",
    "plt.show()\n"
   ]
  },
  {
   "cell_type": "code",
   "execution_count": 14,
   "id": "424aba22",
   "metadata": {},
   "outputs": [
    {
     "name": "stdout",
     "output_type": "stream",
     "text": [
      "Metric       |   Original |    Cleaned\n",
      "------------------------------------\n",
      "Characters   |     165696 |     167563\n",
      "Words        |      26098 |      26098\n"
     ]
    }
   ],
   "source": [
    "# compute stats\n",
    "original_chars, original_words = len(text), len(text.split())\n",
    "cleaned_chars, cleaned_words = len(cleaned), len(cleaned.split())\n",
    "\n",
    "# print as table\n",
    "print(f\"{'Metric':<12} | {'Original':>10} | {'Cleaned':>10}\")\n",
    "print(\"-\" * 36)\n",
    "print(f\"{'Characters':<12} | {original_chars:>10} | {cleaned_chars:>10}\")\n",
    "print(f\"{'Words':<12} | {original_words:>10} | {cleaned_words:>10}\")\n"
   ]
  },
  {
   "cell_type": "markdown",
   "id": "09db450c",
   "metadata": {},
   "source": [
    "The cleaning step successfully reduces minor noise without compromising meaningful content, making the document suitable for further processing."
   ]
  },
  {
   "cell_type": "markdown",
   "id": "73a808a1",
   "metadata": {},
   "source": [
    "### 5.2 Spliting Text into Chunks"
   ]
  },
  {
   "cell_type": "code",
   "execution_count": 15,
   "id": "1eb49436",
   "metadata": {},
   "outputs": [
    {
     "name": "stdout",
     "output_type": "stream",
     "text": [
      "Number of chunks: 320\n",
      "\n",
      "--- Sample chunk ---\n",
      "\n",
      "OPENING OF ACCOUNTS\n",
      "\n",
      "TABLE OF CONTENTS\n",
      "\n",
      "1 INTRODUCTION 11\n",
      "\n",
      "1.1 General 11\n",
      "\n",
      "2 ACCOUNT OPENING REQUIREMENTS 11\n",
      "\n",
      "2.1 Know Your Customer (KYC) 11\n",
      "\n",
      "2.2 Account Opening Requirements on Referee 11\n",
      "\n",
      "2.3 Documentation Required for Account Opening 12\n",
      "\n",
      "2.4 Account Opening Requirements for Foreign Nationals 34\n",
      "\n",
      "2.4.1 Resident Foreign Nationals 34\n",
      "\n",
      "2.4.2 Account Opening Requirements for Non-Resident Foreign Nationals (As Per CBK Prudential Guidelines).\n"
     ]
    }
   ],
   "source": [
    "def split_text_into_chunks(text, max_chars=500, overlap=50):\n",
    "    \"\"\"\n",
    "    Splits text into chunks of max_chars with optional overlap.\n",
    "    Keeps sentences intact (splits on punctuation).\n",
    "    \"\"\"\n",
    "    # Split text into sentences\n",
    "    sentences = re.split(r'(?<=[.!?]) +', text)\n",
    "    \n",
    "    chunks = []\n",
    "    current_chunk = \"\"\n",
    "    \n",
    "    for sentence in sentences:\n",
    "        if len(current_chunk) + len(sentence) <= max_chars:\n",
    "            current_chunk += \" \" + sentence if current_chunk else sentence\n",
    "        else:\n",
    "            chunks.append(current_chunk.strip())\n",
    "            # start new chunk with overlap\n",
    "            current_chunk = \" \".join(current_chunk.split()[-overlap:]) + \" \" + sentence if overlap else sentence\n",
    "\n",
    "    # Add last chunk\n",
    "    if current_chunk:\n",
    "        chunks.append(current_chunk.strip())\n",
    "    \n",
    "    return chunks\n",
    "\n",
    "# Apply chunking\n",
    "chunks = split_text_into_chunks(cleaned, max_chars=500, overlap=50)\n",
    "\n",
    "print(\"Number of chunks:\", len(chunks))\n",
    "print(\"\\n--- Sample chunk ---\\n\")\n",
    "print(chunks[0])\n"
   ]
  },
  {
   "cell_type": "markdown",
   "id": "0ce5f5b9",
   "metadata": {},
   "source": [
    "A histogram to show if there are outliers in the Chunks"
   ]
  },
  {
   "cell_type": "code",
   "execution_count": 16,
   "id": "a17e5ab0",
   "metadata": {},
   "outputs": [
    {
     "data": {
      "image/png": "[encoded data removed]",
      "text/plain": [
       "<Figure size 720x360 with 1 Axes>"
      ]
     },
     "metadata": {
      "needs_background": "light"
     },
     "output_type": "display_data"
    }
   ],
   "source": [
    "# Compute number of words in each chunk\n",
    "chunk_lengths = [len(chunk.split()) for chunk in chunks]\n",
    "\n",
    "# Create a histogram\n",
    "plt.figure(figsize=(10,5))\n",
    "plt.hist(chunk_lengths, bins=20, color='lightgreen', edgecolor='black')\n",
    "plt.xlabel(\"Number of Words per Chunk\")\n",
    "plt.ylabel(\"Frequency\")\n",
    "plt.title(\"Distribution of Text Chunk Sizes\")\n",
    "plt.show()\n"
   ]
  },
  {
   "cell_type": "markdown",
   "id": "b8c0a54a",
   "metadata": {},
   "source": [
    "The chunk size distribution is centered around ~500 words, which aligns well with our target for embeddings. This indicates a mostly consistent chunking strategy. However, the histogram reveals a tail of smaller chunks (<200 words) and some oversized chunks (>800 words). These could impact efficiency: small chunks may not carry enough semantic content, while large ones risk exceeding model context limits. "
   ]
  },
  {
   "cell_type": "markdown",
   "id": "93c0ff7a",
   "metadata": {},
   "source": [
    "### 5.3  Handling outliers in chunk sizes\n",
    "- Merge very small chunks with their neighbors (to avoid low-content pieces).\n",
    "- Split very large chunks into smaller ones (to stay within context limits)."
   ]
  },
  {
   "cell_type": "code",
   "execution_count": 35,
   "id": "61a46e70",
   "metadata": {},
   "outputs": [
    {
     "name": "stdout",
     "output_type": "stream",
     "text": [
      "Original chunks: 320\n",
      "Balanced chunks: 109\n"
     ]
    }
   ],
   "source": [
    "def balance_chunks(chunks, min_words=300, max_words=600):\n",
    "    \n",
    "    adjusted_chunks = []\n",
    "    buffer = \"\"\n",
    "\n",
    "    for chunk in chunks:\n",
    "        words = chunk.split()\n",
    "\n",
    "        # Case 1: Oversized chunk → split into smaller pieces\n",
    "        if len(words) > max_words:\n",
    "            for i in range(0, len(words), max_words):\n",
    "                adjusted_chunks.append(\" \".join(words[i:i+max_words]))\n",
    "\n",
    "        # Case 2: Small chunk → merge with buffer until it's big enough\n",
    "        elif len(words) < min_words:\n",
    "            buffer += \" \" + \" \".join(words)\n",
    "            if len(buffer.split()) >= min_words:\n",
    "                adjusted_chunks.append(buffer.strip())\n",
    "                buffer = \"\"\n",
    "\n",
    "        # Case 3: Normal chunk → keep as is\n",
    "        else:\n",
    "            adjusted_chunks.append(\" \".join(words))\n",
    "\n",
    "    # Flush any leftover buffer\n",
    "    if buffer.strip():\n",
    "        adjusted_chunks.append(buffer.strip())\n",
    "\n",
    "    return adjusted_chunks\n",
    "\n",
    "\n",
    "# Example usage\n",
    "balanced_chunks = balance_chunks(chunks, min_words=300, max_words=600)\n",
    "\n",
    "print(f\"Original chunks: {len(chunks)}\")\n",
    "print(f\"Balanced chunks: {len(balanced_chunks)}\")\n"
   ]
  },
  {
   "cell_type": "markdown",
   "id": "90f99e5f",
   "metadata": {},
   "source": [
    "## 6.0 Vectorization \n",
    "\n",
    "The cleaned text is transformed into sentence embeddings, which convert sentences into dense vectors that capture meaning rather than just word counts. This enables semantic search and NLP tasks, allowing the system to compare and retrieve text based on context and intent, not just keywords.\n"
   ]
  },
  {
   "cell_type": "markdown",
   "id": "fe5ad039",
   "metadata": {},
   "source": [
    "### 6.1 Transformer embeddings(MiniLM)\n",
    "\n",
    "At this step, the project uses transformer embeddings with MiniLM (all-MiniLM-L6-v2) to represent the KYC policy text. The document is split into smaller chunks, and each chunk is encoded into a 384-dimensional vector that captures its semantic meaning. These embeddings enable advanced tasks such as semantic search, similarity comparison, and document retrieval, while keeping the process efficient and scalable."
   ]
  },
  {
   "cell_type": "code",
   "execution_count": 41,
   "id": "445d7269",
   "metadata": {},
   "outputs": [
    {
     "data": {
      "application/vnd.jupyter.widget-view+json": {
       "model_id": "c5adaa7a3f15497bbb4b0d557fa59888",
       "version_major": 2,
       "version_minor": 0
      },
      "text/plain": [
       "Batches:   0%|          | 0/4 [00:00<?, ?it/s]"
      ]
     },
     "metadata": {},
     "output_type": "display_data"
    },
    {
     "name": "stdout",
     "output_type": "stream",
     "text": [
      "Number of  balanced chunks: 109\n",
      "Embedding dimension: 384\n"
     ]
    }
   ],
   "source": [
    "# Loading MiniLM model \n",
    "model = SentenceTransformer('all-MiniLM-L6-v2')\n",
    "\n",
    "# Compute embeddings\n",
    "\n",
    "embeddings = model.encode(balanced_chunks, convert_to_numpy=True, show_progress_bar=True)\n",
    "\n",
    "# Normalize embeddings\n",
    "embeddings_norm = normalize(embeddings, norm='l2')\n",
    "\n",
    "\n",
    "print(\"Number of  balanced chunks:\", len(balanced_chunks))\n",
    "print(\"Embedding dimension:\", embeddings_norm.shape[1])\n"
   ]
  },
  {
   "cell_type": "markdown",
   "id": "7b9cfbee",
   "metadata": {},
   "source": [
    "The project produced 109 balanced chunks, meaning the document was split into 109 text segments. Each chunk is represented by a single embedding vector of 384 dimensions, which is the fixed size of MiniLM embeddings. In effect, the output is a matrix of shape 109 × 384: one embedding per chunk, with 384 values capturing its meaning."
   ]
  },
  {
   "cell_type": "markdown",
   "id": "367fa09f",
   "metadata": {},
   "source": [
    "### 6.2 Saving Chunks with Embeddings\n",
    "At this step, the code pairs each text chunk with its embedding and stores them in a list of dictionaries. This list is then saved to SEC5_embeddings.pkl using pickle, allowing the results to be reloaded later without recomputing."
   ]
  },
  {
   "cell_type": "code",
   "execution_count": 42,
   "id": "9a4e01a3",
   "metadata": {},
   "outputs": [
    {
     "name": "stdout",
     "output_type": "stream",
     "text": [
      " Saved 109 balanced chunks with embeddings to Data/SEC5_embeddings.pkl\n"
     ]
    }
   ],
   "source": [
    "# Combine balanced chunks and embeddings\n",
    "data = [{\"chunk\": chunk, \"embedding\": emb} for chunk, emb in zip(balanced_chunks, embeddings)]\n",
    "\n",
    "# Define output path\n",
    "out_path = r\"Data/SEC5_embeddings.pkl\"\n",
    "\n",
    "# Save to file\n",
    "with open(out_path, \"wb\") as f:\n",
    "    pickle.dump(data, f)\n",
    "\n",
    "print(f\" Saved {len(data)} balanced chunks with embeddings to {out_path}\")\n"
   ]
  },
  {
   "cell_type": "markdown",
   "id": "0a446090",
   "metadata": {},
   "source": [
    "### 6.3 Indexing / Storing\n",
    "Preparing your embeddings for fast retrieval, often using a vector database or a similarity search library-the next step is to load them and store them in a structure that allows fast semantic search.\n",
    "\n",
    "Common approach using FAISS (Facebook AI Similarity Search) for efficient vector indexing:\n",
    " \n",
    " - We load the saved embeddings from the previous step.\n",
    "\n",
    "- Convert them to a NumPy array for FAISS.\n",
    "\n",
    "- Build a FAISS index for fast nearest-neighbor search.\n",
    "\n",
    "- Save the index for later use without recomputing embeddings.\n"
   ]
  },
  {
   "cell_type": "code",
   "execution_count": 44,
   "id": "bfb18b0e",
   "metadata": {},
   "outputs": [
    {
     "name": "stdout",
     "output_type": "stream",
     "text": [
      "Normalized embeddings shape: (109, 384)\n",
      "Number of vectors in index: 109\n",
      "FAISS index saved to Data/SEC5_faiss.index\n"
     ]
    }
   ],
   "source": [
    "# Load saved embeddings\n",
    "with open(r\"Data/SEC5_embeddings.pkl\", \"rb\") as f:\n",
    "    data = pickle.load(f)\n",
    "\n",
    "# Normalize embeddings row-wise (each vector length = 1)\n",
    "print(\"Normalized embeddings shape:\", embeddings_norm.shape)\n",
    "\n",
    "# Build FAISS index for cosine similarity\n",
    "dimension = embeddings_norm.shape[1]  # should be 384 for MiniLM\n",
    "index = faiss.IndexFlatIP(dimension)  # Inner product = cosine similarity after normalization\n",
    "index.add(embeddings_norm)\n",
    "\n",
    "print(\"Number of vectors in index:\", index.ntotal)\n",
    "\n",
    "# Save index to disk\n",
    "faiss.write_index(index, r\"Data/SEC5_faiss.index\")\n",
    "print(\"FAISS index saved to Data/SEC5_faiss.index\")\n"
   ]
  },
  {
   "cell_type": "markdown",
   "id": "57738ff4",
   "metadata": {},
   "source": [
    "The results show that 109 text chunks were converted into 384-dimensional embeddings, all stored in the FAISS index. The index was saved successfully, meaning the document is ready for fast semantic search and retrieval."
   ]
  },
  {
   "cell_type": "markdown",
   "id": "db7b19f4",
   "metadata": {},
   "source": [
    "### 6.4 Querying data "
   ]
  },
  {
   "cell_type": "code",
   "execution_count": 45,
   "id": "b6e48a78",
   "metadata": {},
   "outputs": [
    {
     "name": "stdout",
     "output_type": "stream",
     "text": [
      "\n",
      "Top results:\n",
      "\n",
      "1. (dist=0.6765) Church Registration Certificate from the registrar of societies Board resolution to open the account, signed off by the trustees/Directors. Church's KRA PIN certificate Church's constitution IDs of Si...\n",
      "2. (dist=0.5977) Relationship Officer, to be countersigned by the Branch Manager. Letter of introduction from employer/Sacco; Certified bank statements Bank reference A business search shall be required except for the...\n",
      "3. (dist=0.4841) or conflict Where it appears that the account is being opened for a single transaction or to clear a cheque that cannot be cashed. Where a business name, partnership, companies or societies that have ...\n",
      "4. (dist=0.4720) not required to sign the account opening forms but shall give guidance to SDO (Maker) where need be. The SDO is responsible for carrying out the account opening process end to end as detailed below: A...\n",
      "5. (dist=0.4672) received. ACCOUNT OPENING REQUIREMENTS Know Your Customer (KYC) KYC at the point of account opening is crucial and staff shall perform a thorough KYC for the persons opening the account and understand...\n"
     ]
    }
   ],
   "source": [
    "query = \"Document needed to open church bank accounts\"\n",
    "model = SentenceTransformer(\"all-MiniLM-L6-v2\")\n",
    "\n",
    "query_emb = model.encode([query], convert_to_numpy=True).astype('float32')\n",
    "query_emb = query_emb / np.linalg.norm(query_emb, axis=1, keepdims=True)  # normalize query too\n",
    "\n",
    "k = 5  # top-k results\n",
    "distances, indices = index.search(query_emb, k)\n",
    "\n",
    "# --- Display results ---\n",
    "print(\"\\nTop results:\\n\")\n",
    "for rank, (i, dist) in enumerate(zip(indices[0], distances[0]), start=1):\n",
    "    print(f\"{rank}. (dist={dist:.4f}) {balanced_chunks[i][:200]}...\")"
   ]
  },
  {
   "cell_type": "code",
   "execution_count": 52,
   "id": "232beb3f",
   "metadata": {},
   "outputs": [
    {
     "data": {
      "image/png": "[encoded data removed]",
      "text/plain": [
       "<Figure size 720x432 with 1 Axes>"
      ]
     },
     "metadata": {
      "needs_background": "light"
     },
     "output_type": "display_data"
    }
   ],
   "source": [
    " #Display horizontal bar chart ---\n",
    "plt.figure(figsize=(10, 6))\n",
    "plt.barh(range(k), top_distances, color='skyblue')\n",
    "plt.yticks(range(k), [f\"Chunk {i}\" for i in indices[0]])\n",
    "plt.gca().invert_yaxis()\n",
    "plt.xlabel(\"Distance (smaller = more similar)\")\n",
    "plt.title(\"Top-k Most Similar Chunks for Query\")\n",
    "plt.show()"
   ]
  },
  {
   "cell_type": "markdown",
   "id": "2277aed5",
   "metadata": {},
   "source": [
    "### 7.0 Model Evaluation"
   ]
  },
  {
   "cell_type": "code",
   "execution_count": 27,
   "id": "9615011a",
   "metadata": {},
   "outputs": [
    {
     "name": "stdout",
     "output_type": "stream",
     "text": [
      "FAISS index loaded with 320 vectors\n",
      "\n",
      "Query: What documents are required for CDD?\n",
      "Precision@5: 0.00, Recall@5: 0.00, MRR: 0.00\n",
      "Top retrieved chunks preview:\n",
      "  Rank 1: OPENING OF ACCOUNTS\n",
      "\n",
      "TABLE OF CONTENTS\n",
      "\n",
      "1 INTRODUCTION 11\n",
      "\n",
      "1.1 General 11\n",
      "\n",
      "2 ACCOUNT OPENING REQUIREMENTS 11\n",
      "\n",
      "2.1 Know Y...\n",
      "  Rank 2: not required to sign the account opening forms but shall give guidance to SDO (Maker) where need be. The SDO is responsi...\n",
      "  Rank 3: ACCOUNT OPENING REQUIREMENTS 11 2.1 Know Your Customer (KYC) 11 2.2 Account Opening Requirements on Referee 11 2.3 Docum...\n",
      "  Rank 4: received. ACCOUNT OPENING REQUIREMENTS Know Your Customer (KYC) KYC at the point of account opening is crucial and staff...\n",
      "  Rank 5: C – Prescribed profession Class D – Employment Class F – Specific manufacturing Class G – Specific trade, business, or c...\n",
      "\n",
      "Query: How do we open a minor’s account?\n",
      "Precision@5: 1.00, Recall@5: 1.67, MRR: 1.00\n",
      "Top retrieved chunks preview:\n",
      "  Rank 1: Account Rules 245 19.20.6 Verify Account Signature Map 247 20 MINOR ACCOUNT OPENING 249 20.1 Introduction 249 20.2 Minor...\n",
      "  Rank 2: create transaction that satisfies this rule, you must verify this signature by selecting the Verify check box that appea...\n",
      "  Rank 3: mapping of the rules) 237 19.20.1 Add a Rule 237 19.20.2 Verify Rule 242 19.20.3 Inquire Rule 243 19.20.4 Common Rules 2...\n",
      "  Rank 4: Designation & Signing Instructions. SUBMIT for Verification. CACOF Verification for Minor Account CACOF verification for...\n",
      "  Rank 5: OPENING 249 20.1 Introduction 249 20.2 Minor CIF Creation 249 20.3 Capturing Basic Details. 250 20.4 Adding Customer Add...\n",
      "\n",
      "Query: What are AML red flags?\n",
      "Precision@5: 0.00, Recall@5: 0.00, MRR: 0.00\n",
      "Top retrieved chunks preview:\n",
      "  Rank 1: AML Risk Rating – Auto-calculated Bank Taxonomy SDO shall select Sector code with related Sub- sector code CBK Sector SD...\n",
      "  Rank 2: : means Equal to. != : means not equal to. >= : means greater or equal to. <= : means less or equal to. < : means less t...\n",
      "  Rank 3: met while transacting, then the rule will display. OR- Is a logical operator for creating additional criteria while addi...\n",
      "  Rank 4: displayed and perform negative list check is activated Click on Perform Negative list. In the event, the customer is neg...\n",
      "  Rank 5: system e.g. if some staff accounts are flagged as customer accounts then the system omits such account when reporting ba...\n",
      "\n",
      "=== AVERAGE SCORES ===\n",
      "Precision@5: 0.33\n",
      "Recall@5: 0.56\n",
      "MRR: 0.33\n"
     ]
    }
   ],
   "source": [
    "with open(r\"Data/SEC5_embeddings.pkl\", \"rb\") as f:\n",
    "    data = pickle.load(f)\n",
    "\n",
    "chunks = [d[\"chunk\"] for d in data]\n",
    "embeddings = np.array([d[\"embedding\"] for d in data], dtype=\"float32\")\n",
    "\n",
    "# Reload FAISS index (or rebuild)\n",
    "embedding_dim = embeddings.shape[1]\n",
    "index = faiss.IndexFlatL2(embedding_dim)\n",
    "index.add(embeddings)\n",
    "print(f\"FAISS index loaded with {index.ntotal} vectors\")\n",
    "\n",
    "\n",
    "model = SentenceTransformer(\"all-MiniLM-L6-v2\")\n",
    "\n",
    "test_queries = [\n",
    "    {\n",
    "        \"query\": \"What documents are required for CDD?\",\n",
    "        \"gold\": [\"enhanced due diligence\", \"EDD checklist\", \"proof of source of funds\"]\n",
    "    },\n",
    "    {\n",
    "        \"query\": \"How do we open a minor’s account?\",\n",
    "        \"gold\": [\"minor\", \"birth certificate\", \"parent/guardian ID\"]\n",
    "    },\n",
    "    {\n",
    "        \"query\": \"What are AML red flags?\",\n",
    "        \"gold\": [\"suspicious transactions\", \"unusual activity\", \"money laundering red flags\"]\n",
    "    },\n",
    "]\n",
    "\n",
    "\n",
    "def precision_at_k(retrieved, gold, k):\n",
    "    relevant = sum(any(g.lower() in r.lower() for g in gold) for r in retrieved[:k])\n",
    "    return relevant / k\n",
    "\n",
    "def recall_at_k(retrieved, gold, k):\n",
    "    total_relevant = len(gold)\n",
    "    retrieved_relevant = sum(any(g.lower() in r.lower() for g in gold) for r in retrieved[:k])\n",
    "    return retrieved_relevant / total_relevant if total_relevant > 0 else 0\n",
    "\n",
    "def mrr_score(retrieved, gold):\n",
    "    for rank, r in enumerate(retrieved, start=1):\n",
    "        if any(g.lower() in r.lower() for g in gold):\n",
    "            return 1 / rank\n",
    "    return 0\n",
    "\n",
    "\n",
    "k = 5  # top-k retrieval\n",
    "precisions, recalls, mrrs = [], [], []\n",
    "\n",
    "for item in test_queries:\n",
    "    query = item[\"query\"]\n",
    "    gold = item[\"gold\"]\n",
    "\n",
    "    # Encode query\n",
    "    query_emb = model.encode([query], convert_to_numpy=True).astype(\"float32\")\n",
    "\n",
    "    # Search FAISS\n",
    "    distances, indices = index.search(query_emb, k)\n",
    "    retrieved = [chunks[i] for i in indices[0]]\n",
    "\n",
    "    # Compute metrics\n",
    "    p = precision_at_k(retrieved, gold, k)\n",
    "    r = recall_at_k(retrieved, gold, k)\n",
    "    mrr = mrr_score(retrieved, gold)\n",
    "\n",
    "    precisions.append(p)\n",
    "    recalls.append(r)\n",
    "    mrrs.append(mrr)\n",
    "\n",
    "    # Print per-query results\n",
    "    print(f\"\\nQuery: {query}\")\n",
    "    print(f\"Precision@{k}: {p:.2f}, Recall@{k}: {r:.2f}, MRR: {mrr:.2f}\")\n",
    "    print(\"Top retrieved chunks preview:\")\n",
    "    for j, chunk in enumerate(retrieved, start=1):\n",
    "        print(f\"  Rank {j}: {chunk[:120]}...\")\n",
    "\n",
    "\n",
    "print(\"\\n=== AVERAGE SCORES ===\")\n",
    "print(f\"Precision@{k}: {np.mean(precisions):.2f}\")\n",
    "print(f\"Recall@{k}: {np.mean(recalls):.2f}\")\n",
    "print(f\"MRR: {np.mean(mrrs):.2f}\")\n"
   ]
  },
  {
   "cell_type": "code",
   "execution_count": null,
   "id": "a33a1f75",
   "metadata": {},
   "outputs": [],
   "source": []
  },
  {
   "cell_type": "code",
   "execution_count": 28,
   "id": "50ae47e4",
   "metadata": {},
   "outputs": [
    {
     "name": "stdout",
     "output_type": "stream",
     "text": [
      "TF-IDF matrix shape: (320, 2027)\n"
     ]
    }
   ],
   "source": [
    "from sklearn.feature_extraction.text import TfidfVectorizer\n",
    "from sklearn.preprocessing import normalize\n",
    "\n",
    "# After you have \"chunks\"\n",
    "vectorizer = TfidfVectorizer(stop_words=\"english\", max_features=5000)\n",
    "X_tfidf = vectorizer.fit_transform(chunks)\n",
    "\n",
    "# Normalize\n",
    "X_tfidf = normalize(X_tfidf, norm=\"l2\")\n",
    "\n",
    "print(\"TF-IDF matrix shape:\", X_tfidf.shape)\n"
   ]
  },
  {
   "cell_type": "code",
   "execution_count": 29,
   "id": "3adb1caa",
   "metadata": {},
   "outputs": [],
   "source": [
    "from sklearn.metrics.pairwise import cosine_similarity\n",
    "\n",
    "def tfidf_search(query, k=5):\n",
    "    query_vec = vectorizer.transform([query])\n",
    "    query_vec = normalize(query_vec, norm=\"l2\")\n",
    "    \n",
    "    sims = cosine_similarity(query_vec, X_tfidf).flatten()\n",
    "    top_indices = sims.argsort()[::-1][:k]\n",
    "    \n",
    "    return [(chunks[i], sims[i]) for i in top_indices]\n"
   ]
  },
  {
   "cell_type": "code",
   "execution_count": 30,
   "id": "305e2ae0",
   "metadata": {},
   "outputs": [
    {
     "name": "stdout",
     "output_type": "stream",
     "text": [
      "\n",
      "Query: What documents are required for CDD?\n",
      "Precision@5: 0.00, Recall@5: 0.00, MRR: 0.00\n",
      "Top retrieved chunks preview:\n",
      "  Rank 1: (Score: 0.430) following checks: Confirm validity of KYC documents. Certify KYC documents as true copy of the original. For marketed ac...\n",
      "  Rank 2: (Score: 0.324) ensure completeness of the requirements as per existing policy. Where the customer has not signed the T&C, select No and...\n",
      "  Rank 3: (Score: 0.252) Documents Choose the document you intend to upload from the appropriate Document Name. Click on upload documents button....\n",
      "  Rank 4: (Score: 0.174) Relationship Officer, to be countersigned by the Branch Manager. Letter of introduction from employer/Sacco; Certified b...\n",
      "  Rank 5: (Score: 0.159) not required to sign the account opening forms but shall give guidance to SDO (Maker) where need be. The SDO is responsi...\n",
      "\n",
      "Query: How do we open a minor’s account?\n",
      "Precision@5: 0.40, Recall@5: 0.67, MRR: 1.00\n",
      "Top retrieved chunks preview:\n",
      "  Rank 1: (Score: 0.252) Appropriate Mode to Add the Record: Link- If the guardian has an existing CIF id with the same document used as the iden...\n",
      "  Rank 2: (Score: 0.241) Designation & Signing Instructions. SUBMIT for Verification. CACOF Verification for Minor Account CACOF verification for...\n",
      "  Rank 3: (Score: 0.237) using a Webcam. Capture very clear images to avoid RTS. Attach the mandate filled by the customer shall be attached on D...\n",
      "  Rank 4: (Score: 0.235) Employee Details, Document Details, Flexi Fixed Deposit Details, Payment System Details, Mis Details and Other Details t...\n",
      "  Rank 5: (Score: 0.215) Account) to open savings account or menu OCA (Open Current Account) to open a current account. Input Corporate CIF ID Se...\n",
      "\n",
      "Query: What are AML red flags?\n",
      "Precision@5: 0.00, Recall@5: 0.00, MRR: 0.00\n",
      "Top retrieved chunks preview:\n",
      "  Rank 1: (Score: 0.149) Employed, Self-employed, Student or Others Occupation - Drop down selection Employer- Drop down Selection. Select Others...\n",
      "  Rank 2: (Score: 0.108) AML Risk Rating – Auto-calculated Bank Taxonomy SDO shall select Sector code with related Sub- sector code CBK Sector SD...\n",
      "  Rank 3: (Score: 0.102) Section of the Operating Manual on Dormant Accounts. The system automatically flags an account as dormant if it has had ...\n",
      "  Rank 4: (Score: 0.057) in person and shall be accompanied by a letter signed by at least two signatories of the account. Standing imprest (for ...\n",
      "  Rank 5: (Score: 0.054) several compliance checks are put in place: Perform Dedup Perform Negative List Perform blacklist IPRS Checks The Dedup ...\n",
      "\n",
      "=== TF-IDF AVERAGE SCORES ===\n",
      "Precision@5: 0.13\n",
      "Recall@5: 0.22\n",
      "MRR: 0.33\n"
     ]
    }
   ],
   "source": [
    "precisions, recalls, mrrs = [], [], []\n",
    "k = 5\n",
    "\n",
    "for item in test_queries:\n",
    "    query = item[\"query\"]\n",
    "    gold = item[\"gold\"]\n",
    "\n",
    "    # Run TF-IDF search\n",
    "    results = tfidf_search(query, k=k)\n",
    "    retrieved = [r[0] for r in results]\n",
    "\n",
    "    # Compute metrics\n",
    "    p = precision_at_k(retrieved, gold, k)\n",
    "    r = recall_at_k(retrieved, gold, k)\n",
    "    mrr = mrr_score(retrieved, gold)\n",
    "\n",
    "    precisions.append(p)\n",
    "    recalls.append(r)\n",
    "    mrrs.append(mrr)\n",
    "\n",
    "    # Show results\n",
    "    print(f\"\\nQuery: {query}\")\n",
    "    print(f\"Precision@{k}: {p:.2f}, Recall@{k}: {r:.2f}, MRR: {mrr:.2f}\")\n",
    "    print(\"Top retrieved chunks preview:\")\n",
    "    for j, (chunk, score) in enumerate(results, start=1):\n",
    "        print(f\"  Rank {j}: (Score: {score:.3f}) {chunk[:120]}...\")\n",
    "        \n",
    "print(\"\\n=== TF-IDF AVERAGE SCORES ===\")\n",
    "print(f\"Precision@{k}: {np.mean(precisions):.2f}\")\n",
    "print(f\"Recall@{k}: {np.mean(recalls):.2f}\")\n",
    "print(f\"MRR: {np.mean(mrrs):.2f}\")\n"
   ]
  },
  {
   "cell_type": "code",
   "execution_count": null,
   "id": "43e6f536",
   "metadata": {},
   "outputs": [],
   "source": []
  },
  {
   "cell_type": "code",
   "execution_count": 31,
   "id": "a180f77c",
   "metadata": {},
   "outputs": [],
   "source": [
    "from sentence_transformers import InputExample\n",
    "\n",
    "train_examples = [\n",
    "    InputExample(texts=[\"What documents are required for CDD?\", \"enhanced due diligence\"], label=1),\n",
    "    InputExample(texts=[\"What documents are required for CDD?\", \"EDD checklist\"], label=1),\n",
    "    InputExample(texts=[\"What documents are required for CDD?\", \"proof of source of funds\"], label=1),\n",
    "    InputExample(texts=[\"How do we open a minor’s account?\", \"minor\"], label=1),\n",
    "    # You can also add negative pairs (query + unrelated doc, label=0)\n",
    "]\n"
   ]
  },
  {
   "cell_type": "code",
   "execution_count": 32,
   "id": "616c8b2b",
   "metadata": {},
   "outputs": [
    {
     "ename": "ImportError",
     "evalue": "Using the `Trainer` with `PyTorch` requires `accelerate>=0.26.0`: Please run `pip install transformers[torch]` or `pip install 'accelerate>={ACCELERATE_MIN_VERSION}'`",
     "output_type": "error",
     "traceback": [
      "\u001b[1;31m---------------------------------------------------------------------------\u001b[0m",
      "\u001b[1;31mImportError\u001b[0m                               Traceback (most recent call last)",
      "\u001b[1;32m<ipython-input-32-d128f2c18327>\u001b[0m in \u001b[0;36m<module>\u001b[1;34m\u001b[0m\n\u001b[0;32m      8\u001b[0m \u001b[0mtrain_loss\u001b[0m \u001b[1;33m=\u001b[0m \u001b[0mlosses\u001b[0m\u001b[1;33m.\u001b[0m\u001b[0mCosineSimilarityLoss\u001b[0m\u001b[1;33m(\u001b[0m\u001b[0mmodel\u001b[0m\u001b[1;33m)\u001b[0m\u001b[1;33m\u001b[0m\u001b[1;33m\u001b[0m\u001b[0m\n\u001b[0;32m      9\u001b[0m \u001b[1;33m\u001b[0m\u001b[0m\n\u001b[1;32m---> 10\u001b[1;33m model.fit(\n\u001b[0m\u001b[0;32m     11\u001b[0m     \u001b[0mtrain_objectives\u001b[0m\u001b[1;33m=\u001b[0m\u001b[1;33m[\u001b[0m\u001b[1;33m(\u001b[0m\u001b[0mtrain_dataloader\u001b[0m\u001b[1;33m,\u001b[0m \u001b[0mtrain_loss\u001b[0m\u001b[1;33m)\u001b[0m\u001b[1;33m]\u001b[0m\u001b[1;33m,\u001b[0m\u001b[1;33m\u001b[0m\u001b[1;33m\u001b[0m\u001b[0m\n\u001b[0;32m     12\u001b[0m     \u001b[0mepochs\u001b[0m\u001b[1;33m=\u001b[0m\u001b[1;36m3\u001b[0m\u001b[1;33m,\u001b[0m\u001b[1;33m\u001b[0m\u001b[1;33m\u001b[0m\u001b[0m\n",
      "\u001b[1;32mc:\\Users\\user\\anaconda3\\envs\\learn-env\\lib\\site-packages\\sentence_transformers\\fit_mixin.py\u001b[0m in \u001b[0;36mfit\u001b[1;34m(self, train_objectives, evaluator, epochs, steps_per_epoch, scheduler, warmup_steps, optimizer_class, optimizer_params, weight_decay, evaluation_steps, output_path, save_best_model, max_grad_norm, use_amp, callback, show_progress_bar, checkpoint_path, checkpoint_save_steps, checkpoint_save_total_limit)\u001b[0m\n\u001b[0;32m    305\u001b[0m             \u001b[1;32melse\u001b[0m \u001b[1;34m\"evaluation_strategy\"\u001b[0m\u001b[1;33m\u001b[0m\u001b[1;33m\u001b[0m\u001b[0m\n\u001b[0;32m    306\u001b[0m         )\n\u001b[1;32m--> 307\u001b[1;33m         args = SentenceTransformerTrainingArguments(\n\u001b[0m\u001b[0;32m    308\u001b[0m             \u001b[0moutput_dir\u001b[0m\u001b[1;33m=\u001b[0m\u001b[0mcheckpoint_path\u001b[0m \u001b[1;32mor\u001b[0m \u001b[0m_default_checkpoint_dir\u001b[0m\u001b[1;33m(\u001b[0m\u001b[1;33m)\u001b[0m\u001b[1;33m,\u001b[0m\u001b[1;33m\u001b[0m\u001b[1;33m\u001b[0m\u001b[0m\n\u001b[0;32m    309\u001b[0m             \u001b[0mbatch_sampler\u001b[0m\u001b[1;33m=\u001b[0m\u001b[0mbatch_sampler\u001b[0m\u001b[1;33m,\u001b[0m\u001b[1;33m\u001b[0m\u001b[1;33m\u001b[0m\u001b[0m\n",
      "\u001b[1;32mc:\\Users\\user\\anaconda3\\envs\\learn-env\\lib\\site-packages\\sentence_transformers\\training_args.py\u001b[0m in \u001b[0;36m__init__\u001b[1;34m(self, output_dir, overwrite_output_dir, do_train, do_eval, do_predict, eval_strategy, prediction_loss_only, per_device_train_batch_size, per_device_eval_batch_size, per_gpu_train_batch_size, per_gpu_eval_batch_size, gradient_accumulation_steps, eval_accumulation_steps, eval_delay, torch_empty_cache_steps, learning_rate, weight_decay, adam_beta1, adam_beta2, adam_epsilon, max_grad_norm, num_train_epochs, max_steps, lr_scheduler_type, lr_scheduler_kwargs, warmup_ratio, warmup_steps, log_level, log_level_replica, log_on_each_node, logging_dir, logging_strategy, logging_first_step, logging_steps, logging_nan_inf_filter, save_strategy, save_steps, save_total_limit, save_safetensors, save_on_each_node, save_only_model, restore_callback_states_from_checkpoint, no_cuda, use_cpu, use_mps_device, seed, data_seed, jit_mode_eval, use_ipex, bf16, fp16, fp16_opt_level, half_precision_backend, bf16_full_eval, fp16_full_eval, tf32, local_rank, ddp_backend, tpu_num_cores, tpu_metrics_debug, debug, dataloader_drop_last, eval_steps, dataloader_num_workers, dataloader_prefetch_factor, past_index, run_name, disable_tqdm, remove_unused_columns, label_names, load_best_model_at_end, metric_for_best_model, greater_is_better, ignore_data_skip, fsdp, fsdp_min_num_params, fsdp_config, fsdp_transformer_layer_cls_to_wrap, accelerator_config, deepspeed, label_smoothing_factor, optim, optim_args, adafactor, group_by_length, length_column_name, report_to, ddp_find_unused_parameters, ddp_bucket_cap_mb, ddp_broadcast_buffers, dataloader_pin_memory, dataloader_persistent_workers, skip_memory_metrics, use_legacy_prediction_loop, push_to_hub, resume_from_checkpoint, hub_model_id, hub_strategy, hub_token, hub_private_repo, hub_always_push, gradient_checkpointing, gradient_checkpointing_kwargs, include_inputs_for_metrics, include_for_metrics, eval_do_concat_batches, fp16_backend, evaluation_strategy, push_to_hub_model_id, push_to_hub_organization, push_to_hub_token, mp_parameters, auto_find_batch_size, full_determinism, torchdynamo, ray_scope, ddp_timeout, torch_compile, torch_compile_backend, torch_compile_mode, dispatch_batches, split_batches, include_tokens_per_second, include_num_input_tokens_seen, neftune_noise_alpha, optim_target_modules, batch_eval_metrics, eval_on_start, use_liger_kernel, eval_use_gather_object, average_tokens_across_devices, batch_sampler, multi_dataset_batch_sampler)\u001b[0m\n",
      "\u001b[1;32mc:\\Users\\user\\anaconda3\\envs\\learn-env\\lib\\site-packages\\sentence_transformers\\training_args.py\u001b[0m in \u001b[0;36m__post_init__\u001b[1;34m(self)\u001b[0m\n\u001b[0;32m    166\u001b[0m \u001b[1;33m\u001b[0m\u001b[0m\n\u001b[0;32m    167\u001b[0m     \u001b[1;32mdef\u001b[0m \u001b[0m__post_init__\u001b[0m\u001b[1;33m(\u001b[0m\u001b[0mself\u001b[0m\u001b[1;33m)\u001b[0m\u001b[1;33m:\u001b[0m\u001b[1;33m\u001b[0m\u001b[1;33m\u001b[0m\u001b[0m\n\u001b[1;32m--> 168\u001b[1;33m         \u001b[0msuper\u001b[0m\u001b[1;33m(\u001b[0m\u001b[1;33m)\u001b[0m\u001b[1;33m.\u001b[0m\u001b[0m__post_init__\u001b[0m\u001b[1;33m(\u001b[0m\u001b[1;33m)\u001b[0m\u001b[1;33m\u001b[0m\u001b[1;33m\u001b[0m\u001b[0m\n\u001b[0m\u001b[0;32m    169\u001b[0m \u001b[1;33m\u001b[0m\u001b[0m\n\u001b[0;32m    170\u001b[0m         \u001b[0mself\u001b[0m\u001b[1;33m.\u001b[0m\u001b[0mbatch_sampler\u001b[0m \u001b[1;33m=\u001b[0m \u001b[0mBatchSamplers\u001b[0m\u001b[1;33m(\u001b[0m\u001b[0mself\u001b[0m\u001b[1;33m.\u001b[0m\u001b[0mbatch_sampler\u001b[0m\u001b[1;33m)\u001b[0m\u001b[1;33m\u001b[0m\u001b[1;33m\u001b[0m\u001b[0m\n",
      "\u001b[1;32mc:\\Users\\user\\anaconda3\\envs\\learn-env\\lib\\site-packages\\transformers\\training_args.py\u001b[0m in \u001b[0;36m__post_init__\u001b[1;34m(self)\u001b[0m\n\u001b[0;32m   1771\u001b[0m         \u001b[1;31m# Initialize device before we proceed\u001b[0m\u001b[1;33m\u001b[0m\u001b[1;33m\u001b[0m\u001b[1;33m\u001b[0m\u001b[0m\n\u001b[0;32m   1772\u001b[0m         \u001b[1;32mif\u001b[0m \u001b[0mself\u001b[0m\u001b[1;33m.\u001b[0m\u001b[0mframework\u001b[0m \u001b[1;33m==\u001b[0m \u001b[1;34m\"pt\"\u001b[0m \u001b[1;32mand\u001b[0m \u001b[0mis_torch_available\u001b[0m\u001b[1;33m(\u001b[0m\u001b[1;33m)\u001b[0m\u001b[1;33m:\u001b[0m\u001b[1;33m\u001b[0m\u001b[1;33m\u001b[0m\u001b[0m\n\u001b[1;32m-> 1773\u001b[1;33m             \u001b[0mself\u001b[0m\u001b[1;33m.\u001b[0m\u001b[0mdevice\u001b[0m\u001b[1;33m\u001b[0m\u001b[1;33m\u001b[0m\u001b[0m\n\u001b[0m\u001b[0;32m   1774\u001b[0m \u001b[1;33m\u001b[0m\u001b[0m\n\u001b[0;32m   1775\u001b[0m         \u001b[1;31m# Disable average tokens when using single device\u001b[0m\u001b[1;33m\u001b[0m\u001b[1;33m\u001b[0m\u001b[1;33m\u001b[0m\u001b[0m\n",
      "\u001b[1;32mc:\\Users\\user\\anaconda3\\envs\\learn-env\\lib\\site-packages\\transformers\\training_args.py\u001b[0m in \u001b[0;36mdevice\u001b[1;34m(self)\u001b[0m\n\u001b[0;32m   2297\u001b[0m         \"\"\"\n\u001b[0;32m   2298\u001b[0m         \u001b[0mrequires_backends\u001b[0m\u001b[1;33m(\u001b[0m\u001b[0mself\u001b[0m\u001b[1;33m,\u001b[0m \u001b[1;33m[\u001b[0m\u001b[1;34m\"torch\"\u001b[0m\u001b[1;33m]\u001b[0m\u001b[1;33m)\u001b[0m\u001b[1;33m\u001b[0m\u001b[1;33m\u001b[0m\u001b[0m\n\u001b[1;32m-> 2299\u001b[1;33m         \u001b[1;32mreturn\u001b[0m \u001b[0mself\u001b[0m\u001b[1;33m.\u001b[0m\u001b[0m_setup_devices\u001b[0m\u001b[1;33m\u001b[0m\u001b[1;33m\u001b[0m\u001b[0m\n\u001b[0m\u001b[0;32m   2300\u001b[0m \u001b[1;33m\u001b[0m\u001b[0m\n\u001b[0;32m   2301\u001b[0m     \u001b[1;33m@\u001b[0m\u001b[0mproperty\u001b[0m\u001b[1;33m\u001b[0m\u001b[1;33m\u001b[0m\u001b[0m\n",
      "\u001b[1;32mc:\\Users\\user\\anaconda3\\envs\\learn-env\\lib\\site-packages\\transformers\\utils\\generic.py\u001b[0m in \u001b[0;36m__get__\u001b[1;34m(self, obj, objtype)\u001b[0m\n\u001b[0;32m     58\u001b[0m         \u001b[0mcached\u001b[0m \u001b[1;33m=\u001b[0m \u001b[0mgetattr\u001b[0m\u001b[1;33m(\u001b[0m\u001b[0mobj\u001b[0m\u001b[1;33m,\u001b[0m \u001b[0mattr\u001b[0m\u001b[1;33m,\u001b[0m \u001b[1;32mNone\u001b[0m\u001b[1;33m)\u001b[0m\u001b[1;33m\u001b[0m\u001b[1;33m\u001b[0m\u001b[0m\n\u001b[0;32m     59\u001b[0m         \u001b[1;32mif\u001b[0m \u001b[0mcached\u001b[0m \u001b[1;32mis\u001b[0m \u001b[1;32mNone\u001b[0m\u001b[1;33m:\u001b[0m\u001b[1;33m\u001b[0m\u001b[1;33m\u001b[0m\u001b[0m\n\u001b[1;32m---> 60\u001b[1;33m             \u001b[0mcached\u001b[0m \u001b[1;33m=\u001b[0m \u001b[0mself\u001b[0m\u001b[1;33m.\u001b[0m\u001b[0mfget\u001b[0m\u001b[1;33m(\u001b[0m\u001b[0mobj\u001b[0m\u001b[1;33m)\u001b[0m\u001b[1;33m\u001b[0m\u001b[1;33m\u001b[0m\u001b[0m\n\u001b[0m\u001b[0;32m     61\u001b[0m             \u001b[0msetattr\u001b[0m\u001b[1;33m(\u001b[0m\u001b[0mobj\u001b[0m\u001b[1;33m,\u001b[0m \u001b[0mattr\u001b[0m\u001b[1;33m,\u001b[0m \u001b[0mcached\u001b[0m\u001b[1;33m)\u001b[0m\u001b[1;33m\u001b[0m\u001b[1;33m\u001b[0m\u001b[0m\n\u001b[0;32m     62\u001b[0m         \u001b[1;32mreturn\u001b[0m \u001b[0mcached\u001b[0m\u001b[1;33m\u001b[0m\u001b[1;33m\u001b[0m\u001b[0m\n",
      "\u001b[1;32mc:\\Users\\user\\anaconda3\\envs\\learn-env\\lib\\site-packages\\transformers\\training_args.py\u001b[0m in \u001b[0;36m_setup_devices\u001b[1;34m(self)\u001b[0m\n\u001b[0;32m   2170\u001b[0m         \u001b[1;32mif\u001b[0m \u001b[1;32mnot\u001b[0m \u001b[0mis_sagemaker_mp_enabled\u001b[0m\u001b[1;33m(\u001b[0m\u001b[1;33m)\u001b[0m\u001b[1;33m:\u001b[0m\u001b[1;33m\u001b[0m\u001b[1;33m\u001b[0m\u001b[0m\n\u001b[0;32m   2171\u001b[0m             \u001b[1;32mif\u001b[0m \u001b[1;32mnot\u001b[0m \u001b[0mis_accelerate_available\u001b[0m\u001b[1;33m(\u001b[0m\u001b[1;33m)\u001b[0m\u001b[1;33m:\u001b[0m\u001b[1;33m\u001b[0m\u001b[1;33m\u001b[0m\u001b[0m\n\u001b[1;32m-> 2172\u001b[1;33m                 raise ImportError(\n\u001b[0m\u001b[0;32m   2173\u001b[0m                     \u001b[1;34mf\"Using the `Trainer` with `PyTorch` requires `accelerate>={ACCELERATE_MIN_VERSION}`: \"\u001b[0m\u001b[1;33m\u001b[0m\u001b[1;33m\u001b[0m\u001b[0m\n\u001b[0;32m   2174\u001b[0m                     \u001b[1;34m\"Please run `pip install transformers[torch]` or `pip install 'accelerate>={ACCELERATE_MIN_VERSION}'`\"\u001b[0m\u001b[1;33m\u001b[0m\u001b[1;33m\u001b[0m\u001b[0m\n",
      "\u001b[1;31mImportError\u001b[0m: Using the `Trainer` with `PyTorch` requires `accelerate>=0.26.0`: Please run `pip install transformers[torch]` or `pip install 'accelerate>={ACCELERATE_MIN_VERSION}'`"
     ]
    }
   ],
   "source": [
    "from sentence_transformers import SentenceTransformer, losses\n",
    "from torch.utils.data import DataLoader\n",
    "from datasets import Dataset\n",
    "\n",
    "model = SentenceTransformer(\"all-MiniLM-L6-v2\")\n",
    "\n",
    "train_dataloader = DataLoader(train_examples, shuffle=True, batch_size=16)\n",
    "train_loss = losses.CosineSimilarityLoss(model)\n",
    "\n",
    "model.fit(\n",
    "    train_objectives=[(train_dataloader, train_loss)],\n",
    "    epochs=3,\n",
    "    warmup_steps=100\n",
    ")\n",
    "\n",
    "model.save(\"output/minilm_tuned\")\n"
   ]
  },
  {
   "cell_type": "code",
   "execution_count": null,
   "id": "da2ef898",
   "metadata": {},
   "outputs": [],
   "source": [
    "tuned_model = SentenceTransformer(\"output/minilm_tuned\")\n",
    "\n",
    "embeddings = tuned_model.encode(chunks, convert_to_numpy=True).astype(\"float32\")\n",
    "\n",
    "index = faiss.IndexFlatL2(embeddings.shape[1])\n",
    "index.add(embeddings)\n"
   ]
  },
  {
   "cell_type": "markdown",
   "id": "c78b091e",
   "metadata": {},
   "source": [
    "### 8.0 Project Deployment\n"
   ]
  },
  {
   "cell_type": "markdown",
   "id": "71f3d99d",
   "metadata": {},
   "source": [
    "\n"
   ]
  },
  {
   "cell_type": "markdown",
   "id": "6c4cb6e3",
   "metadata": {},
   "source": [
    "## 9.0  Way Forward  \n",
    "\n",
    "1. **Refine Data Segmentation**  \n",
    "   - Break down the compliance manual into **sections, policies, and rules** for more precise retrieval.  \n",
    "   - Work with compliance officers to validate accuracy of extracted content.  \n",
    "\n",
    "2. **Enhance Modeling**  \n",
    "   - Move from simple similarity search to **advanced retrieval models** (e.g., Retrieval-Augmented Generation).  \n",
    "   - Explore **fine-tuned QA models** on compliance-specific data for better contextual answers.  \n",
    "\n",
    "3. **Evaluation Framework**  \n",
    "   - Define metrics with domain experts (precision, recall, relevance).  \n",
    "   - Conduct **human-in-the-loop evaluation** where staff review chatbot responses.  \n",
    "\n",
    "4. **User Experience & Deployment**  \n",
    "   - Build a **web-based or intranet chatbot** for easy staff access.  \n",
    "   - Integrate into the bank’s existing **CRM or core banking systems**.  \n",
    "   - Add feedback mechanisms so staff can flag inaccurate or outdated answers.  \n",
    "\n",
    "5. **Scalability & Governance**  \n",
    "   - Expand to cover other policy documents (credit manuals, HR policies, risk frameworks).  \n",
    "   - Ensure robust **data privacy, auditability, and compliance with regulatory standards**.  \n"
   ]
  },
  {
   "cell_type": "markdown",
   "id": "0b54281b",
   "metadata": {},
   "source": [
    "## 10.0 Conclusion  \n",
    "\n",
    "This project demonstrates the development of a prototype **compliance chatbot** designed to support front-office and operations staff in navigating complex KYC/AML/CFT regulatory requirements. Starting with ingestion of compliance manuals in `.docx` format, we successfully implemented steps for **data preprocessing, cleaning, and exploratory analysis**, ensuring the raw text could be transformed into a structured format suitable for NLP tasks.  \n",
    "\n",
    "By applying **document statistics, word frequency analysis, embeddings, and similarity search**, the system shows potential to retrieve relevant compliance information in response to staff queries. This directly supports the business objective of **improving efficiency, accuracy, and consistency** during customer onboarding and compliance checks.  \n"
   ]
  }
 ],
 "metadata": {
  "kernelspec": {
   "display_name": "learn-env",
   "language": "python",
   "name": "python3"
  },
  "language_info": {
   "codemirror_mode": {
    "name": "ipython",
    "version": 3
   },
   "file_extension": ".py",
   "mimetype": "text/x-python",
   "name": "python",
   "nbconvert_exporter": "python",
   "pygments_lexer": "ipython3",
   "version": "3.8.5"
  }
 },
 "nbformat": 4,
 "nbformat_minor": 5
}
