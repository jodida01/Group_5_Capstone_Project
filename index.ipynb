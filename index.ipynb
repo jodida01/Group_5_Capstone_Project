{
 "cells": [
  {
   "cell_type": "markdown",
   "id": "f2b1ecf8",
   "metadata": {},
   "source": [
    "# Project Overview: "
   ]
  },
  {
   "cell_type": "markdown",
   "id": "7dcd246c",
   "metadata": {},
   "source": [
    "\n",
    "## Collaborators:\n",
    "\n",
    "1. Agnes Chomba\n",
    "\n",
    "2. Derrick Malinga\n",
    "\n",
    "3. Erick Okacha\n",
    "\n",
    "4. Judah Odida\n",
    "\n",
    "5. Lucas Ominde\n",
    "\n",
    "6. Nick  Mwai\n",
    "\n",
    "7. Olgah Omollo\n",
    "\n",
    "# FinComBot - Compliance Chatbot \n",
    "\n",
    "## 1. Background\n",
    "Financial institutions face increasing pressure to comply with stringent regulatory frameworks governing customer onboarding, Know Your Customer (KYC), Customer Due Diligence (CDD), Enhanced Due Diligence (EDD), Anti-Money Laundering (AML), Counter Terrorism Financing, Counter Proliferation Financing (CPF), and sanctions screening. These obligations are complex, continuously evolving, and vary across jurisdictions.\n",
    "\n",
    "Staff often face difficulties accessing and interpreting regulatory documents and internal policies, leading to:\n",
    "-\tDelays in onboarding, affecting customer experience and revenue.\n",
    "-\tInconsistent application of compliance procedures.\n",
    "-\tOverdependence on compliance officers for basic guidance.\n",
    "-\tIncreased risk of regulatory breaches which may lead to fining by regulators and put the bank at risk of its license being suspended.\n",
    "\n",
    "\n",
    "\n"
   ]
  },
  {
   "cell_type": "markdown",
   "id": "3b06af7f",
   "metadata": {},
   "source": [
    "#  2. Business Objective\n",
    "\n",
    "a.)  Build a chatbot that retrieves accurate compliance information \n",
    "from the bank’s KYC/AML/CTF/CPF policies and responds to staff queries.\n"
   ]
  },
  {
   "cell_type": "markdown",
   "id": "7b5d1ad0",
   "metadata": {},
   "source": [
    "\n",
    "## 3. Target Audience\n",
    "\n",
    "a.) Front office / Relationship Managers (who onboard customers)\n",
    "\n",
    "b.)  Operations staff (who process documents)\n",
    "\n",
    "c.) Compliance officers (for guidance validation)\n",
    "\n",
    "d.) New staff (as a training tool)\n",
    "\n",
    "e.) Risk & Audit teams (for oversight)\n",
    "\n",
    "\n",
    "##  4. Data Understanding\n",
    "Data Source: \n",
    "a. Internal compliance policy, stored in Word (.docx) format,  Contains: KYC procedures, AML red flags, CDD/EDD checklists, risk rating methodology, regulatory guidelines (FATF, CBK, CMA)\n",
    "\n",
    "Data Characteristics:Unstructured text (paragraphs, checklists), Multiple sections (policies, procedures, workflows), Needs preprocessing before AI ingestion\n"
   ]
  },
  {
   "cell_type": "markdown",
   "id": "9cfb0a67",
   "metadata": {},
   "source": [
    "### 1. Loading Data"
   ]
  },
  {
   "cell_type": "code",
   "execution_count": 1,
   "id": "cd5b24c8",
   "metadata": {},
   "outputs": [
    {
     "name": "stderr",
     "output_type": "stream",
     "text": [
      "c:\\Users\\Administrator\\anaconda31\\envs\\learn-env\\lib\\site-packages\\numpy\\_distributor_init.py:30: UserWarning: loaded more than 1 DLL from .libs:\n",
      "c:\\Users\\Administrator\\anaconda31\\envs\\learn-env\\lib\\site-packages\\numpy\\.libs\\libopenblas.WCDJNK7YVMPZQ2ME2ZZHJJRJ3JIKNDB7.gfortran-win_amd64.dll\n",
      "c:\\Users\\Administrator\\anaconda31\\envs\\learn-env\\lib\\site-packages\\numpy\\.libs\\libopenblas64__v0.3.21-gcc_10_3_0.dll\n",
      "  warnings.warn(\"loaded more than 1 DLL from .libs:\"\n"
     ]
    }
   ],
   "source": [
    "# importing libraries\n",
    "import pandas as pd\n",
    "import docx as docx\n",
    "from docx.shared import Pt\n",
    "\n",
    "import os\n",
    "\n",
    "import matplotlib.pyplot as plt\n",
    "import re\n",
    "import unicodedata\n",
    "\n",
    "import os, textwrap\n",
    "\n",
    "# Ensure TensorFlow is disabled (avoids keras issues)\n",
    "os.environ[\"USE_TF\"] = \"0\"\n",
    "os.environ[\"TRANSFORMERS_NO_TF\"] = \"1\"\n",
    "\n",
    "from sentence_transformers import SentenceTransformer\n",
    "import faiss\n",
    "import numpy as np\n",
    "\n"
   ]
  },
  {
   "cell_type": "markdown",
   "id": "8abdb4a8",
   "metadata": {},
   "source": [
    "### Load the raw document (.docx) "
   ]
  },
  {
   "cell_type": "code",
   "execution_count": 2,
   "id": "274ab104",
   "metadata": {},
   "outputs": [
    {
     "name": "stdout",
     "output_type": "stream",
     "text": [
      "OPENING OF ACCOUNTS\n",
      "TABLE OF CONTENTS\n",
      "1\tINTRODUCTION\t11\n",
      "1.1\tGeneral\t11\n",
      "2\tACCOUNT OPENING REQUIREMENTS\t11\n",
      "2.1\tKnow Your Customer (KYC)\t11\n",
      "2.2\tAccount Opening Requirements on Referee\t11\n",
      "2.3\tDocumentation Required for Account Opening\t12\n",
      "2.4\tAccount Opening Requirements for Foreign Nationals\t34\n",
      "2.4.1\tResident Foreign Nationals\t34\n",
      "2.4.2\tAccount Opening Requirements for Non-Resident Foreign Nationals (As Per CBK Prudential Guidelines).\t35\n",
      "2.4.3\tMinimum requirements for Resident Foreigners\t35\n",
      "2.4.4\tAcc\n"
     ]
    }
   ],
   "source": [
    "from docx import Document\n",
    "\n",
    "def load_docx(file_path):\n",
    "    doc = Document(file_path)\n",
    "    return \"\\n\".join([para.text for para in doc.paragraphs if para.text.strip()])\n",
    "\n",
    "# Use the correct relative path\n",
    "text = load_docx(r\"Data\\SEC5 - OPENING OF ACCOUNTS (004).docx.docx\")\n",
    "print(text[:500])  # preview first 500 characters\n"
   ]
  },
  {
   "cell_type": "markdown",
   "id": "de32251a",
   "metadata": {},
   "source": [
    "### Data Preprocessing\n",
    "- Clean & normalize text — Notebook cells"
   ]
  },
  {
   "cell_type": "code",
   "execution_count": 3,
   "id": "73ed1d8b",
   "metadata": {},
   "outputs": [
    {
     "name": "stdout",
     "output_type": "stream",
     "text": [
      "Working dir: c:\\Users\\Administrator\\Documents\\Phase 5\\project 1\\Group_5_Capstone_Project\n",
      "Text variable exists: True\n"
     ]
    }
   ],
   "source": [
    "print(\"Working dir:\", os.getcwd()) # confirm working directory\n",
    "print(\"Text variable exists:\", 'text' in globals()) # confirm text variable is loaded"
   ]
  },
  {
   "cell_type": "markdown",
   "id": "56c0f6c0",
   "metadata": {},
   "source": [
    "Before proceeding, we run two quick checks:\n",
    "\n",
    "1. **Working Directory**  \n",
    "   - `os.getcwd()` prints the current working directory.  \n",
    "   - This confirms that we are running inside the expected project folder (so relative paths like `Data/...` will work correctly).\n",
    "\n",
    "2. **Text Variable Exists**  \n",
    "   - `'text' in globals()` checks whether the variable `text` is already loaded into memory.  \n",
    "   - If it prints `True`, it means our document content was successfully read and stored.  \n",
    "   - If `False`, we need to go back and ensure the `.docx` file was properly loaded.  \n",
    "\n"
   ]
  },
  {
   "cell_type": "code",
   "execution_count": 4,
   "id": "2cce8739",
   "metadata": {},
   "outputs": [
    {
     "name": "stdout",
     "output_type": "stream",
     "text": [
      "\n",
      "--- ORIGINAL STATS ---\n",
      "Characters: 165696\n",
      "Words: 26098\n",
      "Non-empty lines: 2529\n",
      "\n",
      "--- PREVIEW (first 1000 chars) ---\n",
      "\n",
      "OPENING OF ACCOUNTS TABLE OF CONTENTS 1       INTRODUCTION    11 1.1     General 11 2       ACCOUNT OPENING REQUIREMENTS\n",
      "11 2.1     Know Your Customer (KYC)        11 2.2     Account Opening Requirements on Referee 11 2.3     Documentation\n",
      "Required for Account Opening      12 2.4     Account Opening Requirements for Foreign Nationals      34 2.4.1   Resident\n",
      "Foreign Nationals      34 2.4.2   Account Opening Requirements for Non-Resident Foreign Nationals (As Per CBK Prudential\n",
      "Guidelines).     35 2.4.3   Minimum requirements for Resident Foreigners    35 2.4.4   Account Opening Requirements for\n",
      "Companies with Foreign Nationals as Directors  35 2.4.5   Account Opening Requirements for Temporary Residents\n",
      "(Students, Spouses, Attaché’s to Foreign Missions in Kenya, Next Of Kin etc.)      36 2.4.6   Non-resident Foreigners 36\n",
      "2.5     Account Opening Requirements for Scrap Metal Dealers    36 2.5.1   Additional Account opening requirements for\n",
      "Scrap Metal Dealers 36 2.6     Requirements for Opening a Medical Fund Account 37 2.7     Account Opening Requirements\n",
      "for Religious Organizations\n"
     ]
    }
   ],
   "source": [
    "\n",
    "orig = text  # your loaded document text\n",
    "print(\"\\n--- ORIGINAL STATS ---\")\n",
    "print(\"Characters:\", len(orig))\n",
    "print(\"Words:\", len(orig.split()))\n",
    "non_empty_lines = [L for L in orig.splitlines() if L.strip()]\n",
    "print(\"Non-empty lines:\", len(non_empty_lines))\n",
    "print(\"\\n--- PREVIEW (first 1000 chars) ---\\n\")\n",
    "print(textwrap.fill(orig[:1000], width=120))\n"
   ]
  },
  {
   "cell_type": "code",
   "execution_count": 5,
   "id": "f9539bad",
   "metadata": {},
   "outputs": [],
   "source": [
    "def clean_text(\n",
    "    text,\n",
    "    lowercase=False, # keep case by default (recommended for embeddings)\n",
    "    remove_empty_lines=True,\n",
    "    normalize_unicode=True,\n",
    "    normalize_whitespace=True,\n",
    "    remove_page_numbers=True\n",
    "):\n",
    "    \"\"\"\n",
    "    Clean and normalize a document string.\n",
    "\n",
    "    - normalize_unicode: use NFKC normalization (fixes weird unicode forms)\n",
    "    - remove_page_numbers: drop standalone numeric lines like \"1\" or \"Page 1\"\n",
    "    - remove_empty_lines: remove empty/blank lines and collapse into paragraphs\n",
    "    - normalize_whitespace: collapse repeated spaces/tabs/newlines\n",
    "    - lowercase: optional - keep off by default (recommended: keep case for embeddings)\n",
    "    \"\"\"\n",
    "    if normalize_unicode:\n",
    "        text = unicodedata.normalize(\"NFKC\", text)\n",
    "\n",
    "    # Normalize line endings\n",
    "    text = text.replace(\"\\r\\n\", \"\\n\").replace(\"\\r\", \"\\n\")\n",
    "\n",
    "    # Replace non-breaking spaces\n",
    "    text = text.replace(\"\\u00A0\", \" \")\n",
    "\n",
    "    # Normalize common smart quotes to ascii quotes\n",
    "    text = text.replace(\"“\", '\"').replace(\"”\", '\"').replace(\"‘\", \"'\").replace(\"’\", \"'\")\n",
    "\n",
    "    # Remove unprintable control characters (keep \\n and \\t)\n",
    "    text = \"\".join(ch for ch in text if ch.isprintable() or ch in \"\\n\\t\")\n",
    "\n",
    "    # Optionally drop page headers/footers that look like \"Page 1\" or just \"1\"\n",
    "    if remove_page_numbers:\n",
    "        out_lines = []\n",
    "        for line in text.split(\"\\n\"):\n",
    "            s = line.strip()\n",
    "            # common patterns to remove\n",
    "            if re.fullmatch(r'page\\s*\\d+', s, flags=re.IGNORECASE):\n",
    "                continue\n",
    "            if re.fullmatch(r'\\d{1,4}', s):  # standalone numbers (likely page numbers)\n",
    "                continue\n",
    "            out_lines.append(line)\n",
    "        text = \"\\n\".join(out_lines)\n",
    "\n",
    "    # Trim each line, optionally remove empty lines and join paragraphs with a blank line\n",
    "    if remove_empty_lines:\n",
    "        lines = [line.strip() for line in text.split(\"\\n\")]\n",
    "        lines = [line for line in lines if line != \"\"]  # drop blank lines\n",
    "        # join paragraphs with a double newline (keeps paragraph boundaries)\n",
    "        text = \"\\n\\n\".join(lines)\n",
    "\n",
    "    # Normalize internal whitespace\n",
    "    if normalize_whitespace:\n",
    "        # collapse multiple spaces/tabs to single space\n",
    "        text = re.sub(r'[ \\t]+', ' ', text)\n",
    "        # collapse 3+ newlines to two (we keep paragraph separation)\n",
    "        text = re.sub(r'\\n{3,}', '\\n\\n', text)\n",
    "        text = text.strip()\n",
    "\n",
    "    if lowercase:\n",
    "        text = text.lower()\n",
    "\n",
    "    return text\n"
   ]
  },
  {
   "cell_type": "markdown",
   "id": "6c55af8c",
   "metadata": {},
   "source": [
    "### Text Cleaning Function\n",
    "\n",
    "The clean_text() function standardizes and cleans raw document text before further processing chunking and embeddings\n",
    "\n",
    "Unicode- Ensures consistent text representation by converting weird or non-standard Unicode characters into their normalized form\n",
    "\n"
   ]
  },
  {
   "cell_type": "code",
   "execution_count": 6,
   "id": "aa795fd8",
   "metadata": {},
   "outputs": [
    {
     "name": "stdout",
     "output_type": "stream",
     "text": [
      "ORIGINAL: chars = 165696 words = 26098\n",
      "CLEANED : chars = 167563 words = 26098\n"
     ]
    }
   ],
   "source": [
    "# Apply cleaning, show before/after\n",
    "cleaned = clean_text(text, lowercase=False)   # keep case by default\n",
    "\n",
    "print(\"ORIGINAL: chars =\", len(text), \"words =\", len(text.split()))\n",
    "print(\"CLEANED : chars =\", len(cleaned), \"words =\", len(cleaned.split()))"
   ]
  },
  {
   "cell_type": "code",
   "execution_count": 7,
   "id": "fdda6cc7",
   "metadata": {},
   "outputs": [
    {
     "name": "stdout",
     "output_type": "stream",
     "text": [
      "\n",
      "--- CLEANED PREVIEW ---\n",
      "\n",
      "OPENING OF ACCOUNTS\n",
      "\n",
      "TABLE OF CONTENTS\n",
      "\n",
      "1 INTRODUCTION 11\n",
      "\n",
      "1.1 General 11\n",
      "\n",
      "2 ACCOUNT OPENING REQUIREMENTS 11\n",
      "\n",
      "2.1 Know Your Customer (KYC) 11\n",
      "\n",
      "2.2 Account Opening Requirements on Referee 11\n",
      "\n",
      "2.3 Documentation Required for Account Opening 12\n",
      "\n",
      "2.4 Account Opening Requirements for Foreign Nationals 34\n",
      "\n",
      "2.4.1 Resident Foreign Nationals 34\n",
      "\n",
      "2.4.2 Account Opening Requirements for Non-Resident Foreign Nationals (As Per CBK Prudential Guidelines). 35\n",
      "\n",
      "2.4.3 Minimum requirements for Resident Foreigners 3\n"
     ]
    }
   ],
   "source": [
    "# preview first 500 chars of cleaned text\n",
    "print(\"\\n--- CLEANED PREVIEW ---\\n\")\n",
    "print(cleaned[:500])"
   ]
  },
  {
   "cell_type": "code",
   "execution_count": 8,
   "id": "6e5e2314",
   "metadata": {},
   "outputs": [
    {
     "name": "stdout",
     "output_type": "stream",
     "text": [
      "\n",
      "Saved cleaned text to: Data/SEC5 - OPENING OF ACCOUNTS (004)_cleaned.txt\n"
     ]
    }
   ],
   "source": [
    "# save cleaned text to file\n",
    "out_path = r\"Data/SEC5 - OPENING OF ACCOUNTS (004)_cleaned.txt\"\n",
    "with open(out_path, \"w\", encoding=\"utf-8\") as f:\n",
    "    f.write(cleaned)\n",
    "\n",
    "print(\"\\nSaved cleaned text to:\", out_path)\n"
   ]
  },
  {
   "cell_type": "markdown",
   "id": "0b2211c8",
   "metadata": {},
   "source": [
    "## Explatory Data Analysis"
   ]
  },
  {
   "cell_type": "markdown",
   "id": "148bc5f4",
   "metadata": {},
   "source": [
    "### Visual to show Original and Cleaned"
   ]
  },
  {
   "cell_type": "code",
   "execution_count": 9,
   "id": "bc66f9f3",
   "metadata": {},
   "outputs": [
    {
     "data": {
      "image/png": "[encoded data removed]",
      "text/plain": [
       "<Figure size 576x360 with 1 Axes>"
      ]
     },
     "metadata": {
      "needs_background": "light"
     },
     "output_type": "display_data"
    }
   ],
   "source": [
    "# Compute stats\n",
    "stats = {\n",
    "    \"Original\": {\"chars\": len(text), \"words\": len(text.split())},\n",
    "    \"Cleaned\": {\"chars\": len(cleaned), \"words\": len(cleaned.split())}\n",
    "}\n",
    "\n",
    "labels = list(stats.keys())\n",
    "chars = [stats[label][\"chars\"] for label in labels]\n",
    "words = [stats[label][\"words\"] for label in labels]\n",
    "\n",
    "# Plot\n",
    "fig, ax = plt.subplots(figsize=(8,5))\n",
    "\n",
    "bar_width = 0.35\n",
    "x = range(len(labels))\n",
    "\n",
    "# Two bars for chars and words\n",
    "ax.bar(x, chars, width=bar_width, label='Characters', color='skyblue')\n",
    "ax.bar([i + bar_width for i in x], words, width=bar_width, label='Words', color='salmon')\n",
    "\n",
    "ax.set_xticks([i + bar_width/2 for i in x])\n",
    "ax.set_xticklabels(labels)\n",
    "ax.set_ylabel('Count')\n",
    "ax.set_title('Document Size Before and After Cleaning')\n",
    "ax.legend()\n",
    "\n",
    "plt.show()\n"
   ]
  },
  {
   "cell_type": "code",
   "execution_count": 10,
   "id": "424aba22",
   "metadata": {},
   "outputs": [
    {
     "name": "stdout",
     "output_type": "stream",
     "text": [
      "Metric       |   Original |    Cleaned\n",
      "------------------------------------\n",
      "Characters   |     165696 |     167563\n",
      "Words        |      26098 |      26098\n"
     ]
    }
   ],
   "source": [
    "# compute stats\n",
    "original_chars, original_words = len(text), len(text.split())\n",
    "cleaned_chars, cleaned_words = len(cleaned), len(cleaned.split())\n",
    "\n",
    "# print as table\n",
    "print(f\"{'Metric':<12} | {'Original':>10} | {'Cleaned':>10}\")\n",
    "print(\"-\" * 36)\n",
    "print(f\"{'Characters':<12} | {original_chars:>10} | {cleaned_chars:>10}\")\n",
    "print(f\"{'Words':<12} | {original_words:>10} | {cleaned_words:>10}\")\n"
   ]
  },
  {
   "cell_type": "markdown",
   "id": "09db450c",
   "metadata": {},
   "source": [
    "The cleaning step successfully reduces minor noise without compromising meaningful content, making the document suitable for further processing."
   ]
  },
  {
   "cell_type": "markdown",
   "id": "73a808a1",
   "metadata": {},
   "source": [
    "### Spliting Text into Chunks"
   ]
  },
  {
   "cell_type": "code",
   "execution_count": 11,
   "id": "1eb49436",
   "metadata": {},
   "outputs": [
    {
     "name": "stdout",
     "output_type": "stream",
     "text": [
      "Number of chunks: 320\n",
      "\n",
      "--- Sample chunk ---\n",
      "\n",
      "OPENING OF ACCOUNTS\n",
      "\n",
      "TABLE OF CONTENTS\n",
      "\n",
      "1 INTRODUCTION 11\n",
      "\n",
      "1.1 General 11\n",
      "\n",
      "2 ACCOUNT OPENING REQUIREMENTS 11\n",
      "\n",
      "2.1 Know Your Customer (KYC) 11\n",
      "\n",
      "2.2 Account Opening Requirements on Referee 11\n",
      "\n",
      "2.3 Documentation Required for Account Opening 12\n",
      "\n",
      "2.4 Account Opening Requirements for Foreign Nationals 34\n",
      "\n",
      "2.4.1 Resident Foreign Nationals 34\n",
      "\n",
      "2.4.2 Account Opening Requirements for Non-Resident Foreign Nationals (As Per CBK Prudential Guidelines).\n"
     ]
    }
   ],
   "source": [
    "def split_text_into_chunks(text, max_chars=500, overlap=50):\n",
    "    \"\"\"\n",
    "    Splits text into chunks of max_chars with optional overlap.\n",
    "    Keeps sentences intact (splits on punctuation).\n",
    "    \"\"\"\n",
    "    # Split text into sentences\n",
    "    sentences = re.split(r'(?<=[.!?]) +', text)\n",
    "    \n",
    "    chunks = []\n",
    "    current_chunk = \"\"\n",
    "    \n",
    "    for sentence in sentences:\n",
    "        if len(current_chunk) + len(sentence) <= max_chars:\n",
    "            current_chunk += \" \" + sentence if current_chunk else sentence\n",
    "        else:\n",
    "            chunks.append(current_chunk.strip())\n",
    "            # start new chunk with overlap\n",
    "            current_chunk = \" \".join(current_chunk.split()[-overlap:]) + \" \" + sentence if overlap else sentence\n",
    "\n",
    "    # Add last chunk\n",
    "    if current_chunk:\n",
    "        chunks.append(current_chunk.strip())\n",
    "    \n",
    "    return chunks\n",
    "\n",
    "# Apply chunking\n",
    "chunks = split_text_into_chunks(cleaned, max_chars=500, overlap=50)\n",
    "\n",
    "print(\"Number of chunks:\", len(chunks))\n",
    "print(\"\\n--- Sample chunk ---\\n\")\n",
    "print(chunks[0])\n"
   ]
  },
  {
   "cell_type": "markdown",
   "id": "0ce5f5b9",
   "metadata": {},
   "source": [
    "A histogram to show if there are outliers in the Chunks"
   ]
  },
  {
   "cell_type": "code",
   "execution_count": 12,
   "id": "a17e5ab0",
   "metadata": {},
   "outputs": [
    {
     "data": {
      "image/png": "[encoded data removed]",
      "text/plain": [
       "<Figure size 720x360 with 1 Axes>"
      ]
     },
     "metadata": {
      "needs_background": "light"
     },
     "output_type": "display_data"
    }
   ],
   "source": [
    "# Compute number of words in each chunk\n",
    "chunk_lengths = [len(chunk.split()) for chunk in chunks]\n",
    "\n",
    "# Create a histogram\n",
    "plt.figure(figsize=(10,5))\n",
    "plt.hist(chunk_lengths, bins=20, color='lightgreen', edgecolor='black')\n",
    "plt.xlabel(\"Number of Words per Chunk\")\n",
    "plt.ylabel(\"Frequency\")\n",
    "plt.title(\"Distribution of Text Chunk Sizes\")\n",
    "plt.show()\n"
   ]
  },
  {
   "cell_type": "markdown",
   "id": "b8c0a54a",
   "metadata": {},
   "source": [
    "The chunk size distribution is centered around ~500 words, which aligns well with our target for embeddings. This indicates a mostly consistent chunking strategy. However, the histogram reveals a tail of smaller chunks (<200 words) and some oversized chunks (>800 words). These could impact efficiency: small chunks may not carry enough semantic content, while large ones risk exceeding model context limits. "
   ]
  },
  {
   "cell_type": "markdown",
   "id": "93c0ff7a",
   "metadata": {},
   "source": [
    "### Handling outliers in chunk sizes\n",
    "- Merge very small chunks with their neighbors (to avoid low-content pieces).\n",
    "- Split very large chunks into smaller ones (to stay within context limits)."
   ]
  },
  {
   "cell_type": "code",
   "execution_count": 14,
   "id": "61a46e70",
   "metadata": {},
   "outputs": [
    {
     "name": "stdout",
     "output_type": "stream",
     "text": [
      "Original chunks: 320\n",
      "Balanced chunks: 109\n"
     ]
    }
   ],
   "source": [
    "def balance_chunks(chunks, min_words=300, max_words=600):\n",
    "    \"\"\"\n",
    "    Adjust chunk sizes by merging small chunks and splitting large ones.\n",
    "    \n",
    "    Args:\n",
    "        chunks (list[str]): List of text chunks.\n",
    "        min_words (int): Minimum acceptable word count.\n",
    "        max_words (int): Maximum acceptable word count.\n",
    "        \n",
    "    Returns:\n",
    "        list[str]: Adjusted list of chunks.\n",
    "    \"\"\"\n",
    "    adjusted_chunks = []\n",
    "    buffer = \"\"\n",
    "\n",
    "    for chunk in chunks:\n",
    "        words = chunk.split()\n",
    "\n",
    "        # Case 1: Oversized chunk → split into smaller pieces\n",
    "        if len(words) > max_words:\n",
    "            for i in range(0, len(words), max_words):\n",
    "                adjusted_chunks.append(\" \".join(words[i:i+max_words]))\n",
    "\n",
    "        # Case 2: Small chunk → merge with buffer until it's big enough\n",
    "        elif len(words) < min_words:\n",
    "            buffer += \" \" + \" \".join(words)\n",
    "            if len(buffer.split()) >= min_words:\n",
    "                adjusted_chunks.append(buffer.strip())\n",
    "                buffer = \"\"\n",
    "\n",
    "        # Case 3: Normal chunk → keep as is\n",
    "        else:\n",
    "            adjusted_chunks.append(\" \".join(words))\n",
    "\n",
    "    # Flush any leftover buffer\n",
    "    if buffer.strip():\n",
    "        adjusted_chunks.append(buffer.strip())\n",
    "\n",
    "    return adjusted_chunks\n",
    "\n",
    "\n",
    "# Example usage\n",
    "balanced_chunks = balance_chunks(chunks, min_words=300, max_words=600)\n",
    "\n",
    "print(f\"Original chunks: {len(chunks)}\")\n",
    "print(f\"Balanced chunks: {len(balanced_chunks)}\")\n"
   ]
  },
  {
   "cell_type": "markdown",
   "id": "90f99e5f",
   "metadata": {},
   "source": [
    "2. Vectorization (Feature Engineering)\n"
   ]
  },
  {
   "cell_type": "markdown",
   "id": "f6fa1047",
   "metadata": {},
   "source": [
    "- Using Sentence Embeddings (Recommended for Semantic Search / NLP tasks)"
   ]
  },
  {
   "cell_type": "code",
   "execution_count": 15,
   "id": "445d7269",
   "metadata": {},
   "outputs": [
    {
     "data": {
      "application/vnd.jupyter.widget-view+json": {
       "model_id": "088c87ef3736448b8ae3ce131b6d0cc7",
       "version_major": 2,
       "version_minor": 0
      },
      "text/plain": [
       "modules.json:   0%|          | 0.00/349 [00:00<?, ?B/s]"
      ]
     },
     "metadata": {},
     "output_type": "display_data"
    },
    {
     "data": {
      "application/vnd.jupyter.widget-view+json": {
       "model_id": "6ffaa01db17f4925b6ae8532f5d6e663",
       "version_major": 2,
       "version_minor": 0
      },
      "text/plain": [
       "config_sentence_transformers.json:   0%|          | 0.00/116 [00:00<?, ?B/s]"
      ]
     },
     "metadata": {},
     "output_type": "display_data"
    },
    {
     "data": {
      "application/vnd.jupyter.widget-view+json": {
       "model_id": "e74e33c30d15439f9974e03282b193f3",
       "version_major": 2,
       "version_minor": 0
      },
      "text/plain": [
       "README.md: 0.00B [00:00, ?B/s]"
      ]
     },
     "metadata": {},
     "output_type": "display_data"
    },
    {
     "data": {
      "application/vnd.jupyter.widget-view+json": {
       "model_id": "3a587ad67ebf4b5a9d299600e0a0bc4a",
       "version_major": 2,
       "version_minor": 0
      },
      "text/plain": [
       "sentence_bert_config.json:   0%|          | 0.00/53.0 [00:00<?, ?B/s]"
      ]
     },
     "metadata": {},
     "output_type": "display_data"
    },
    {
     "data": {
      "application/vnd.jupyter.widget-view+json": {
       "model_id": "5709fbe1be2b40d4aae051fa4958cc26",
       "version_major": 2,
       "version_minor": 0
      },
      "text/plain": [
       "config.json:   0%|          | 0.00/612 [00:00<?, ?B/s]"
      ]
     },
     "metadata": {},
     "output_type": "display_data"
    },
    {
     "name": "stderr",
     "output_type": "stream",
     "text": [
      "Xet Storage is enabled for this repo, but the 'hf_xet' package is not installed. Falling back to regular HTTP download. For better performance, install the package with: `pip install huggingface_hub[hf_xet]` or `pip install hf_xet`\n"
     ]
    },
    {
     "data": {
      "application/vnd.jupyter.widget-view+json": {
       "model_id": "72853d478e48404ea5dd00640fb8f79c",
       "version_major": 2,
       "version_minor": 0
      },
      "text/plain": [
       "model.safetensors:   0%|          | 0.00/90.9M [00:00<?, ?B/s]"
      ]
     },
     "metadata": {},
     "output_type": "display_data"
    },
    {
     "data": {
      "application/vnd.jupyter.widget-view+json": {
       "model_id": "61bc5562512742348d6062c9392c075b",
       "version_major": 2,
       "version_minor": 0
      },
      "text/plain": [
       "tokenizer_config.json:   0%|          | 0.00/350 [00:00<?, ?B/s]"
      ]
     },
     "metadata": {},
     "output_type": "display_data"
    },
    {
     "data": {
      "application/vnd.jupyter.widget-view+json": {
       "model_id": "41621f19088a45a8908657013f76669e",
       "version_major": 2,
       "version_minor": 0
      },
      "text/plain": [
       "vocab.txt: 0.00B [00:00, ?B/s]"
      ]
     },
     "metadata": {},
     "output_type": "display_data"
    },
    {
     "data": {
      "application/vnd.jupyter.widget-view+json": {
       "model_id": "18e82793977f47b198643f13379c17bb",
       "version_major": 2,
       "version_minor": 0
      },
      "text/plain": [
       "tokenizer.json: 0.00B [00:00, ?B/s]"
      ]
     },
     "metadata": {},
     "output_type": "display_data"
    },
    {
     "data": {
      "application/vnd.jupyter.widget-view+json": {
       "model_id": "fba4f92833934827b3a6c1d3a5ffe067",
       "version_major": 2,
       "version_minor": 0
      },
      "text/plain": [
       "special_tokens_map.json:   0%|          | 0.00/112 [00:00<?, ?B/s]"
      ]
     },
     "metadata": {},
     "output_type": "display_data"
    },
    {
     "data": {
      "application/vnd.jupyter.widget-view+json": {
       "model_id": "3263e320d5da4f8d8bf0089c5bc05b2a",
       "version_major": 2,
       "version_minor": 0
      },
      "text/plain": [
       "config.json:   0%|          | 0.00/190 [00:00<?, ?B/s]"
      ]
     },
     "metadata": {},
     "output_type": "display_data"
    },
    {
     "name": "stdout",
     "output_type": "stream",
     "text": [
      "Number of chunks: 320\n",
      "Embedding dimension: 384\n"
     ]
    }
   ],
   "source": [
    "from sentence_transformers import SentenceTransformer\n",
    "\n",
    "# Load model (MiniLM is fast and effective)\n",
    "model = SentenceTransformer('all-MiniLM-L6-v2')\n",
    "\n",
    "# Example: your chunks list\n",
    "# chunks = [\"chunk1 text...\", \"chunk2 text...\", ...]\n",
    "\n",
    "# Compute embeddings\n",
    "embeddings = model.encode(chunks, convert_to_numpy=True)\n",
    "\n",
    "print(\"Number of chunks:\", len(chunks))\n",
    "print(\"Embedding dimension:\", embeddings.shape[1])\n"
   ]
  },
  {
   "cell_type": "code",
   "execution_count": 17,
   "id": "9d164367",
   "metadata": {},
   "outputs": [
    {
     "name": "stdout",
     "output_type": "stream",
     "text": [
      " Saved 320 chunks with embeddings to Data/SEC5_embeddings.pkl\n"
     ]
    }
   ],
   "source": [
    "import pickle\n",
    "import os\n",
    "\n",
    "# Suppose you have:\n",
    "# chunks -> list of text chunks\n",
    "# embeddings -> list or np.array of embeddings\n",
    "\n",
    "# Combine text and embeddings\n",
    "data = [{\"chunk\": chunk, \"embedding\": emb} for chunk, emb in zip(chunks, embeddings)]\n",
    "\n",
    "# Define output path\n",
    "out_path = r\"Data/SEC5_embeddings.pkl\"\n",
    "\n",
    "# Save to file\n",
    "with open(out_path, \"wb\") as f:\n",
    "    pickle.dump(data, f)\n",
    "\n",
    "print(f\" Saved {len(data)} chunks with embeddings to {out_path}\")\n"
   ]
  },
  {
   "cell_type": "markdown",
   "id": "74c15f82",
   "metadata": {},
   "source": [
    "Embedding Saved Chunks\n",
    "\n",
    "We have split the cleaned document into 320 text chunks to avoid cutting off sentences and preserve context.\n",
    "\n",
    "Using sentence-transformers (all-MiniLM-L6-v2), each chunk was converted into a 384-dimensional embedding vector.\n",
    "\n",
    "The chunks and their embeddings are saved as a pickle file (Data/SEC5_embeddings.pkl) for easy reuse, avoiding repeated computation.\n",
    "\n",
    "These saved embeddings can now be reloaded for semantic search, clustering, or other downstream tasks, ensuring efficiency and reproducibility."
   ]
  },
  {
   "cell_type": "markdown",
   "id": "0a446090",
   "metadata": {},
   "source": [
    "3. Indexing / Storing\n"
   ]
  },
  {
   "cell_type": "markdown",
   "id": "03074231",
   "metadata": {},
   "source": [
    "Preparing your embeddings for fast retrieval, often using a vector database or a similarity search library-the next step is to load them and store them in a structure that allows fast semantic search."
   ]
  },
  {
   "cell_type": "markdown",
   "id": "ed3b6823",
   "metadata": {},
   "source": [
    "Common approach using FAISS (Facebook AI Similarity Search) for efficient vector indexing:"
   ]
  },
  {
   "cell_type": "code",
   "execution_count": 18,
   "id": "2a038c88",
   "metadata": {},
   "outputs": [
    {
     "name": "stdout",
     "output_type": "stream",
     "text": [
      "Embeddings shape: (320, 384)\n",
      "Number of vectors in index: 320\n",
      "FAISS index saved to Data/SEC5_faiss.index\n"
     ]
    }
   ],
   "source": [
    "import pickle\n",
    "import faiss\n",
    "import numpy as np\n",
    "\n",
    "# === Step 1: Load saved embeddings ===\n",
    "with open(r\"Data/SEC5_embeddings.pkl\", \"rb\") as f:\n",
    "    data = pickle.load(f)\n",
    "\n",
    "# Extract embeddings as a NumPy array\n",
    "embeddings = np.array([item[\"embedding\"] for item in data], dtype='float32')\n",
    "print(\"Embeddings shape:\", embeddings.shape)\n",
    "\n",
    "# === Step 2: Build FAISS index ===\n",
    "dimension = embeddings.shape[1]  # 384 for MiniLM-L6-v2\n",
    "index = faiss.IndexFlatL2(dimension)  # L2 distance; use IndexFlatIP for cosine similarity\n",
    "index.add(embeddings)\n",
    "print(\"Number of vectors in index:\", index.ntotal)\n",
    "\n",
    "# === Step 3: Optional – save index to disk ===\n",
    "faiss.write_index(index, r\"Data/SEC5_faiss.index\")\n",
    "print(\"FAISS index saved to Data/SEC5_faiss.index\")\n"
   ]
  },
  {
   "cell_type": "markdown",
   "id": "57738ff4",
   "metadata": {},
   "source": [
    "- We load the saved embeddings from the previous step.\n",
    "\n",
    "- Convert them to a NumPy array for FAISS.\n",
    "\n",
    "- Build a FAISS index for fast nearest-neighbor search.\n",
    "\n",
    "- ave the index for later use without recomputing embeddings."
   ]
  },
  {
   "cell_type": "code",
   "execution_count": 19,
   "id": "d4be64b4",
   "metadata": {},
   "outputs": [
    {
     "name": "stdout",
     "output_type": "stream",
     "text": [
      "FAISS index built with 320 vectors\n"
     ]
    },
    {
     "data": {
      "image/png": "[encoded data removed]",
      "text/plain": [
       "<Figure size 720x432 with 1 Axes>"
      ]
     },
     "metadata": {
      "needs_background": "light"
     },
     "output_type": "display_data"
    },
    {
     "name": "stdout",
     "output_type": "stream",
     "text": [
      "\n",
      "Rank 1 | Distance: 0.8468\n",
      "The Banks requires organizations such as companies, trusts and partnerships to have a certain number of directors, trustees, partners, or officers who are authorised signatories. It also requires rules about how such people access accounts. Bank officials are expected to act in accordance with the a...\n",
      "\n",
      "Rank 2 | Distance: 0.8815\n",
      "be processed in the same manner as in the case for a new application. Ex-staff enjoy a package of preferential rates apart from the dismissed staff members. Implications It is important that the required procedures for account opening are followed as stated above and as per the outlined process flow...\n",
      "\n",
      "Rank 3 | Distance: 0.9123\n",
      "SDO shall be presented with the dialogue box below according to the number of times they wish to create an account. The details on the dialogue box will be: Product ID Product Purpose of Accounts Account currency The subsequent accounts will take on the details of the first account opened. In cases ...\n",
      "\n",
      "Rank 4 | Distance: 0.9202\n",
      "Account) to open savings account or menu OCA (Open Current Account) to open a current account. Input Corporate CIF ID Select scheme code Select Currency from CCY field Click Go Button Select Statement frequency, Dispatch Mode Select Yes on Enable Pass Sheet Frequency at Related Party Select Alert re...\n",
      "\n",
      "Rank 5 | Distance: 0.9203\n",
      "or board resolution to freeze the account pending solution of a dispute Money laundering/terrorism financing Action to freeze the account shall be communicated to the customer. Requirements for Opening of Additional Accounts An additional account is an account opened for a customer who already has a...\n"
     ]
    }
   ],
   "source": [
    "import pickle\n",
    "import numpy as np\n",
    "import faiss\n",
    "import matplotlib.pyplot as plt\n",
    "\n",
    "# --- Load embeddings ---\n",
    "with open(r\"Data/SEC5_embeddings.pkl\", \"rb\") as f:\n",
    "    data = pickle.load(f)\n",
    "\n",
    "chunks = [d[\"chunk\"] for d in data]\n",
    "embeddings = np.array([d[\"embedding\"] for d in data], dtype='float32')\n",
    "\n",
    "# --- Build FAISS index ---\n",
    "embedding_dim = embeddings.shape[1]\n",
    "index = faiss.IndexFlatL2(embedding_dim)  # L2 distance\n",
    "index.add(embeddings)\n",
    "print(f\"FAISS index built with {index.ntotal} vectors\")\n",
    "\n",
    "# --- Example query ---\n",
    "query = \"Client opening a new bank account procedure\"\n",
    "from sentence_transformers import SentenceTransformer\n",
    "model = SentenceTransformer(\"all-MiniLM-L6-v2\")\n",
    "\n",
    "query_emb = model.encode([query], convert_to_numpy=True).astype('float32')\n",
    "\n",
    "k = 5  # top-k results\n",
    "distances, indices = index.search(query_emb, k)\n",
    "\n",
    "# --- Display results ---\n",
    "top_chunks = [chunks[i] for i in indices[0]]\n",
    "top_distances = distances[0]\n",
    "\n",
    "plt.figure(figsize=(10,6))\n",
    "plt.barh(range(k), top_distances, color='skyblue')\n",
    "plt.yticks(range(k), [f\"Chunk {i}\" for i in indices[0]])\n",
    "plt.gca().invert_yaxis()\n",
    "plt.xlabel(\"Distance (smaller = more similar)\")\n",
    "plt.title(\"Top-k Most Similar Chunks for Query\")\n",
    "plt.show()\n",
    "\n",
    "# Print chunks for reference\n",
    "for rank, (chunk, dist) in enumerate(zip(top_chunks, top_distances), start=1):\n",
    "    print(f\"\\nRank {rank} | Distance: {dist:.4f}\\n{chunk[:300]}...\")  # preview first 300 chars\n"
   ]
  },
  {
   "cell_type": "markdown",
   "id": "c78b091e",
   "metadata": {},
   "source": [
    "4. Modeling (Chatbot Logic)\n"
   ]
  },
  {
   "cell_type": "markdown",
   "id": "867d58a6",
   "metadata": {},
   "source": [
    "The goal here is to take a user query, find the most relevant chunks in your document using embeddings, and optionally generate a response (if using a language model).\n",
    "\n",
    "Core Steps:\n",
    "\n",
    "Take user query and generate its embedding.\n",
    "\n",
    "Search the index for top-k similar chunks.\n",
    "\n",
    "Retrieve these chunks as context.\n",
    "\n",
    "LLaMA model"
   ]
  },
  {
   "cell_type": "markdown",
   "id": "2e4842e7",
   "metadata": {},
   "source": [
    "Step 4.1 – Prepare the LLaMA Model"
   ]
  }
 ],
 "metadata": {
  "kernelspec": {
   "display_name": "learn-env",
   "language": "python",
   "name": "python3"
  },
  "language_info": {
   "codemirror_mode": {
    "name": "ipython",
    "version": 3
   },
   "file_extension": ".py",
   "mimetype": "text/x-python",
   "name": "python",
   "nbconvert_exporter": "python",
   "pygments_lexer": "ipython3",
   "version": "3.8.5"
  }
 },
 "nbformat": 4,
 "nbformat_minor": 5
}
